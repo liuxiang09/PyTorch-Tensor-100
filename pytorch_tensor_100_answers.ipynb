{
 "cells": [
  {
   "cell_type": "markdown",
   "metadata": {},
   "source": [
    "### 模块一：Tensor 的创建与属性 ✨\n",
    "这部分将带您熟悉创建张量的各种方式，并了解如何查看它们的基本属性。"
   ]
  },
  {
   "cell_type": "markdown",
   "metadata": {},
   "source": [
    "#### 1. 导入 PyTorch (★☆☆)\n",
    "任务: 导入 torch 和 numpy 库，并打印各自的版本号，这是使用 PyTorch 的第一步。"
   ]
  },
  {
   "cell_type": "code",
   "execution_count": 55,
   "metadata": {},
   "outputs": [
    {
     "name": "stdout",
     "output_type": "stream",
     "text": [
      "PyTorch 版本: 2.5.1+cu121\n",
      "NumPy 版本: 1.26.4\n"
     ]
    }
   ],
   "source": [
    "# 导入 torch 和 numpy 库\n",
    "import torch\n",
    "import numpy as np\n",
    "\n",
    "# 打印导入成功信息和版本号\n",
    "print(f\"PyTorch 版本: {torch.__version__}\")\n",
    "print(f\"NumPy 版本: {np.__version__}\")"
   ]
  },
  {
   "cell_type": "markdown",
   "metadata": {},
   "source": [
    "#### 2. 从 Python 列表与 NumPy 数组创建 (★☆☆)\n",
    "任务: 将一个 Python 列表 [[1, 2], [3, 4]] 和一个 NumPy 数组 np.array([[5, 6], [7, 8]]) 分别转换为 Tensor。"
   ]
  },
  {
   "cell_type": "code",
   "execution_count": 56,
   "metadata": {},
   "outputs": [
    {
     "name": "stdout",
     "output_type": "stream",
     "text": [
      "--- 从列表创建的 Tensor ---\n",
      "tensor([[1, 2],\n",
      "        [3, 4]])\n",
      "\n",
      "--- 从 NumPy 创建的 Tensor ---\n",
      "tensor([[5, 6],\n",
      "        [7, 8]])\n"
     ]
    }
   ],
   "source": [
    "# 定义一个 Python 列表\n",
    "data = [[1, 2], [3, 4]]\n",
    "# 创建一个 NumPy 数组\n",
    "np_arr = np.array([[5, 6], [7, 8]])\n",
    "\n",
    "# 从列表创建\n",
    "X = torch.tensor(data)\n",
    "# 从 NumPy 数组创建 (注意：会共享内存)\n",
    "Y = torch.from_numpy(np_arr)\n",
    "\n",
    "print(\"--- 从列表创建的 Tensor ---\")\n",
    "print(X)\n",
    "print(\"\\n--- 从 NumPy 创建的 Tensor ---\")\n",
    "print(Y)"
   ]
  },
  {
   "cell_type": "markdown",
   "metadata": {},
   "source": [
    "#### 3. 创建常量 Tensor (★☆☆)\n",
    "任务: 创建三个形状均为 (2, 3) 的张量：一个全零张量，一个全一张量，以及一个所有元素均为常数 7 的张量。"
   ]
  },
  {
   "cell_type": "code",
   "execution_count": 57,
   "metadata": {},
   "outputs": [
    {
     "name": "stdout",
     "output_type": "stream",
     "text": [
      "--- 全零 Tensor ---\n",
      "tensor([[0., 0., 0.],\n",
      "        [0., 0., 0.]])\n",
      "\n",
      "--- 全一 Tensor ---\n",
      "tensor([[1., 1., 1.],\n",
      "        [1., 1., 1.]])\n",
      "\n",
      "--- 填充为 7 的 Tensor ---\n",
      "tensor([[7, 7, 7],\n",
      "        [7, 7, 7]])\n"
     ]
    }
   ],
   "source": [
    "# 定义形状\n",
    "shape = (2, 3)\n",
    "\n",
    "# 创建全零、全一、全为7的张量\n",
    "t_zeros = torch.zeros(shape)\n",
    "t_ones = torch.ones(shape)\n",
    "t_sevens = torch.full(shape, 7)\n",
    "\n",
    "print(\"--- 全零 Tensor ---\")\n",
    "print(t_zeros)\n",
    "print(\"\\n--- 全一 Tensor ---\")\n",
    "print(t_ones)\n",
    "print(\"\\n--- 填充为 7 的 Tensor ---\")\n",
    "print(t_sevens)"
   ]
  },
  {
   "cell_type": "markdown",
   "metadata": {},
   "source": [
    "#### 4. 获取 Tensor 的核心属性 (★☆☆)\n",
    "任务: 对于给定的张量 X = torch.tensor([[1.0, 2.0], [3.0, 4.0]])，一次性打印出它的形状 (shape)、数据类型 (dtype) 和所在设备 (device)。"
   ]
  },
  {
   "cell_type": "code",
   "execution_count": 58,
   "metadata": {},
   "outputs": [
    {
     "name": "stdout",
     "output_type": "stream",
     "text": [
      "--- Tensor 的核心属性 ---\n",
      "形状 (Shape): torch.Size([2, 2])\n",
      "数据类型 (dtype): torch.float32\n",
      "所在设备 (device): cpu\n"
     ]
    }
   ],
   "source": [
    "# 创建一个示例张量\n",
    "X = torch.tensor([[1.0, 2.0], [3.0, 4.0]])\n",
    "\n",
    "# 获取并打印核心属性\n",
    "print(f\"--- Tensor 的核心属性 ---\")\n",
    "print(f\"形状 (Shape): {X.shape}\")\n",
    "print(f\"数据类型 (dtype): {X.dtype}\")\n",
    "print(f\"所在设备 (device): {X.device}\")"
   ]
  },
  {
   "cell_type": "markdown",
   "metadata": {},
   "source": [
    "#### 5. 创建指定数据类型的 Tensor (★☆☆)\n",
    "任务: 创建一个形状为 (2, 3)，数据类型为 torch.float16 (半精度浮点) 的全一 Tensor，并验证其数据类型。"
   ]
  },
  {
   "cell_type": "code",
   "execution_count": 59,
   "metadata": {},
   "outputs": [
    {
     "name": "stdout",
     "output_type": "stream",
     "text": [
      "--- 创建的 Tensor ---\n",
      "tensor([[1., 1., 1.],\n",
      "        [1., 1., 1.]], dtype=torch.float16)\n",
      "\n",
      "--- 验证其数据类型 ---\n",
      "torch.float16\n"
     ]
    }
   ],
   "source": [
    "# 定义形状和目标数据类型\n",
    "shape = (2, 3)\n",
    "dtype = torch.float16\n",
    "\n",
    "# 在创建时通过 dtype 参数指定数据类型\n",
    "Y = torch.ones(shape, dtype=dtype)\n",
    "\n",
    "print(f\"--- 创建的 Tensor ---\")\n",
    "print(Y)\n",
    "print(f\"\\n--- 验证其数据类型 ---\")\n",
    "print(Y.dtype)"
   ]
  },
  {
   "cell_type": "markdown",
   "metadata": {},
   "source": [
    "#### 6. 仿照其他 Tensor 创建新 Tensor (★☆☆)\n",
    "任务: 给定一个已存在的源张量 src，它的值为 [[1, 2, 3], [4, 5, 6]] 且类型为 float16，请创建一个与它属性（形状、类型、设备）都相同，但值为全零的新 Tensor。"
   ]
  },
  {
   "cell_type": "code",
   "execution_count": 60,
   "metadata": {},
   "outputs": [
    {
     "name": "stdout",
     "output_type": "stream",
     "text": [
      "--- 源 Tensor ---\n",
      "tensor([[1., 2., 3.],\n",
      "        [4., 5., 6.]], dtype=torch.float16)\n",
      "属性: torch.Size([2, 3]), torch.float16, cpu\n",
      "\n",
      "--- 仿照创建的全零 Tensor ---\n",
      "tensor([[0., 0., 0.],\n",
      "        [0., 0., 0.]], dtype=torch.float16)\n",
      "属性: torch.Size([2, 3]), torch.float16, cpu\n"
     ]
    }
   ],
   "source": [
    "# 定义一个源张量\n",
    "src = torch.tensor([[1, 2, 3], [4, 5, 6]], dtype=torch.float16)\n",
    "\n",
    "# 使用 _like 函数可以方便地复制属性\n",
    "Z = torch.zeros_like(src)\n",
    "\n",
    "print(\"--- 源 Tensor ---\")\n",
    "print(src)\n",
    "print(f\"属性: {src.shape}, {src.dtype}, {src.device}\")\n",
    "print(\"\\n--- 仿照创建的全零 Tensor ---\")\n",
    "print(Z)\n",
    "print(f\"属性: {Z.shape}, {Z.dtype}, {Z.device}\")"
   ]
  },
  {
   "cell_type": "markdown",
   "metadata": {},
   "source": [
    "#### 7. 创建不同分布的随机 Tensor (★☆☆)\n",
    "任务: 创建两个形状均为 (3, 3) 的随机 Tensor：X 的元素在 [0, 1) 区间均匀分布，Y 的元素服从标准正态分布（均值为0，方差为1）。"
   ]
  },
  {
   "cell_type": "code",
   "execution_count": 61,
   "metadata": {},
   "outputs": [
    {
     "name": "stdout",
     "output_type": "stream",
     "text": [
      "--- [0, 1) 均匀分布随机 Tensor ---\n",
      "tensor([[0.8823, 0.9150, 0.3829],\n",
      "        [0.9593, 0.3904, 0.6009],\n",
      "        [0.2566, 0.7936, 0.9408]])\n",
      "\n",
      "--- 标准正态分布随机 Tensor ---\n",
      "tensor([[ 1.5231,  0.6647, -1.0324],\n",
      "        [-0.2770, -0.1671, -0.1079],\n",
      "        [-1.4285, -0.2810,  0.7489]])\n"
     ]
    }
   ],
   "source": [
    "# 设置随机种子以保证结果可复现\n",
    "torch.manual_seed(42)\n",
    "\n",
    "# 定义形状\n",
    "shape = (3, 3)\n",
    "\n",
    "# 创建不同分布的随机张量\n",
    "X = torch.rand(shape)  # 均匀分布\n",
    "Y = torch.randn(shape) # 标准正态分布\n",
    "\n",
    "print(f\"--- [0, 1) 均匀分布随机 Tensor ---\")\n",
    "print(X)\n",
    "print(f\"\\n--- 标准正态分布随机 Tensor ---\")\n",
    "print(Y)\n"
   ]
  },
  {
   "cell_type": "markdown",
   "metadata": {},
   "source": [
    "#### 8. 创建序列 Tensor (★☆☆)\n",
    "任务: 创建两个序列 Tensor：X 是一个从 0 到 10（不含10）、步长为1的整数序列；Y 是一个从 0 到 1（包含1）、均匀划分成5个元素的浮点数序列。"
   ]
  },
  {
   "cell_type": "code",
   "execution_count": 62,
   "metadata": {},
   "outputs": [
    {
     "name": "stdout",
     "output_type": "stream",
     "text": [
      "--- arange 创建的整数序列 ---\n",
      "tensor([0, 1, 2, 3, 4, 5, 6, 7, 8, 9])\n",
      "\n",
      "--- linspace 创建的等差序列 ---\n",
      "tensor([0.0000, 0.2500, 0.5000, 0.7500, 1.0000])\n"
     ]
    }
   ],
   "source": [
    "# 使用 arange 创建整数序列 (不含结束点)\n",
    "X = torch.arange(0, 10)\n",
    "\n",
    "# 使用 linspace 创建等差序列 (包含结束点)\n",
    "# 参数: start, end, steps\n",
    "Y = torch.linspace(0, 1, 5)\n",
    "\n",
    "print(\"--- arange 创建的整数序列 ---\")\n",
    "print(X)\n",
    "print(\"\\n--- linspace 创建的等差序列 ---\")\n",
    "print(Y)"
   ]
  },
  {
   "cell_type": "markdown",
   "metadata": {},
   "source": [
    "#### 9. 在指定设备上创建 Tensor (★★☆)\n",
    "任务: 检查您的环境中 CUDA (GPU) 是否可用，如果可用，则在第一个 GPU (cuda:0) 上创建一个 2x2 的全一张量；否则，在 CPU 上创建。"
   ]
  },
  {
   "cell_type": "code",
   "execution_count": 63,
   "metadata": {},
   "outputs": [
    {
     "name": "stdout",
     "output_type": "stream",
     "text": [
      "\n",
      "--- 创建的 Tensor ---\n",
      "tensor([[1., 1.],\n",
      "        [1., 1.]], device='cuda:0')\n",
      "它所在的设备是: cuda:0\n"
     ]
    }
   ],
   "source": [
    "# 检查 CUDA 是否可用\n",
    "device = torch.device(\"cuda:0\" if torch.cuda.is_available() else \"cpu\")\n",
    "\n",
    "# 使用 device 参数在指定设备上创建张量\n",
    "Z = torch.ones(2, 2, device=device)\n",
    "\n",
    "print(f\"\\n--- 创建的 Tensor ---\")\n",
    "print(Z)\n",
    "print(f\"它所在的设备是: {Z.device}\")"
   ]
  },
  {
   "cell_type": "markdown",
   "metadata": {},
   "source": [
    "### 模块二：索引、切片与形状变换 🔪\n",
    "掌握了如何创建 Tensor 后，下一步是学习如何灵活地访问和重塑它们。这是数据预处理和特征工程中的核心技能。"
   ]
  },
  {
   "cell_type": "markdown",
   "metadata": {},
   "source": [
    "#### 10. 基础索引：访问特定元素 (★☆☆)\n",
    "任务: 创建一个 3x3 的序列张量 X，其值为 0 到 8。然后，访问并打印出位于第 2 行、第 1 列的元素（注意索引从0开始）。"
   ]
  },
  {
   "cell_type": "code",
   "execution_count": 64,
   "metadata": {},
   "outputs": [
    {
     "name": "stdout",
     "output_type": "stream",
     "text": [
      "--- 原始 Tensor ---\n",
      "tensor([[0, 1, 2],\n",
      "        [3, 4, 5],\n",
      "        [6, 7, 8]])\n",
      "\n",
      "--- 第2行、第1列的元素是 ---\n",
      "tensor(3)\n"
     ]
    }
   ],
   "source": [
    "# 创建一个 3x3 的张量\n",
    "X = torch.arange(9).reshape(3, 3)\n",
    "\n",
    "# 访问第 2 行 (索引为1), 第 1 列 (索引为0) 的元素\n",
    "element = X[1, 0]\n",
    "\n",
    "print(\"--- 原始 Tensor ---\")\n",
    "print(X)\n",
    "print(f\"\\n--- 第2行、第1列的元素是 ---\")\n",
    "print(element)"
   ]
  },
  {
   "cell_type": "markdown",
   "metadata": {},
   "source": [
    "#### 11. 基础切片：提取整行与整列 (★☆☆)\n",
    "任务: 对于一个 4x4 的序列张量 Y（值为0-15），提取并打印出它的第 3 整行和第 4 整列。"
   ]
  },
  {
   "cell_type": "code",
   "execution_count": 65,
   "metadata": {},
   "outputs": [
    {
     "name": "stdout",
     "output_type": "stream",
     "text": [
      "--- 原始 Tensor ---\n",
      "tensor([[ 0,  1,  2,  3],\n",
      "        [ 4,  5,  6,  7],\n",
      "        [ 8,  9, 10, 11],\n",
      "        [12, 13, 14, 15]])\n",
      "\n",
      "--- 第 3 行 ---\n",
      "tensor([ 8,  9, 10, 11])\n",
      "\n",
      "--- 第 4 列 ---\n",
      "tensor([ 3,  7, 11, 15])\n"
     ]
    }
   ],
   "source": [
    "# 创建一个 4x4 的张量\n",
    "Y = torch.arange(16).reshape(4, 4)\n",
    "\n",
    "# 提取第 3 行 (索引为2)\n",
    "third_row = Y[2, :] # 或者 Y[2]\n",
    "\n",
    "# 提取第 4 列 (索引为3)\n",
    "fourth_col = Y[:, 3]\n",
    "\n",
    "print(\"--- 原始 Tensor ---\")\n",
    "print(Y)\n",
    "print(\"\\n--- 第 3 行 ---\")\n",
    "print(third_row)\n",
    "print(\"\\n--- 第 4 列 ---\")\n",
    "print(fourth_col)"
   ]
  },
  {
   "cell_type": "markdown",
   "metadata": {},
   "source": [
    "#### 12. 进阶切片：提取子矩阵 (★☆☆)\n",
    "任务: 对于一个 5x5 的序列张量 Z（值为0-24），提取出由第3、4行和第2、3、4列共同构成的 2x3 子矩阵。"
   ]
  },
  {
   "cell_type": "code",
   "execution_count": 66,
   "metadata": {},
   "outputs": [
    {
     "name": "stdout",
     "output_type": "stream",
     "text": [
      "--- 原始 Tensor ---\n",
      "tensor([[ 0,  1,  2,  3,  4],\n",
      "        [ 5,  6,  7,  8,  9],\n",
      "        [10, 11, 12, 13, 14],\n",
      "        [15, 16, 17, 18, 19],\n",
      "        [20, 21, 22, 23, 24]])\n",
      "\n",
      "--- 提取的 2x3 子矩阵 ---\n",
      "tensor([[11, 12, 13],\n",
      "        [16, 17, 18]])\n"
     ]
    }
   ],
   "source": [
    "# 创建一个 5x5 的张量\n",
    "Z = torch.arange(25).reshape(5, 5)\n",
    "\n",
    "# 提取子矩阵：行索引为 2, 3；列索引为 1, 2, 3\n",
    "sub_matrix = Z[2:4, 1:4]\n",
    "\n",
    "print(\"--- 原始 Tensor ---\")\n",
    "print(Z)\n",
    "print(\"\\n--- 提取的 2x3 子矩阵 ---\")\n",
    "print(sub_matrix)"
   ]
  },
  {
   "cell_type": "markdown",
   "metadata": {},
   "source": [
    "#### 13. 布尔索引：筛选满足条件的元素 (★☆☆)\n",
    "任务: 创建一个 4x4 的随机整数张量 X（值在0-9之间），筛选出所有大于5的元素。"
   ]
  },
  {
   "cell_type": "code",
   "execution_count": 67,
   "metadata": {},
   "outputs": [
    {
     "name": "stdout",
     "output_type": "stream",
     "text": [
      "--- 原始 Tensor ---\n",
      "tensor([[7, 5, 2, 7],\n",
      "        [2, 5, 7, 2],\n",
      "        [1, 5, 6, 3],\n",
      "        [1, 0, 6, 3]])\n",
      "\n",
      "--- 大于 5 的元素 ---\n",
      "tensor([7, 7, 7, 6, 6])\n"
     ]
    }
   ],
   "source": [
    "# 设置随机种子以保证结果可复现\n",
    "torch.manual_seed(10)\n",
    "\n",
    "# 创建一个 4x4 的随机整数张量\n",
    "X = torch.randint(0, 10, (4, 4))\n",
    "\n",
    "# 创建布尔掩码 (Mask)\n",
    "mask = X > 5\n",
    "\n",
    "# 使用掩码进行索引，筛选出符合条件的元素\n",
    "filtered_elements = X[mask]\n",
    "\n",
    "print(\"--- 原始 Tensor ---\")\n",
    "print(X)\n",
    "print(\"\\n--- 大于 5 的元素 ---\")\n",
    "print(filtered_elements)"
   ]
  },
  {
   "cell_type": "markdown",
   "metadata": {},
   "source": [
    "#### 14. 使用布尔索引进行原地修改 (★☆☆)\n",
    "任务: 创建一个 3x4 的标准正态分布随机张量 Y，然后将其中所有小于0的元素都原地修改为0（这类似于ReLU激活函数的操作）。"
   ]
  },
  {
   "cell_type": "code",
   "execution_count": 68,
   "metadata": {},
   "outputs": [
    {
     "name": "stdout",
     "output_type": "stream",
     "text": [
      "--- 原始 Tensor ---\n",
      "tensor([[-1.2061,  0.0617,  1.1632, -1.5008],\n",
      "        [-1.5944, -0.0187, -2.1325, -0.5270],\n",
      "        [-0.1021,  0.0099, -0.4454, -1.4976]])\n",
      "\n",
      "--- 修改后的 Tensor ---\n",
      "tensor([[0.0000, 0.0617, 1.1632, 0.0000],\n",
      "        [0.0000, 0.0000, 0.0000, 0.0000],\n",
      "        [0.0000, 0.0099, 0.0000, 0.0000]])\n"
     ]
    }
   ],
   "source": [
    "# 设置随机种子\n",
    "torch.manual_seed(20)\n",
    "\n",
    "# 创建一个 3x4 的随机张量\n",
    "Y = torch.randn(3, 4)\n",
    "print(\"--- 原始 Tensor ---\")\n",
    "print(Y)\n",
    "\n",
    "# 使用布尔索引找到小于0的元素，并原地赋值为0\n",
    "Y[Y < 0] = 0\n",
    "\n",
    "print(\"\\n--- 修改后的 Tensor ---\")\n",
    "print(Y)"
   ]
  },
  {
   "cell_type": "markdown",
   "metadata": {},
   "source": [
    "#### 15. 改变形状 (★☆☆)\n",
    "任务: 创建一个值为 0-11 的一维张量 Z，然后将其形状变为 3x4。请分别使用两种不同的方法实现。"
   ]
  },
  {
   "cell_type": "code",
   "execution_count": 69,
   "metadata": {},
   "outputs": [
    {
     "name": "stdout",
     "output_type": "stream",
     "text": [
      "--- 原始 Tensor ---\n",
      "tensor([ 0,  1,  2,  3,  4,  5,  6,  7,  8,  9, 10, 11])\n",
      "\n",
      "--- 使用 .view() 的结果 ---\n",
      "tensor([[ 0,  1,  2,  3],\n",
      "        [ 4,  5,  6,  7],\n",
      "        [ 8,  9, 10, 11]])\n",
      "\n",
      "--- 使用 .reshape() 的结果 ---\n",
      "tensor([[ 0,  1,  2,  3],\n",
      "        [ 4,  5,  6,  7],\n",
      "        [ 8,  9, 10, 11]])\n"
     ]
    }
   ],
   "source": [
    "# 创建一个一维张量\n",
    "Z = torch.arange(12)\n",
    "\n",
    "# 使用 .view() 改变形状\n",
    "# .view() 要求原始张量的内存是连续的\n",
    "Z_view = Z.view(3, 4)\n",
    "\n",
    "# 使用 .reshape() 改变形状\n",
    "# .reshape() 更灵活，如果内存不连续，它会先创建副本再改变形状\n",
    "Z_reshape = Z.reshape(3, 4)\n",
    "\n",
    "print(\"--- 原始 Tensor ---\")\n",
    "print(Z)\n",
    "print(\"\\n--- 使用 .view() 的结果 ---\")\n",
    "print(Z_view)\n",
    "print(\"\\n--- 使用 .reshape() 的结果 ---\")\n",
    "print(Z_reshape)"
   ]
  },
  {
   "cell_type": "markdown",
   "metadata": {},
   "source": [
    "#### 16. 增加维度 (★☆☆)\n",
    "任务: 创建一个形状为 (3, 4) 的张量 X。在第1个维度（dim=0）和第3个维度（dim=2）上增加一个新维度，使其最终形状变为 (1, 3, 1, 4)。"
   ]
  },
  {
   "cell_type": "code",
   "execution_count": 70,
   "metadata": {},
   "outputs": [
    {
     "name": "stdout",
     "output_type": "stream",
     "text": [
      "--- 原始 Tensor (shape: torch.Size([3, 4])) ---\n",
      "tensor([[ 0,  1,  2,  3],\n",
      "        [ 4,  5,  6,  7],\n",
      "        [ 8,  9, 10, 11]])\n",
      "\n",
      "--- 在 dim=0 unsqueeze 后 (shape: torch.Size([1, 3, 4])) ---\n",
      "--- 在 dim=2 unsqueeze 后 (shape: torch.Size([1, 3, 1, 4])) ---\n"
     ]
    }
   ],
   "source": [
    "# 创建一个 3x4 的张量\n",
    "X = torch.arange(12).reshape(3, 4)\n",
    "print(f\"--- 原始 Tensor (shape: {X.shape}) ---\")\n",
    "print(X)\n",
    "\n",
    "# 在第 1 个维度 (dim=0) 增加维度\n",
    "X_unsqueezed_1 = X.unsqueeze(0)\n",
    "print(f\"\\n--- 在 dim=0 unsqueeze 后 (shape: {X_unsqueezed_1.shape}) ---\")\n",
    "\n",
    "# 在第 3 个维度 (dim=2) 增加维度\n",
    "X_unsqueezed_2 = X_unsqueezed_1.unsqueeze(2)\n",
    "print(f\"--- 在 dim=2 unsqueeze 后 (shape: {X_unsqueezed_2.shape}) ---\")"
   ]
  },
  {
   "cell_type": "markdown",
   "metadata": {},
   "source": [
    "#### 17. 压缩维度 (★☆☆)\n",
    "任务: 创建一个形状为 (1, 3, 1, 2) 的随机张量 Y，移除所有大小为1的维度，使其最终形状变为 (3, 2)。"
   ]
  },
  {
   "cell_type": "code",
   "execution_count": 71,
   "metadata": {},
   "outputs": [
    {
     "name": "stdout",
     "output_type": "stream",
     "text": [
      "--- 原始 Tensor (shape: torch.Size([1, 3, 1, 2])) ---\n",
      "tensor([[[[0.4489, 0.2113]],\n",
      "\n",
      "         [[0.6839, 0.7478]],\n",
      "\n",
      "         [[0.4627, 0.7742]]]])\n",
      "\n",
      "--- squeeze 后的 Tensor (shape: torch.Size([3, 2])) ---\n",
      "tensor([[0.4489, 0.2113],\n",
      "        [0.6839, 0.7478],\n",
      "        [0.4627, 0.7742]])\n"
     ]
    }
   ],
   "source": [
    "# 创建一个包含冗余维度的张量\n",
    "Y = torch.rand(1, 3, 1, 2)\n",
    "\n",
    "# 使用 .squeeze() 移除所有大小为1的维度\n",
    "Y_squeezed = Y.squeeze()\n",
    "\n",
    "print(f\"--- 原始 Tensor (shape: {Y.shape}) ---\")\n",
    "print(Y)\n",
    "print(f\"\\n--- squeeze 后的 Tensor (shape: {Y_squeezed.shape}) ---\")\n",
    "print(Y_squeezed)"
   ]
  },
  {
   "cell_type": "markdown",
   "metadata": {},
   "source": [
    "#### 18. 交换维度 (★☆☆)\n",
    "任务: 在深度学习中，图像张量通常以 (C, H, W)（通道, 高, 宽）格式存储。请创建一个形状为 (3, 224, 224) 的模拟图像张量 Z，并将其维度转换为 (H, W, C)，以方便图像显示，可以尝试多种方法。"
   ]
  },
  {
   "cell_type": "code",
   "execution_count": 72,
   "metadata": {},
   "outputs": [
    {
     "name": "stdout",
     "output_type": "stream",
     "text": [
      "--- 原始 Tensor 形状 (C, H, W) ---\n",
      "torch.Size([3, 224, 224])\n",
      "\n",
      "--- permute 后的 Tensor 形状 (H, W, C) ---\n",
      "torch.Size([224, 224, 3])\n",
      "\n",
      "--- transpose 后的 Tensor 形状 (H, W, C) ---\n",
      "torch.Size([224, 224, 3])\n"
     ]
    }
   ],
   "source": [
    "# 创建一个模拟图像张量 (通道, 高, 宽)\n",
    "C, H, W = 3, 224, 224\n",
    "Z = torch.randn(C, H, W)\n",
    "\n",
    "# 使用 .permute() 交换维度\n",
    "# 将 (0, 1, 2) -> (1, 2, 0)\n",
    "Z_permuted = Z.permute(1, 2, 0)\n",
    "\n",
    "# 使用 .transpose() 交换维度\n",
    "Z_transpose = Z.transpose(0, 1).transpose(1, 2)\n",
    "\n",
    "\n",
    "print(f\"--- 原始 Tensor 形状 (C, H, W) ---\")\n",
    "print(Z.shape)\n",
    "print(f\"\\n--- permute 后的 Tensor 形状 (H, W, C) ---\")\n",
    "print(Z_permuted.shape)\n",
    "print(f\"\\n--- transpose 后的 Tensor 形状 (H, W, C) ---\")\n",
    "print(Z_transpose.shape)"
   ]
  },
  {
   "cell_type": "markdown",
   "metadata": {},
   "source": [
    "#### 19. 沿现有维度拼接张量 (★☆☆)\n",
    "任务: 创建两个形状均为 (2, 3) 的张量 X ∈ [0,6) 和 Y ∈ [6,12)。将它们分别沿维度0（行方向）和维度1（列方向）进行拼接。"
   ]
  },
  {
   "cell_type": "code",
   "execution_count": 73,
   "metadata": {},
   "outputs": [
    {
     "name": "stdout",
     "output_type": "stream",
     "text": [
      "--- 原始 Tensor X ---\n",
      "tensor([[0, 1, 2],\n",
      "        [3, 4, 5]])\n",
      "\n",
      "--- 原始 Tensor Y ---\n",
      "tensor([[ 6,  7,  8],\n",
      "        [ 9, 10, 11]])\n",
      "\n",
      "--- 沿 dim=0 拼接 (结果形状: 4x3) ---\n",
      "tensor([[ 0,  1,  2],\n",
      "        [ 3,  4,  5],\n",
      "        [ 6,  7,  8],\n",
      "        [ 9, 10, 11]])\n",
      "\n",
      "--- 沿 dim=1 拼接 (结果形状: 2x6) ---\n",
      "tensor([[ 0,  1,  2,  6,  7,  8],\n",
      "        [ 3,  4,  5,  9, 10, 11]])\n"
     ]
    }
   ],
   "source": [
    "# 创建两个 2x3 的张量\n",
    "X = torch.arange(6).reshape(2, 3)\n",
    "Y = torch.arange(6, 12).reshape(2, 3)\n",
    "\n",
    "# 沿维度0 (行) 拼接\n",
    "cat_dim0 = torch.cat((X, Y), dim=0)\n",
    "\n",
    "# 沿维度1 (列) 拼接\n",
    "cat_dim1 = torch.cat((X, Y), dim=1)\n",
    "\n",
    "print(\"--- 原始 Tensor X ---\")\n",
    "print(X)\n",
    "print(\"\\n--- 原始 Tensor Y ---\")\n",
    "print(Y)\n",
    "print(\"\\n--- 沿 dim=0 拼接 (结果形状: 4x3) ---\")\n",
    "print(cat_dim0)\n",
    "print(\"\\n--- 沿 dim=1 拼接 (结果形状: 2x6) ---\")\n",
    "print(cat_dim1)"
   ]
  },
  {
   "cell_type": "markdown",
   "metadata": {},
   "source": [
    "#### 20. 沿新维度堆叠张量 (★☆☆)\n",
    "任务: 创建两个形状均为 (2, 3) 的张量 X 和 Y。将它们堆叠起来，创建一个新的维度，使结果张量的形状变为 (2, 2, 3)。"
   ]
  },
  {
   "cell_type": "code",
   "execution_count": 74,
   "metadata": {},
   "outputs": [
    {
     "name": "stdout",
     "output_type": "stream",
     "text": [
      "--- 原始 Tensor X (shape: 2x3) ---\n",
      "tensor([[0, 1, 2],\n",
      "        [3, 4, 5]])\n",
      "\n",
      "--- 原始 Tensor Y (shape: 2x3) ---\n",
      "tensor([[ 6,  7,  8],\n",
      "        [ 9, 10, 11]])\n",
      "\n",
      "--- 堆叠后的 Tensor (结果形状: 2x2x3) ---\n",
      "tensor([[[ 0,  1,  2],\n",
      "         [ 3,  4,  5]],\n",
      "\n",
      "        [[ 6,  7,  8],\n",
      "         [ 9, 10, 11]]])\n",
      "堆叠后形状: torch.Size([2, 2, 3])\n"
     ]
    }
   ],
   "source": [
    "# 重新创建两个 2x3 的张量\n",
    "X = torch.arange(6).reshape(2, 3)\n",
    "Y = torch.arange(6, 12).reshape(2, 3)\n",
    "\n",
    "# 沿一个新维度 (dim=0) 进行堆叠\n",
    "stacked_tensor = torch.stack((X, Y), dim=0)\n",
    "\n",
    "print(\"--- 原始 Tensor X (shape: 2x3) ---\")\n",
    "print(X)\n",
    "print(\"\\n--- 原始 Tensor Y (shape: 2x3) ---\")\n",
    "print(Y)\n",
    "print(\"\\n--- 堆叠后的 Tensor (结果形状: 2x2x3) ---\")\n",
    "print(stacked_tensor)\n",
    "print(f\"堆叠后形状: {stacked_tensor.shape}\")\n"
   ]
  },
  {
   "cell_type": "markdown",
   "metadata": {},
   "source": [
    "#### 21. 分割张量：精确控制与便捷分割 (★★☆)\n",
    "任务: 对一个7x4的张量Z，将其沿行（dim=0）均匀分割成2块（可以尝试两种方法），再将第一个块其沿行（dim=0）分割成不等大小的块[1,3]，PyTorch会自动处理不能整除的情况"
   ]
  },
  {
   "cell_type": "code",
   "execution_count": 75,
   "metadata": {},
   "outputs": [
    {
     "name": "stdout",
     "output_type": "stream",
     "text": [
      "--- 用于分割的原始 Tensor (7x4) ---\n",
      "tensor([[ 0,  1,  2,  3],\n",
      "        [ 4,  5,  6,  7],\n",
      "        [ 8,  9, 10, 11],\n",
      "        [12, 13, 14, 15],\n",
      "        [16, 17, 18, 19],\n",
      "        [20, 21, 22, 23],\n",
      "        [24, 25, 26, 27]])\n",
      "--- chunk 分割成的2个块 ---\n",
      "(tensor([[ 0,  1,  2,  3],\n",
      "        [ 4,  5,  6,  7],\n",
      "        [ 8,  9, 10, 11],\n",
      "        [12, 13, 14, 15]]), tensor([[16, 17, 18, 19],\n",
      "        [20, 21, 22, 23],\n",
      "        [24, 25, 26, 27]]))\n",
      "--- split 分割成的2个块 ---\n",
      "(tensor([[ 0,  1,  2,  3],\n",
      "        [ 4,  5,  6,  7],\n",
      "        [ 8,  9, 10, 11],\n",
      "        [12, 13, 14, 15]]), tensor([[16, 17, 18, 19],\n",
      "        [20, 21, 22, 23],\n",
      "        [24, 25, 26, 27]]))\n",
      "--- split 分割成不等大小的块 (分别为1, 3行) ---\n",
      "(tensor([[0, 1, 2, 3]]), tensor([[ 4,  5,  6,  7],\n",
      "        [ 8,  9, 10, 11],\n",
      "        [12, 13, 14, 15]]))\n"
     ]
    }
   ],
   "source": [
    "Z = torch.arange(28).reshape(7, 4)\n",
    "print(\"--- 用于分割的原始 Tensor (7x4) ---\")\n",
    "print(Z)\n",
    "\n",
    "# 将张量沿 dim=0 分割成大小分别为2块\n",
    "chunks = torch.chunk(Z, 2, dim=0)\n",
    "print(\"--- chunk 分割成的2个块 ---\")\n",
    "print(chunks)\n",
    "\n",
    "# 将张量沿 dim=0 分割成大小分别为2块(这里的4指的是每块大小为4)\n",
    "splits = torch.split(Z, 4, dim=0)\n",
    "print(\"--- split 分割成的2个块 ---\")\n",
    "print(splits)\n",
    "\n",
    "# 将第一个块沿 dim=0 分割成不等大小的块\n",
    "unequal_chunks = torch.split(chunks[0], [1, 3], dim=0)\n",
    "print(\"--- split 分割成不等大小的块 (分别为1, 3行) ---\")\n",
    "print(unequal_chunks)\n"
   ]
  },
  {
   "cell_type": "markdown",
   "metadata": {},
   "source": [
    "#### 22. 综合运用：重塑与拼接 (★★☆)\n",
    "任务: 假设你有一个批次的数据 (Batch, Features)，形状为 (4, 10)。你需要将其分成两组，每组2个样本，分别进行不同的处理（这里可以用乘以不同常数模拟×2 or ×3），然后再将处理后的结果合并起来。"
   ]
  },
  {
   "cell_type": "code",
   "execution_count": 76,
   "metadata": {},
   "outputs": [
    {
     "name": "stdout",
     "output_type": "stream",
     "text": [
      "--- 原始批次数据 (4x10) ---\n",
      "torch.Size([4, 10])\n",
      "tensor([[7, 5, 2, 7, 2, 5, 7, 2, 1, 5],\n",
      "        [6, 3, 1, 0, 6, 3, 4, 0, 6, 2],\n",
      "        [8, 9, 2, 0, 9, 9, 4, 4, 9, 4],\n",
      "        [4, 5, 4, 0, 8, 9, 3, 0, 9, 3]])\n",
      "\n",
      "--- 分割后的两组 (均为 2x10) ---\n",
      "组1形状: torch.Size([2, 10]), 组2形状: torch.Size([2, 10])\n",
      "tensor([[7, 5, 2, 7, 2, 5, 7, 2, 1, 5],\n",
      "        [6, 3, 1, 0, 6, 3, 4, 0, 6, 2]])\n",
      "tensor([[8, 9, 2, 0, 9, 9, 4, 4, 9, 4],\n",
      "        [4, 5, 4, 0, 8, 9, 3, 0, 9, 3]])\n",
      "\n",
      "--- 重新拼接后的最终批次 (4x10) ---\n",
      "torch.Size([4, 10])\n",
      "tensor([[14, 10,  4, 14,  4, 10, 14,  4,  2, 10],\n",
      "        [12,  6,  2,  0, 12,  6,  8,  0, 12,  4],\n",
      "        [24, 27,  6,  0, 27, 27, 12, 12, 27, 12],\n",
      "        [12, 15, 12,  0, 24, 27,  9,  0, 27,  9]])\n"
     ]
    }
   ],
   "source": [
    "torch.manual_seed(10)\n",
    "# 创建一个模拟的批次数据\n",
    "batch_data = torch.randint(0, 10, (4, 10))\n",
    "\n",
    "# 1. 将数据分割成两组\n",
    "group1, group2 = torch.chunk(batch_data, 2, dim=0)\n",
    "\n",
    "# 2. 模拟对两组数据进行不同的处理\n",
    "processed_group1 = group1 * 2\n",
    "processed_group2 = group2 * 3\n",
    "\n",
    "# 3. 将处理后的结果重新拼接成一个批次\n",
    "final_batch = torch.cat((processed_group1, processed_group2), dim=0)\n",
    "\n",
    "print(\"--- 原始批次数据 (4x10) ---\")\n",
    "print(batch_data.shape)\n",
    "print(batch_data)\n",
    "print(\"\\n--- 分割后的两组 (均为 2x10) ---\")\n",
    "print(f\"组1形状: {group1.shape}, 组2形状: {group2.shape}\")\n",
    "print(group1)\n",
    "print(group2)\n",
    "print(\"\\n--- 重新拼接后的最终批次 (4x10) ---\")\n",
    "print(final_batch.shape)\n",
    "print(final_batch)"
   ]
  }
 ],
 "metadata": {
  "kernelspec": {
   "display_name": "torch",
   "language": "python",
   "name": "python3"
  },
  "language_info": {
   "codemirror_mode": {
    "name": "ipython",
    "version": 3
   },
   "file_extension": ".py",
   "mimetype": "text/x-python",
   "name": "python",
   "nbconvert_exporter": "python",
   "pygments_lexer": "ipython3",
   "version": "3.10.15"
  }
 },
 "nbformat": 4,
 "nbformat_minor": 2
}
