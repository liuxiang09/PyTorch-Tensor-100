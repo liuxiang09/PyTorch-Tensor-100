{
 "cells": [
  {
   "cell_type": "markdown",
   "metadata": {},
   "source": [
    "### 模块一：Tensor 的创建与属性 ✨\n",
    "这部分将带您熟悉创建张量的各种方式，并了解如何查看它们的基本属性。"
   ]
  },
  {
   "cell_type": "markdown",
   "metadata": {},
   "source": [
    "#### 1. 导入 PyTorch (★☆☆)\n",
    "任务: 导入 torch 和 numpy 库，并打印各自的版本号，这是使用 PyTorch 的第一步。"
   ]
  },
  {
   "cell_type": "code",
   "execution_count": 3,
   "metadata": {},
   "outputs": [
    {
     "name": "stdout",
     "output_type": "stream",
     "text": [
      "PyTorch 版本: 2.5.1+cu121\n",
      "NumPy 版本: 1.26.4\n"
     ]
    }
   ],
   "source": [
    "# 导入 torch 和 numpy 库\n",
    "import torch\n",
    "import numpy as np\n",
    "\n",
    "# 打印导入成功信息和版本号\n",
    "print(f\"PyTorch 版本: {torch.__version__}\")\n",
    "print(f\"NumPy 版本: {np.__version__}\")"
   ]
  },
  {
   "cell_type": "markdown",
   "metadata": {},
   "source": [
    "#### 2. 从 Python 列表与 NumPy 数组创建 (★☆☆)\n",
    "任务: 将一个 Python 列表 [[1, 2], [3, 4]] 和一个 NumPy 数组 np.array([[5, 6], [7, 8]]) 分别转换为 Tensor。"
   ]
  },
  {
   "cell_type": "code",
   "execution_count": 4,
   "metadata": {},
   "outputs": [
    {
     "name": "stdout",
     "output_type": "stream",
     "text": [
      "--- 从列表创建的 Tensor ---\n",
      "tensor([[1, 2],\n",
      "        [3, 4]])\n",
      "\n",
      "--- 从 NumPy 创建的 Tensor ---\n",
      "tensor([[5, 6],\n",
      "        [7, 8]])\n"
     ]
    }
   ],
   "source": [
    "# 定义一个 Python 列表\n",
    "data = [[1, 2], [3, 4]]\n",
    "# 创建一个 NumPy 数组\n",
    "np_arr = np.array([[5, 6], [7, 8]])\n",
    "\n",
    "# 从列表创建\n",
    "X = torch.tensor(data)\n",
    "# 从 NumPy 数组创建 (注意：会共享内存)\n",
    "Y = torch.from_numpy(np_arr)\n",
    "\n",
    "print(\"--- 从列表创建的 Tensor ---\")\n",
    "print(X)\n",
    "print(\"\\n--- 从 NumPy 创建的 Tensor ---\")\n",
    "print(Y)"
   ]
  },
  {
   "cell_type": "markdown",
   "metadata": {},
   "source": [
    "#### 3. 创建常量 Tensor (★☆☆)\n",
    "任务: 创建三个形状均为 (2, 3) 的张量：一个全零张量，一个全一张量，以及一个所有元素均为常数 7 的张量。"
   ]
  },
  {
   "cell_type": "code",
   "execution_count": 5,
   "metadata": {},
   "outputs": [
    {
     "name": "stdout",
     "output_type": "stream",
     "text": [
      "--- 全零 Tensor ---\n",
      "tensor([[0., 0., 0.],\n",
      "        [0., 0., 0.]])\n",
      "\n",
      "--- 全一 Tensor ---\n",
      "tensor([[1., 1., 1.],\n",
      "        [1., 1., 1.]])\n",
      "\n",
      "--- 填充为 7 的 Tensor ---\n",
      "tensor([[7, 7, 7],\n",
      "        [7, 7, 7]])\n"
     ]
    }
   ],
   "source": [
    "# 定义形状\n",
    "shape = (2, 3)\n",
    "\n",
    "# 创建全零、全一、全为7的张量\n",
    "t_zeros = torch.zeros(shape)\n",
    "t_ones = torch.ones(shape)\n",
    "t_sevens = torch.full(shape, 7)\n",
    "\n",
    "print(\"--- 全零 Tensor ---\")\n",
    "print(t_zeros)\n",
    "print(\"\\n--- 全一 Tensor ---\")\n",
    "print(t_ones)\n",
    "print(\"\\n--- 填充为 7 的 Tensor ---\")\n",
    "print(t_sevens)"
   ]
  },
  {
   "cell_type": "markdown",
   "metadata": {},
   "source": [
    "#### 4. 获取 Tensor 的核心属性 (★☆☆)\n",
    "任务: 对于给定的张量 X = torch.tensor([[1.0, 2.0], [3.0, 4.0]])，一次性打印出它的形状 (shape)、数据类型 (dtype) 和所在设备 (device)。"
   ]
  },
  {
   "cell_type": "code",
   "execution_count": 6,
   "metadata": {},
   "outputs": [
    {
     "name": "stdout",
     "output_type": "stream",
     "text": [
      "--- Tensor 的核心属性 ---\n",
      "形状 (Shape): torch.Size([2, 2])\n",
      "数据类型 (dtype): torch.float32\n",
      "所在设备 (device): cpu\n"
     ]
    }
   ],
   "source": [
    "# 创建一个示例张量\n",
    "X = torch.tensor([[1.0, 2.0], [3.0, 4.0]])\n",
    "\n",
    "# 获取并打印核心属性\n",
    "print(f\"--- Tensor 的核心属性 ---\")\n",
    "print(f\"形状 (Shape): {X.shape}\")\n",
    "print(f\"数据类型 (dtype): {X.dtype}\")\n",
    "print(f\"所在设备 (device): {X.device}\")"
   ]
  },
  {
   "cell_type": "markdown",
   "metadata": {},
   "source": [
    "#### 5. 创建指定数据类型的 Tensor (★☆☆)\n",
    "任务: 创建一个形状为 (2, 3)，数据类型为 torch.float16 (半精度浮点) 的全一 Tensor，并验证其数据类型。"
   ]
  },
  {
   "cell_type": "code",
   "execution_count": 7,
   "metadata": {},
   "outputs": [
    {
     "name": "stdout",
     "output_type": "stream",
     "text": [
      "--- 创建的 Tensor ---\n",
      "tensor([[1., 1., 1.],\n",
      "        [1., 1., 1.]], dtype=torch.float16)\n",
      "\n",
      "--- 验证其数据类型 ---\n",
      "torch.float16\n"
     ]
    }
   ],
   "source": [
    "# 定义形状和目标数据类型\n",
    "shape = (2, 3)\n",
    "dtype = torch.float16\n",
    "\n",
    "# 在创建时通过 dtype 参数指定数据类型\n",
    "Y = torch.ones(shape, dtype=dtype)\n",
    "\n",
    "print(f\"--- 创建的 Tensor ---\")\n",
    "print(Y)\n",
    "print(f\"\\n--- 验证其数据类型 ---\")\n",
    "print(Y.dtype)"
   ]
  },
  {
   "cell_type": "markdown",
   "metadata": {},
   "source": [
    "#### 6. 仿照其他 Tensor 创建新 Tensor (★☆☆)\n",
    "任务: 给定一个已存在的源张量 src，它的值为 [[1, 2, 3], [4, 5, 6]] 且类型为 float16，请创建一个与它属性（形状、类型、设备）都相同，但值为全零的新 Tensor。"
   ]
  },
  {
   "cell_type": "code",
   "execution_count": 8,
   "metadata": {},
   "outputs": [
    {
     "name": "stdout",
     "output_type": "stream",
     "text": [
      "--- 源 Tensor ---\n",
      "tensor([[1., 2., 3.],\n",
      "        [4., 5., 6.]], dtype=torch.float16)\n",
      "属性: torch.Size([2, 3]), torch.float16, cpu\n",
      "\n",
      "--- 仿照创建的全零 Tensor ---\n",
      "tensor([[0., 0., 0.],\n",
      "        [0., 0., 0.]], dtype=torch.float16)\n",
      "属性: torch.Size([2, 3]), torch.float16, cpu\n"
     ]
    }
   ],
   "source": [
    "# 定义一个源张量\n",
    "src = torch.tensor([[1, 2, 3], [4, 5, 6]], dtype=torch.float16)\n",
    "\n",
    "# 使用 _like 函数可以方便地复制属性\n",
    "Z = torch.zeros_like(src)\n",
    "\n",
    "print(\"--- 源 Tensor ---\")\n",
    "print(src)\n",
    "print(f\"属性: {src.shape}, {src.dtype}, {src.device}\")\n",
    "print(\"\\n--- 仿照创建的全零 Tensor ---\")\n",
    "print(Z)\n",
    "print(f\"属性: {Z.shape}, {Z.dtype}, {Z.device}\")"
   ]
  },
  {
   "cell_type": "markdown",
   "metadata": {},
   "source": [
    "#### 7. 创建不同分布的随机 Tensor (★☆☆)\n",
    "任务: 创建两个形状均为 (3, 3) 的随机 Tensor：X 的元素在 [0, 1) 区间均匀分布，Y 的元素服从标准正态分布（均值为0，方差为1）。"
   ]
  },
  {
   "cell_type": "code",
   "execution_count": 9,
   "metadata": {},
   "outputs": [
    {
     "name": "stdout",
     "output_type": "stream",
     "text": [
      "--- [0, 1) 均匀分布随机 Tensor ---\n",
      "tensor([[0.8823, 0.9150, 0.3829],\n",
      "        [0.9593, 0.3904, 0.6009],\n",
      "        [0.2566, 0.7936, 0.9408]])\n",
      "\n",
      "--- 标准正态分布随机 Tensor ---\n",
      "tensor([[ 1.5231,  0.6647, -1.0324],\n",
      "        [-0.2770, -0.1671, -0.1079],\n",
      "        [-1.4285, -0.2810,  0.7489]])\n"
     ]
    }
   ],
   "source": [
    "# 设置随机种子以保证结果可复现\n",
    "torch.manual_seed(42)\n",
    "\n",
    "# 定义形状\n",
    "shape = (3, 3)\n",
    "\n",
    "# 创建不同分布的随机张量\n",
    "X = torch.rand(shape)  # 均匀分布\n",
    "Y = torch.randn(shape) # 标准正态分布\n",
    "\n",
    "print(f\"--- [0, 1) 均匀分布随机 Tensor ---\")\n",
    "print(X)\n",
    "print(f\"\\n--- 标准正态分布随机 Tensor ---\")\n",
    "print(Y)\n"
   ]
  },
  {
   "cell_type": "markdown",
   "metadata": {},
   "source": [
    "#### 8. 创建序列 Tensor (★☆☆)\n",
    "任务: 创建两个序列 Tensor：X 是一个从 0 到 10（不含10）、步长为1的整数序列；Y 是一个从 0 到 1（包含1）、均匀划分成5个元素的浮点数序列。"
   ]
  },
  {
   "cell_type": "code",
   "execution_count": 10,
   "metadata": {},
   "outputs": [
    {
     "name": "stdout",
     "output_type": "stream",
     "text": [
      "--- arange 创建的整数序列 ---\n",
      "tensor([0, 1, 2, 3, 4, 5, 6, 7, 8, 9])\n",
      "\n",
      "--- linspace 创建的等差序列 ---\n",
      "tensor([0.0000, 0.2500, 0.5000, 0.7500, 1.0000])\n"
     ]
    }
   ],
   "source": [
    "# 使用 arange 创建整数序列 (不含结束点)\n",
    "X = torch.arange(0, 10)\n",
    "\n",
    "# 使用 linspace 创建等差序列 (包含结束点)\n",
    "# 参数: start, end, steps\n",
    "Y = torch.linspace(0, 1, 5)\n",
    "\n",
    "print(\"--- arange 创建的整数序列 ---\")\n",
    "print(X)\n",
    "print(\"\\n--- linspace 创建的等差序列 ---\")\n",
    "print(Y)"
   ]
  },
  {
   "cell_type": "markdown",
   "metadata": {},
   "source": [
    "#### 9. 在指定设备上创建 Tensor (★☆☆)\n",
    "任务: 检查您的环境中 CUDA (GPU) 是否可用，如果可用，则在第一个 GPU (cuda:0) 上创建一个 2x2 的全一张量；否则，在 CPU 上创建。"
   ]
  },
  {
   "cell_type": "code",
   "execution_count": 11,
   "metadata": {},
   "outputs": [
    {
     "name": "stdout",
     "output_type": "stream",
     "text": [
      "\n",
      "--- 创建的 Tensor ---\n",
      "tensor([[1., 1.],\n",
      "        [1., 1.]], device='cuda:0')\n",
      "它所在的设备是: cuda:0\n"
     ]
    }
   ],
   "source": [
    "# 检查 CUDA 是否可用\n",
    "device = torch.device(\"cuda:0\" if torch.cuda.is_available() else \"cpu\")\n",
    "\n",
    "# 使用 device 参数在指定设备上创建张量\n",
    "Z = torch.ones(2, 2, device=device)\n",
    "\n",
    "print(f\"\\n--- 创建的 Tensor ---\")\n",
    "print(Z)\n",
    "print(f\"它所在的设备是: {Z.device}\")"
   ]
  },
  {
   "cell_type": "markdown",
   "metadata": {},
   "source": [
    "### 模块二：索引、切片与形状变换 🔪\n",
    "掌握了如何创建 Tensor 后，下一步是学习如何灵活地访问和重塑它们。这是数据预处理和特征工程中的核心技能。"
   ]
  },
  {
   "cell_type": "markdown",
   "metadata": {},
   "source": [
    "#### 10. 基础索引：访问特定元素 (★☆☆)\n",
    "任务: 创建一个 3x3 的序列张量 X，其值为 0 到 8。然后，访问并打印出位于第 2 行、第 1 列的元素（注意索引从0开始）。"
   ]
  },
  {
   "cell_type": "code",
   "execution_count": 12,
   "metadata": {},
   "outputs": [
    {
     "name": "stdout",
     "output_type": "stream",
     "text": [
      "--- 原始 Tensor ---\n",
      "tensor([[0, 1, 2],\n",
      "        [3, 4, 5],\n",
      "        [6, 7, 8]])\n",
      "\n",
      "--- 第2行、第1列的元素是 ---\n",
      "tensor(3)\n"
     ]
    }
   ],
   "source": [
    "# 创建一个 3x3 的张量\n",
    "X = torch.arange(9).reshape(3, 3)\n",
    "\n",
    "# 访问第 2 行 (索引为1), 第 1 列 (索引为0) 的元素\n",
    "element = X[1, 0]\n",
    "\n",
    "print(\"--- 原始 Tensor ---\")\n",
    "print(X)\n",
    "print(f\"\\n--- 第2行、第1列的元素是 ---\")\n",
    "print(element)"
   ]
  },
  {
   "cell_type": "markdown",
   "metadata": {},
   "source": [
    "#### 11. 基础切片：提取整行与整列 (★☆☆)\n",
    "任务: 对于一个 4x4 的序列张量 Y（值为0-15），提取并打印出它的第 3 整行和第 4 整列。"
   ]
  },
  {
   "cell_type": "code",
   "execution_count": 13,
   "metadata": {},
   "outputs": [
    {
     "name": "stdout",
     "output_type": "stream",
     "text": [
      "--- 原始 Tensor ---\n",
      "tensor([[ 0,  1,  2,  3],\n",
      "        [ 4,  5,  6,  7],\n",
      "        [ 8,  9, 10, 11],\n",
      "        [12, 13, 14, 15]])\n",
      "\n",
      "--- 第 3 行 ---\n",
      "tensor([ 8,  9, 10, 11])\n",
      "\n",
      "--- 第 4 列 ---\n",
      "tensor([ 3,  7, 11, 15])\n"
     ]
    }
   ],
   "source": [
    "# 创建一个 4x4 的张量\n",
    "Y = torch.arange(16).reshape(4, 4)\n",
    "\n",
    "# 提取第 3 行 (索引为2)\n",
    "third_row = Y[2, :] # 或者 Y[2]\n",
    "\n",
    "# 提取第 4 列 (索引为3)\n",
    "fourth_col = Y[:, 3]\n",
    "\n",
    "print(\"--- 原始 Tensor ---\")\n",
    "print(Y)\n",
    "print(\"\\n--- 第 3 行 ---\")\n",
    "print(third_row)\n",
    "print(\"\\n--- 第 4 列 ---\")\n",
    "print(fourth_col)"
   ]
  },
  {
   "cell_type": "markdown",
   "metadata": {},
   "source": [
    "#### 12. 进阶切片：提取子矩阵 (★☆☆)\n",
    "任务: 对于一个 5x5 的序列张量 Z（值为0-24），提取出由第3、4行和第2、3、4列共同构成的 2x3 子矩阵。"
   ]
  },
  {
   "cell_type": "code",
   "execution_count": 14,
   "metadata": {},
   "outputs": [
    {
     "name": "stdout",
     "output_type": "stream",
     "text": [
      "--- 原始 Tensor ---\n",
      "tensor([[ 0,  1,  2,  3,  4],\n",
      "        [ 5,  6,  7,  8,  9],\n",
      "        [10, 11, 12, 13, 14],\n",
      "        [15, 16, 17, 18, 19],\n",
      "        [20, 21, 22, 23, 24]])\n",
      "\n",
      "--- 提取的 2x3 子矩阵 ---\n",
      "tensor([[11, 12, 13],\n",
      "        [16, 17, 18]])\n"
     ]
    }
   ],
   "source": [
    "# 创建一个 5x5 的张量\n",
    "Z = torch.arange(25).reshape(5, 5)\n",
    "\n",
    "# 提取子矩阵：行索引为 2, 3；列索引为 1, 2, 3\n",
    "sub_matrix = Z[2:4, 1:4]\n",
    "\n",
    "print(\"--- 原始 Tensor ---\")\n",
    "print(Z)\n",
    "print(\"\\n--- 提取的 2x3 子矩阵 ---\")\n",
    "print(sub_matrix)"
   ]
  },
  {
   "cell_type": "markdown",
   "metadata": {},
   "source": [
    "#### 13. 布尔索引：筛选满足条件的元素 (★☆☆)\n",
    "任务: 创建一个 4x4 的随机整数张量 X（值在0-9之间），筛选出所有大于5的元素。"
   ]
  },
  {
   "cell_type": "code",
   "execution_count": 15,
   "metadata": {},
   "outputs": [
    {
     "name": "stdout",
     "output_type": "stream",
     "text": [
      "--- 原始 Tensor ---\n",
      "tensor([[7, 5, 2, 7],\n",
      "        [2, 5, 7, 2],\n",
      "        [1, 5, 6, 3],\n",
      "        [1, 0, 6, 3]])\n",
      "\n",
      "--- 大于 5 的元素 ---\n",
      "tensor([7, 7, 7, 6, 6])\n"
     ]
    }
   ],
   "source": [
    "# 设置随机种子以保证结果可复现\n",
    "torch.manual_seed(10)\n",
    "\n",
    "# 创建一个 4x4 的随机整数张量\n",
    "X = torch.randint(0, 10, (4, 4))\n",
    "\n",
    "# 创建布尔掩码 (Mask)\n",
    "mask = X > 5\n",
    "\n",
    "# 使用掩码进行索引，筛选出符合条件的元素\n",
    "filtered_elements = X[mask]\n",
    "\n",
    "print(\"--- 原始 Tensor ---\")\n",
    "print(X)\n",
    "print(\"\\n--- 大于 5 的元素 ---\")\n",
    "print(filtered_elements)"
   ]
  },
  {
   "cell_type": "markdown",
   "metadata": {},
   "source": [
    "#### 14. 使用布尔索引进行原地修改 (★☆☆)\n",
    "任务: 创建一个 3x4 的标准正态分布随机张量 Y，然后将其中所有小于0的元素都原地修改为0（这类似于ReLU激活函数的操作）。"
   ]
  },
  {
   "cell_type": "code",
   "execution_count": 16,
   "metadata": {},
   "outputs": [
    {
     "name": "stdout",
     "output_type": "stream",
     "text": [
      "--- 原始 Tensor ---\n",
      "tensor([[-1.2061,  0.0617,  1.1632, -1.5008],\n",
      "        [-1.5944, -0.0187, -2.1325, -0.5270],\n",
      "        [-0.1021,  0.0099, -0.4454, -1.4976]])\n",
      "\n",
      "--- 修改后的 Tensor ---\n",
      "tensor([[0.0000, 0.0617, 1.1632, 0.0000],\n",
      "        [0.0000, 0.0000, 0.0000, 0.0000],\n",
      "        [0.0000, 0.0099, 0.0000, 0.0000]])\n"
     ]
    }
   ],
   "source": [
    "# 设置随机种子\n",
    "torch.manual_seed(20)\n",
    "\n",
    "# 创建一个 3x4 的随机张量\n",
    "Y = torch.randn(3, 4)\n",
    "print(\"--- 原始 Tensor ---\")\n",
    "print(Y)\n",
    "\n",
    "# 使用布尔索引找到小于0的元素，并原地赋值为0\n",
    "Y[Y < 0] = 0\n",
    "\n",
    "print(\"\\n--- 修改后的 Tensor ---\")\n",
    "print(Y)"
   ]
  },
  {
   "cell_type": "markdown",
   "metadata": {},
   "source": [
    "#### 15. 改变形状 (★☆☆)\n",
    "任务: 创建一个值为 0-11 的一维张量 Z，然后将其形状变为 3x4。请分别使用两种不同的方法实现。"
   ]
  },
  {
   "cell_type": "code",
   "execution_count": 17,
   "metadata": {},
   "outputs": [
    {
     "name": "stdout",
     "output_type": "stream",
     "text": [
      "--- 原始 Tensor ---\n",
      "tensor([ 0,  1,  2,  3,  4,  5,  6,  7,  8,  9, 10, 11])\n",
      "\n",
      "--- 使用 .view() 的结果 ---\n",
      "tensor([[ 0,  1,  2,  3],\n",
      "        [ 4,  5,  6,  7],\n",
      "        [ 8,  9, 10, 11]])\n",
      "\n",
      "--- 使用 .reshape() 的结果 ---\n",
      "tensor([[ 0,  1,  2,  3],\n",
      "        [ 4,  5,  6,  7],\n",
      "        [ 8,  9, 10, 11]])\n"
     ]
    }
   ],
   "source": [
    "# 创建一个一维张量\n",
    "Z = torch.arange(12)\n",
    "\n",
    "# 使用 .view() 改变形状\n",
    "# .view() 要求原始张量的内存是连续的\n",
    "Z_view = Z.view(3, 4)\n",
    "\n",
    "# 使用 .reshape() 改变形状\n",
    "# .reshape() 更灵活，如果内存不连续，它会先创建副本再改变形状\n",
    "Z_reshape = Z.reshape(3, 4)\n",
    "\n",
    "print(\"--- 原始 Tensor ---\")\n",
    "print(Z)\n",
    "print(\"\\n--- 使用 .view() 的结果 ---\")\n",
    "print(Z_view)\n",
    "print(\"\\n--- 使用 .reshape() 的结果 ---\")\n",
    "print(Z_reshape)"
   ]
  },
  {
   "cell_type": "markdown",
   "metadata": {},
   "source": [
    "#### 16. 增加维度 (★☆☆)\n",
    "任务: 创建一个形状为 (3, 4) 的张量 X。在第1个维度（dim=0）和第3个维度（dim=2）上增加一个新维度，使其最终形状变为 (1, 3, 1, 4)。"
   ]
  },
  {
   "cell_type": "code",
   "execution_count": 18,
   "metadata": {},
   "outputs": [
    {
     "name": "stdout",
     "output_type": "stream",
     "text": [
      "--- 原始 Tensor (shape: torch.Size([3, 4])) ---\n",
      "tensor([[ 0,  1,  2,  3],\n",
      "        [ 4,  5,  6,  7],\n",
      "        [ 8,  9, 10, 11]])\n",
      "\n",
      "--- 在 dim=0 unsqueeze 后 (shape: torch.Size([1, 3, 4])) ---\n",
      "--- 在 dim=2 unsqueeze 后 (shape: torch.Size([1, 3, 1, 4])) ---\n"
     ]
    }
   ],
   "source": [
    "# 创建一个 3x4 的张量\n",
    "X = torch.arange(12).reshape(3, 4)\n",
    "print(f\"--- 原始 Tensor (shape: {X.shape}) ---\")\n",
    "print(X)\n",
    "\n",
    "# 在第 1 个维度 (dim=0) 增加维度\n",
    "X_unsqueezed_1 = X.unsqueeze(0)\n",
    "print(f\"\\n--- 在 dim=0 unsqueeze 后 (shape: {X_unsqueezed_1.shape}) ---\")\n",
    "\n",
    "# 在第 3 个维度 (dim=2) 增加维度\n",
    "X_unsqueezed_2 = X_unsqueezed_1.unsqueeze(2)\n",
    "print(f\"--- 在 dim=2 unsqueeze 后 (shape: {X_unsqueezed_2.shape}) ---\")"
   ]
  },
  {
   "cell_type": "markdown",
   "metadata": {},
   "source": [
    "#### 17. 压缩维度 (★☆☆)\n",
    "任务: 创建一个形状为 (1, 3, 1, 2) 的随机张量 Y，移除所有大小为1的维度，使其最终形状变为 (3, 2)。"
   ]
  },
  {
   "cell_type": "code",
   "execution_count": 19,
   "metadata": {},
   "outputs": [
    {
     "name": "stdout",
     "output_type": "stream",
     "text": [
      "--- 原始 Tensor (shape: torch.Size([1, 3, 1, 2])) ---\n",
      "tensor([[[[0.4489, 0.2113]],\n",
      "\n",
      "         [[0.6839, 0.7478]],\n",
      "\n",
      "         [[0.4627, 0.7742]]]])\n",
      "\n",
      "--- squeeze 后的 Tensor (shape: torch.Size([3, 2])) ---\n",
      "tensor([[0.4489, 0.2113],\n",
      "        [0.6839, 0.7478],\n",
      "        [0.4627, 0.7742]])\n"
     ]
    }
   ],
   "source": [
    "# 创建一个包含冗余维度的张量\n",
    "Y = torch.rand(1, 3, 1, 2)\n",
    "\n",
    "# 使用 .squeeze() 移除所有大小为1的维度\n",
    "Y_squeezed = Y.squeeze()\n",
    "\n",
    "print(f\"--- 原始 Tensor (shape: {Y.shape}) ---\")\n",
    "print(Y)\n",
    "print(f\"\\n--- squeeze 后的 Tensor (shape: {Y_squeezed.shape}) ---\")\n",
    "print(Y_squeezed)"
   ]
  },
  {
   "cell_type": "markdown",
   "metadata": {},
   "source": [
    "#### 18. 交换维度 (★☆☆)\n",
    "任务: 在深度学习中，图像张量通常以 (C, H, W)（通道, 高, 宽）格式存储。请创建一个形状为 (3, 224, 224) 的模拟图像张量 Z，并将其维度转换为 (H, W, C)，以方便图像显示，可以尝试多种方法。"
   ]
  },
  {
   "cell_type": "code",
   "execution_count": 20,
   "metadata": {},
   "outputs": [
    {
     "name": "stdout",
     "output_type": "stream",
     "text": [
      "--- 原始 Tensor 形状 (C, H, W) ---\n",
      "torch.Size([3, 224, 224])\n",
      "\n",
      "--- permute 后的 Tensor 形状 (H, W, C) ---\n",
      "torch.Size([224, 224, 3])\n",
      "\n",
      "--- transpose 后的 Tensor 形状 (H, W, C) ---\n",
      "torch.Size([224, 224, 3])\n"
     ]
    }
   ],
   "source": [
    "# 创建一个模拟图像张量 (通道, 高, 宽)\n",
    "C, H, W = 3, 224, 224\n",
    "Z = torch.randn(C, H, W)\n",
    "\n",
    "# 使用 .permute() 交换维度\n",
    "# 将 (0, 1, 2) -> (1, 2, 0)\n",
    "Z_permuted = Z.permute(1, 2, 0)\n",
    "\n",
    "# 使用 .transpose() 交换维度\n",
    "Z_transpose = Z.transpose(0, 1).transpose(1, 2)\n",
    "\n",
    "\n",
    "print(f\"--- 原始 Tensor 形状 (C, H, W) ---\")\n",
    "print(Z.shape)\n",
    "print(f\"\\n--- permute 后的 Tensor 形状 (H, W, C) ---\")\n",
    "print(Z_permuted.shape)\n",
    "print(f\"\\n--- transpose 后的 Tensor 形状 (H, W, C) ---\")\n",
    "print(Z_transpose.shape)"
   ]
  },
  {
   "cell_type": "markdown",
   "metadata": {},
   "source": [
    "#### 19. 沿现有维度拼接张量 (★☆☆)\n",
    "任务: 创建两个形状均为 (2, 3) 的张量 X ∈ [0,6) 和 Y ∈ [6,12)。将它们分别沿维度0（行方向）和维度1（列方向）进行拼接。"
   ]
  },
  {
   "cell_type": "code",
   "execution_count": 21,
   "metadata": {},
   "outputs": [
    {
     "name": "stdout",
     "output_type": "stream",
     "text": [
      "--- 原始 Tensor X ---\n",
      "tensor([[0, 1, 2],\n",
      "        [3, 4, 5]])\n",
      "\n",
      "--- 原始 Tensor Y ---\n",
      "tensor([[ 6,  7,  8],\n",
      "        [ 9, 10, 11]])\n",
      "\n",
      "--- 沿 dim=0 拼接 (结果形状: 4x3) ---\n",
      "tensor([[ 0,  1,  2],\n",
      "        [ 3,  4,  5],\n",
      "        [ 6,  7,  8],\n",
      "        [ 9, 10, 11]])\n",
      "\n",
      "--- 沿 dim=1 拼接 (结果形状: 2x6) ---\n",
      "tensor([[ 0,  1,  2,  6,  7,  8],\n",
      "        [ 3,  4,  5,  9, 10, 11]])\n"
     ]
    }
   ],
   "source": [
    "# 创建两个 2x3 的张量\n",
    "X = torch.arange(6).reshape(2, 3)\n",
    "Y = torch.arange(6, 12).reshape(2, 3)\n",
    "\n",
    "# 沿维度0 (行) 拼接\n",
    "cat_dim0 = torch.cat((X, Y), dim=0)\n",
    "\n",
    "# 沿维度1 (列) 拼接\n",
    "cat_dim1 = torch.cat((X, Y), dim=1)\n",
    "\n",
    "print(\"--- 原始 Tensor X ---\")\n",
    "print(X)\n",
    "print(\"\\n--- 原始 Tensor Y ---\")\n",
    "print(Y)\n",
    "print(\"\\n--- 沿 dim=0 拼接 (结果形状: 4x3) ---\")\n",
    "print(cat_dim0)\n",
    "print(\"\\n--- 沿 dim=1 拼接 (结果形状: 2x6) ---\")\n",
    "print(cat_dim1)"
   ]
  },
  {
   "cell_type": "markdown",
   "metadata": {},
   "source": [
    "#### 20. 沿新维度堆叠张量 (★☆☆)\n",
    "任务: 创建两个形状均为 (2, 3) 的张量 X 和 Y。将它们堆叠起来，创建一个新的维度，使结果张量的形状变为 (2, 2, 3)。"
   ]
  },
  {
   "cell_type": "code",
   "execution_count": 22,
   "metadata": {},
   "outputs": [
    {
     "name": "stdout",
     "output_type": "stream",
     "text": [
      "--- 原始 Tensor X (shape: 2x3) ---\n",
      "tensor([[0, 1, 2],\n",
      "        [3, 4, 5]])\n",
      "\n",
      "--- 原始 Tensor Y (shape: 2x3) ---\n",
      "tensor([[ 6,  7,  8],\n",
      "        [ 9, 10, 11]])\n",
      "\n",
      "--- 堆叠后的 Tensor (结果形状: 2x2x3) ---\n",
      "tensor([[[ 0,  1,  2],\n",
      "         [ 3,  4,  5]],\n",
      "\n",
      "        [[ 6,  7,  8],\n",
      "         [ 9, 10, 11]]])\n",
      "堆叠后形状: torch.Size([2, 2, 3])\n"
     ]
    }
   ],
   "source": [
    "# 重新创建两个 2x3 的张量\n",
    "X = torch.arange(6).reshape(2, 3)\n",
    "Y = torch.arange(6, 12).reshape(2, 3)\n",
    "\n",
    "# 沿一个新维度 (dim=0) 进行堆叠\n",
    "stacked_tensor = torch.stack((X, Y), dim=0)\n",
    "\n",
    "print(\"--- 原始 Tensor X (shape: 2x3) ---\")\n",
    "print(X)\n",
    "print(\"\\n--- 原始 Tensor Y (shape: 2x3) ---\")\n",
    "print(Y)\n",
    "print(\"\\n--- 堆叠后的 Tensor (结果形状: 2x2x3) ---\")\n",
    "print(stacked_tensor)\n",
    "print(f\"堆叠后形状: {stacked_tensor.shape}\")\n"
   ]
  },
  {
   "cell_type": "markdown",
   "metadata": {},
   "source": [
    "#### 21. 分割张量：精确控制与便捷分割 (★★☆)\n",
    "任务: 对一个7x4的张量Z，将其沿行（dim=0）均匀分割成2块（可以尝试两种方法），再将第一个块其沿行（dim=0）分割成不等大小的块[1,3]，PyTorch会自动处理不能整除的情况"
   ]
  },
  {
   "cell_type": "code",
   "execution_count": 23,
   "metadata": {},
   "outputs": [
    {
     "name": "stdout",
     "output_type": "stream",
     "text": [
      "--- 用于分割的原始 Tensor (7x4) ---\n",
      "tensor([[ 0,  1,  2,  3],\n",
      "        [ 4,  5,  6,  7],\n",
      "        [ 8,  9, 10, 11],\n",
      "        [12, 13, 14, 15],\n",
      "        [16, 17, 18, 19],\n",
      "        [20, 21, 22, 23],\n",
      "        [24, 25, 26, 27]])\n",
      "--- chunk 分割成的2个块 ---\n",
      "(tensor([[ 0,  1,  2,  3],\n",
      "        [ 4,  5,  6,  7],\n",
      "        [ 8,  9, 10, 11],\n",
      "        [12, 13, 14, 15]]), tensor([[16, 17, 18, 19],\n",
      "        [20, 21, 22, 23],\n",
      "        [24, 25, 26, 27]]))\n",
      "--- split 分割成的2个块 ---\n",
      "(tensor([[ 0,  1,  2,  3],\n",
      "        [ 4,  5,  6,  7],\n",
      "        [ 8,  9, 10, 11],\n",
      "        [12, 13, 14, 15]]), tensor([[16, 17, 18, 19],\n",
      "        [20, 21, 22, 23],\n",
      "        [24, 25, 26, 27]]))\n",
      "--- split 分割成不等大小的块 (分别为1, 3行) ---\n",
      "(tensor([[0, 1, 2, 3]]), tensor([[ 4,  5,  6,  7],\n",
      "        [ 8,  9, 10, 11],\n",
      "        [12, 13, 14, 15]]))\n"
     ]
    }
   ],
   "source": [
    "Z = torch.arange(28).reshape(7, 4)\n",
    "print(\"--- 用于分割的原始 Tensor (7x4) ---\")\n",
    "print(Z)\n",
    "\n",
    "# 将张量沿 dim=0 分割成大小分别为2块\n",
    "chunks = torch.chunk(Z, 2, dim=0)\n",
    "print(\"--- chunk 分割成的2个块 ---\")\n",
    "print(chunks)\n",
    "\n",
    "# 将张量沿 dim=0 分割成大小分别为2块(这里的4指的是每块大小为4)\n",
    "splits = torch.split(Z, 4, dim=0)\n",
    "print(\"--- split 分割成的2个块 ---\")\n",
    "print(splits)\n",
    "\n",
    "# 将第一个块沿 dim=0 分割成不等大小的块\n",
    "unequal_chunks = torch.split(chunks[0], [1, 3], dim=0)\n",
    "print(\"--- split 分割成不等大小的块 (分别为1, 3行) ---\")\n",
    "print(unequal_chunks)\n"
   ]
  },
  {
   "cell_type": "markdown",
   "metadata": {},
   "source": [
    "#### 22. 综合运用：重塑与拼接 (★★☆)\n",
    "任务: 假设你有一个批次的数据 (Batch, Features)，形状为 (4, 10)。你需要将其分成两组，每组2个样本，分别进行不同的处理（这里可以用乘以不同常数模拟×2 or ×3），然后再将处理后的结果合并起来。"
   ]
  },
  {
   "cell_type": "code",
   "execution_count": 24,
   "metadata": {},
   "outputs": [
    {
     "name": "stdout",
     "output_type": "stream",
     "text": [
      "--- 原始批次数据 (4x10) ---\n",
      "torch.Size([4, 10])\n",
      "tensor([[7, 5, 2, 7, 2, 5, 7, 2, 1, 5],\n",
      "        [6, 3, 1, 0, 6, 3, 4, 0, 6, 2],\n",
      "        [8, 9, 2, 0, 9, 9, 4, 4, 9, 4],\n",
      "        [4, 5, 4, 0, 8, 9, 3, 0, 9, 3]])\n",
      "\n",
      "--- 分割后的两组 (均为 2x10) ---\n",
      "组1形状: torch.Size([2, 10]), 组2形状: torch.Size([2, 10])\n",
      "tensor([[7, 5, 2, 7, 2, 5, 7, 2, 1, 5],\n",
      "        [6, 3, 1, 0, 6, 3, 4, 0, 6, 2]])\n",
      "tensor([[8, 9, 2, 0, 9, 9, 4, 4, 9, 4],\n",
      "        [4, 5, 4, 0, 8, 9, 3, 0, 9, 3]])\n",
      "\n",
      "--- 重新拼接后的最终批次 (4x10) ---\n",
      "torch.Size([4, 10])\n",
      "tensor([[14, 10,  4, 14,  4, 10, 14,  4,  2, 10],\n",
      "        [12,  6,  2,  0, 12,  6,  8,  0, 12,  4],\n",
      "        [24, 27,  6,  0, 27, 27, 12, 12, 27, 12],\n",
      "        [12, 15, 12,  0, 24, 27,  9,  0, 27,  9]])\n"
     ]
    }
   ],
   "source": [
    "torch.manual_seed(10)\n",
    "# 创建一个模拟的批次数据\n",
    "batch_data = torch.randint(0, 10, (4, 10))\n",
    "\n",
    "# 1. 将数据分割成两组\n",
    "group1, group2 = torch.chunk(batch_data, 2, dim=0)\n",
    "\n",
    "# 2. 模拟对两组数据进行不同的处理\n",
    "processed_group1 = group1 * 2\n",
    "processed_group2 = group2 * 3\n",
    "\n",
    "# 3. 将处理后的结果重新拼接成一个批次\n",
    "final_batch = torch.cat((processed_group1, processed_group2), dim=0)\n",
    "\n",
    "print(\"--- 原始批次数据 (4x10) ---\")\n",
    "print(batch_data.shape)\n",
    "print(batch_data)\n",
    "print(\"\\n--- 分割后的两组 (均为 2x10) ---\")\n",
    "print(f\"组1形状: {group1.shape}, 组2形状: {group2.shape}\")\n",
    "print(group1)\n",
    "print(group2)\n",
    "print(\"\\n--- 重新拼接后的最终批次 (4x10) ---\")\n",
    "print(final_batch.shape)\n",
    "print(final_batch)"
   ]
  },
  {
   "cell_type": "markdown",
   "metadata": {},
   "source": [
    "#### 23. 高级索引：按指定索引筛选 (★★☆)\n",
    "任务: 创建一个 5x4 的张量 X（值为0-19）。现在，你有一个包含行索引的 1D 张量tensor([0, 3, 1, 3])。请从 X 中提取出这些索引对应的行，并组成新的张量。"
   ]
  },
  {
   "cell_type": "code",
   "execution_count": 25,
   "metadata": {},
   "outputs": [
    {
     "name": "stdout",
     "output_type": "stream",
     "text": [
      "--- 原始 Tensor (5x4) ---\n",
      "tensor([[ 0,  1,  2,  3],\n",
      "        [ 4,  5,  6,  7],\n",
      "        [ 8,  9, 10, 11],\n",
      "        [12, 13, 14, 15],\n",
      "        [16, 17, 18, 19]])\n",
      "\n",
      "--- 指定的行索引 ---\n",
      "tensor([0, 3, 1, 3])\n",
      "\n",
      "--- index_select 提取的结果 ---\n",
      "tensor([[ 0,  1,  2,  3],\n",
      "        [12, 13, 14, 15],\n",
      "        [ 4,  5,  6,  7],\n",
      "        [12, 13, 14, 15]])\n"
     ]
    }
   ],
   "source": [
    "# 创建一个 5x4 的张量\n",
    "X = torch.arange(20).reshape(5, 4)\n",
    "# 定义要提取的行索引\n",
    "indices = torch.tensor([0, 3, 1, 3])\n",
    "\n",
    "# 使用 index_select 沿维度 0 (行) 提取\n",
    "selected_rows = torch.index_select(X, dim=0, index=indices)\n",
    "\n",
    "print(\"--- 原始 Tensor (5x4) ---\")\n",
    "print(X)\n",
    "print(\"\\n--- 指定的行索引 ---\")\n",
    "print(indices)\n",
    "print(\"\\n--- index_select 提取的结果 ---\")\n",
    "print(selected_rows)"
   ]
  },
  {
   "cell_type": "markdown",
   "metadata": {},
   "source": [
    "#### 24. 高级索引：按指定索引收集 (★★★)\n",
    "任务: 给定一个 3x5 的随机int张量 Y，以及一个 3x2 的索引张量 indices。我们需要从 Y 中有选择地提取元素，具体规则是：indices 的每一行包含2个数字，指定从 Y 对应行中应该选择哪些列（例如，如果 indices[0] = [4, 1]，则从 Y 的第 0 行中选择第 4 列和第 1 列的元素），最终结果应该是一个形状为 3x2 的新张量。"
   ]
  },
  {
   "cell_type": "code",
   "execution_count": 26,
   "metadata": {},
   "outputs": [
    {
     "name": "stdout",
     "output_type": "stream",
     "text": [
      "--- 原始 Tensor Y (3x5) ---\n",
      "tensor([[67, 77, 77, 13, 66],\n",
      "        [34, 89, 72, 27, 37],\n",
      "        [45, 76, 61, 45, 59]])\n",
      "\n",
      "--- 要收集的列索引 (3x2) ---\n",
      "tensor([[4, 1],\n",
      "        [0, 2],\n",
      "        [3, 3]])\n",
      "\n",
      "--- 按索引选择的结果 (3x2) ---\n",
      "tensor([[66, 77],\n",
      "        [34, 72],\n",
      "        [45, 45]])\n"
     ]
    }
   ],
   "source": [
    "# 设置随机种子以保证结果可复现\n",
    "torch.manual_seed(30)\n",
    "\n",
    "# 创建一个 3x5 的随机张量\n",
    "Y = torch.randint(10, 100, (3, 5))\n",
    "# 第0行收集第4、1列；第1行收集第0、2列；第2行收集第3、3列\n",
    "indices = torch.tensor([[4, 1], [0, 2], [3, 3]])\n",
    "\n",
    "# 按照索引从原始张量中提取特定元素\n",
    "# 输出形状与索引张量的形状相同\n",
    "gathered_elements = torch.gather(Y, dim=1, index=indices)\n",
    "\n",
    "print(\"--- 原始 Tensor Y (3x5) ---\")\n",
    "print(Y)\n",
    "print(\"\\n--- 要收集的列索引 (3x2) ---\")\n",
    "print(indices)\n",
    "print(\"\\n--- 按索引选择的结果 (3x2) ---\")\n",
    "print(gathered_elements)"
   ]
  },
  {
   "cell_type": "markdown",
   "metadata": {},
   "source": [
    "#### 25. 条件元素替换与形状保持(★★☆)\n",
    "任务: 创建一个 4x4 的随机整数张量 Z (值在 -5 到 5 之间)。对 Z 中的每个元素应用条件判断，如果元素值大于 0，则保留原始值；如果元素值小于等于 0，则将其替换为 0，输出结果应当保持与输入张量完全相同的形状。"
   ]
  },
  {
   "cell_type": "code",
   "execution_count": 27,
   "metadata": {},
   "outputs": [
    {
     "name": "stdout",
     "output_type": "stream",
     "text": [
      "--- 原始 Tensor Z ---\n",
      "tensor([[ 2,  4,  3,  2],\n",
      "        [-4,  3,  2,  1],\n",
      "        [-2,  3,  0, -2],\n",
      "        [ 1, -3,  2, -2]])\n",
      "\n",
      "--- 使用 where 处理后的 Tensor ---\n",
      "tensor([[2, 4, 3, 2],\n",
      "        [0, 3, 2, 1],\n",
      "        [0, 3, 0, 0],\n",
      "        [1, 0, 2, 0]])\n",
      "\n",
      "--- 使用布尔索引处理后的 Tensor ---\n",
      "tensor([[2, 4, 3, 2],\n",
      "        [0, 3, 2, 1],\n",
      "        [0, 3, 0, 0],\n",
      "        [1, 0, 2, 0]])\n"
     ]
    }
   ],
   "source": [
    "# 设置随机种子\n",
    "torch.manual_seed(35)\n",
    "# 创建一个 4x4 的随机张量\n",
    "Z = torch.randint(-5, 5, (4, 4))\n",
    "\n",
    "# 使用 torch.where(condition, x, y)\n",
    "# 当条件为 True 时，取 x 的值；否则取 y 的值\n",
    "# 这里 y 我们用一个全零的标量 0 代替，它会自动广播\n",
    "result = torch.where(Z > 0, Z, 0)\n",
    "\n",
    "# 尝试使用布尔索引\n",
    "result_bool = torch.zeros_like(Z)\n",
    "result_bool[Z > 0] = Z[Z > 0] # 虽然布尔索引可以实现，但是不是原地操作\n",
    "\n",
    "print(\"--- 原始 Tensor Z ---\")\n",
    "print(Z)\n",
    "print(\"\\n--- 使用 where 处理后的 Tensor ---\")\n",
    "print(result)\n",
    "print(\"\\n--- 使用布尔索引处理后的 Tensor ---\")\n",
    "print(result_bool)"
   ]
  },
  {
   "cell_type": "markdown",
   "metadata": {},
   "source": [
    "#### 26. 内存布局：理解 contiguous (★★☆)\n",
    "任务: 创建一个 3x4 的张量 A，然后通过 transpose(0, 1) 将其变为 4x3。检查转置后的张量 A_t 的内存是否还是连续的 (is_contiguous())。尝试对 A_t 执行 .view(2, 6) 操作，观察是否会报错，并解释原因。最后，使用 .contiguous() 修复它，再成功地改变其形状。"
   ]
  },
  {
   "cell_type": "code",
   "execution_count": 28,
   "metadata": {},
   "outputs": [
    {
     "name": "stdout",
     "output_type": "stream",
     "text": [
      "原始 Tensor A 是连续的吗? True\n",
      "转置后的 Tensor A_t 是连续的吗? False\n",
      "\n",
      "--- 直接对 A_t 使用 .view() 失败！---\n",
      "错误信息: view size is not compatible with input tensor's size and stride (at least one dimension spans across two contiguous subspaces). Use .reshape(...) instead.\n",
      "\n",
      "--- A_t.contiguous() 是连续的吗? True ---\n",
      "--- 成功 view 后的 Tensor (2x6) ---\n",
      "tensor([[ 0,  4,  8,  1,  5,  9],\n",
      "        [ 2,  6, 10,  3,  7, 11]])\n"
     ]
    }
   ],
   "source": [
    "# 创建一个 3x4 张量\n",
    "A = torch.arange(12).reshape(3, 4)\n",
    "print(f\"原始 Tensor A 是连续的吗? {A.is_contiguous()}\")\n",
    "\n",
    "# 转置张量\n",
    "A_t = A.transpose(0, 1)\n",
    "print(f\"转置后的 Tensor A_t 是连续的吗? {A_t.is_contiguous()}\")\n",
    "\n",
    "# 尝试对非连续张量使用 .view()\n",
    "try:\n",
    "    A_t.view(2, 6)\n",
    "except RuntimeError as e:\n",
    "    print(\"\\n--- 直接对 A_t 使用 .view() 失败！---\")\n",
    "    print(f\"错误信息: {e}\")\n",
    "\n",
    "# 使用 .contiguous() 创建一个内存连续的副本，再进行 view\n",
    "A_contiguous = A_t.contiguous()\n",
    "print(f\"\\n--- A_t.contiguous() 是连续的吗? {A_contiguous.is_contiguous()} ---\")\n",
    "A_view = A_contiguous.view(2, 6)\n",
    "print(\"--- 成功 view 后的 Tensor (2x6) ---\")\n",
    "print(A_view)\n"
   ]
  },
  {
   "cell_type": "markdown",
   "metadata": {},
   "source": [
    "#### 27. 高精度定向填充 (★★☆)\n",
    "任务：创建一个形状为 4×5 的全零张量 B。你需要按以下要求精确地在特定位置填入值：\n",
    "- 在第 0 行的第 2 列填入 11\n",
    "- 在第 1 行的第 0 列填入 22\n",
    "- 在第 3 行的第 4 列填入 33\n",
    "\n",
    "这个操作要求你能够根据给定的位置索引（行和列）高效地更新张量中的特定元素。\n",
    "\n",
    "提示：考虑如何通过索引列表同时定位并更新多个不同位置的值，尝试寻找一种比循环更高效的张量操作方式。"
   ]
  },
  {
   "cell_type": "code",
   "execution_count": 29,
   "metadata": {},
   "outputs": [
    {
     "name": "stdout",
     "output_type": "stream",
     "text": [
      "--- 方法一：直接索引赋值的结果 ---\n",
      "tensor([[ 0,  0, 11,  0,  0],\n",
      "        [22,  0,  0,  0,  0],\n",
      "        [ 0,  0,  0,  0,  0],\n",
      "        [ 0,  0,  0,  0, 33]])\n",
      "\n",
      "--- 方法二：使用 index_put_ 操作的结果 ---\n",
      "tensor([[ 0,  0, 11,  0,  0],\n",
      "        [22,  0,  0,  0,  0],\n",
      "        [ 0,  0,  0,  0,  0],\n",
      "        [ 0,  0,  0,  0, 33]])\n"
     ]
    }
   ],
   "source": [
    "# 创建一个 4x5 的全零张量\n",
    "B = torch.zeros(4, 5, dtype=torch.int64)\n",
    "\n",
    "# 方法一：直接索引赋值\n",
    "B[0, 2] = 11  # 在第 0 行的第 2 列填入 11\n",
    "B[1, 0] = 22  # 在第 1 行的第 0 列填入 22\n",
    "B[3, 4] = 33  # 在第 3 行的第 4 列填入 33\n",
    "\n",
    "print(\"--- 方法一：直接索引赋值的结果 ---\")\n",
    "print(B)\n",
    "\n",
    "# 定义要填充的位置索引\n",
    "row_indices = torch.tensor([0, 1, 3])\n",
    "col_indices = torch.tensor([2, 0, 4])\n",
    "values = torch.tensor([11, 22, 33])\n",
    "\n",
    "# 方法二：使用 index_put_ 操作\n",
    "B_index_put = torch.zeros(4, 5, dtype=torch.int64)\n",
    "\n",
    "# 使用 index_put_ 方法一次性更新多个位置\n",
    "B_index_put.index_put_((row_indices, col_indices), values)\n",
    "\n",
    "print(\"\\n--- 方法二：使用 index_put_ 操作的结果 ---\")\n",
    "print(B_index_put)"
   ]
  },
  {
   "cell_type": "markdown",
   "metadata": {},
   "source": [
    "#### 28. 综合应用：掩码填充 (★★☆)\n",
    "任务: 创建一个 5x5 的序列张量 C（值为0-24）。创建一个布尔掩码 mask，其中所有大于 3 的元素位置为 True，并将 C 中对应 mask 为 True 的位置的值都改为 -1。"
   ]
  },
  {
   "cell_type": "code",
   "execution_count": 30,
   "metadata": {},
   "outputs": [
    {
     "name": "stdout",
     "output_type": "stream",
     "text": [
      "--- 原始 Tensor C ---\n",
      "tensor([[ 0,  1,  2,  3,  4],\n",
      "        [ 5,  6,  7,  8,  9],\n",
      "        [10, 11, 12, 13, 14],\n",
      "        [15, 16, 17, 18, 19],\n",
      "        [20, 21, 22, 23, 24]])\n",
      "\n",
      "--- 布尔掩码 (值为 True 的位置将被填充) ---\n",
      "tensor([[False, False, False, False,  True],\n",
      "        [ True,  True,  True,  True,  True],\n",
      "        [ True,  True,  True,  True,  True],\n",
      "        [ True,  True,  True,  True,  True],\n",
      "        [ True,  True,  True,  True,  True]])\n",
      "\n",
      "--- masked_fill_ 后的结果 ---\n",
      "tensor([[ 0,  1,  2,  3, -1],\n",
      "        [-1, -1, -1, -1, -1],\n",
      "        [-1, -1, -1, -1, -1],\n",
      "        [-1, -1, -1, -1, -1],\n",
      "        [-1, -1, -1, -1, -1]])\n",
      "\n",
      "--- 直接索引赋值的结果 ---\n",
      "tensor([[ 0,  1,  2,  3, -1],\n",
      "        [-1, -1, -1, -1, -1],\n",
      "        [-1, -1, -1, -1, -1],\n",
      "        [-1, -1, -1, -1, -1],\n",
      "        [-1, -1, -1, -1, -1]])\n"
     ]
    }
   ],
   "source": [
    "# 创建一个 5x5 张量\n",
    "C = torch.arange(25).reshape(5, 5)\n",
    "\n",
    "# 创建布尔掩码\n",
    "mask = (C > 3)\n",
    "\n",
    "# 使用 masked_fill_ 进行原地填充\n",
    "# 注意函数名结尾的下划线 `_` 表示这是个原地 (in-place) 操作\n",
    "C.masked_fill_(mask, -1)\n",
    "\n",
    "print(\"--- 原始 Tensor C ---\")\n",
    "print(torch.arange(25).reshape(5, 5))\n",
    "print(\"\\n--- 布尔掩码 (值为 True 的位置将被填充) ---\")\n",
    "print(mask)\n",
    "print(\"\\n--- masked_fill_ 后的结果 ---\")\n",
    "print(C)\n",
    "\n",
    "# 直接使用索引赋值\n",
    "C = torch.arange(25).reshape(5, 5)\n",
    "C[C > 3] = -1\n",
    "print(\"\\n--- 直接索引赋值的结果 ---\")\n",
    "print(C)"
   ]
  },
  {
   "cell_type": "markdown",
   "metadata": {},
   "source": [
    "#### 29. 扩展与平铺：使用 expand 和 repeat (★★☆)\n",
    "任务: 创建一个形状为 (3, 1) 的张量 D。分别使用 .expand() 和 .repeat() 将其扩展为一个 3x4 的张量。比较两种方法，思考并探索它们在内存中的区别。"
   ]
  },
  {
   "cell_type": "code",
   "execution_count": 31,
   "metadata": {},
   "outputs": [
    {
     "name": "stdout",
     "output_type": "stream",
     "text": [
      "--- 原始 Tensor D (3x1) ---\n",
      "tensor([[1],\n",
      "        [2],\n",
      "        [3]])\n",
      "\n",
      "--- 使用 expand 后的 Tensor (3x4) ---\n",
      "tensor([[1, 1, 1, 1],\n",
      "        [2, 2, 2, 2],\n",
      "        [3, 3, 3, 3]])\n",
      "\n",
      "--- 使用 repeat 后的 Tensor (3x4) ---\n",
      "tensor([[1, 1, 1, 1],\n",
      "        [2, 2, 2, 2],\n",
      "        [3, 3, 3, 3]])\n",
      "\n",
      "expand 后的 storage 指针与原指针相同: True\n",
      "repeat 后的 storage 指针与原指针相同: False\n"
     ]
    }
   ],
   "source": [
    "# 创建一个 (3, 1) 的张量\n",
    "D = torch.tensor([[1], [2], [3]])\n",
    "\n",
    "# 使用 .expand(-1,4)，-1 表示该维度的大小不改变\n",
    "# .expand() 不会分配新内存，只是创建了新的视图，更高效\n",
    "D_expanded = D.expand(-1, 4)\n",
    "\n",
    "# 使用 .repeat(1,4)，1表示该维度不变，4表示该维度重复4次\n",
    "# .repeat() 会复制数据，在内存中创建新的副本\n",
    "D_repeated = D.repeat(1, 4)\n",
    "\n",
    "print(\"--- 原始 Tensor D (3x1) ---\")\n",
    "print(D)\n",
    "print(\"\\n--- 使用 expand 后的 Tensor (3x4) ---\")\n",
    "print(D_expanded)\n",
    "print(\"\\n--- 使用 repeat 后的 Tensor (3x4) ---\")\n",
    "print(D_repeated)\n",
    "\n",
    "# 验证 expand 不分配新内存\n",
    "D_expanded_storage_ptr = D_expanded.untyped_storage().data_ptr()\n",
    "D_storage_ptr = D.untyped_storage().data_ptr()\n",
    "print(f\"\\nexpand 后的 storage 指针与原指针相同: {D_expanded_storage_ptr == D_storage_ptr}\")\n",
    "\n",
    "# 验证 repeat 分配了新内存\n",
    "D_repeated_storage_ptr = D_repeated.untyped_storage().data_ptr()\n",
    "print(f\"repeat 后的 storage 指针与原指针相同: {D_repeated_storage_ptr == D_storage_ptr}\")"
   ]
  },
  {
   "cell_type": "markdown",
   "metadata": {},
   "source": [
    "#### 30. 综合应用：图像批次处理 (★★☆)\n",
    "任务: 假设你有一个批次的灰度图像数据，其形状为 (10, 1, 28, 28)，代表 10 张 28x28 的单通道图像。现在，你需要将其转换为 (10, 28, 28, 3)，模拟将灰度图转为 RGB 图（通过简单复制通道）。\n",
    "\n",
    "- 移除大小为 1 的通道维度。\n",
    "- 增加一个新的通道维度。\n",
    "- 将新的通道维度扩展为 3。"
   ]
  },
  {
   "cell_type": "code",
   "execution_count": 32,
   "metadata": {},
   "outputs": [
    {
     "name": "stdout",
     "output_type": "stream",
     "text": [
      "Step 1: squeeze(1) 后形状: torch.Size([10, 28, 28])\n",
      "Step 2: unsqueeze(-1) 后形状: torch.Size([10, 28, 28, 1])\n",
      "Step 3: expand 后的最终形状: torch.Size([10, 28, 28, 3])\n"
     ]
    }
   ],
   "source": [
    "# 模拟一个批次的图像数据 (N, C, H, W)\n",
    "batch_images = torch.randn(10, 1, 28, 28)\n",
    "\n",
    "# 1. 移除大小为 1 的通道维度 -> (10, 28, 28)\n",
    "squeezed_batch = batch_images.squeeze(1)\n",
    "print(f\"Step 1: squeeze(1) 后形状: {squeezed_batch.shape}\")\n",
    "\n",
    "# 2. 在末尾增加一个新的通道维度 -> (10, 28, 28, 1)\n",
    "unsqueezed_batch = squeezed_batch.unsqueeze(-1)\n",
    "print(f\"Step 2: unsqueeze(-1) 后形状: {unsqueezed_batch.shape}\")\n",
    "\n",
    "# 3. 使用 expand 将最后一个维度扩展为 3 -> (10, 28, 28, 3)\n",
    "rgb_batch = unsqueezed_batch.expand(-1, -1, -1, 3)\n",
    "print(f\"Step 3: expand 后的最终形状: {rgb_batch.shape}\")"
   ]
  },
  {
   "cell_type": "markdown",
   "metadata": {},
   "source": [
    "#### 31. 综合挑战：提取棋盘格点 (★★★)\n",
    "任务: 创建一个 8x8 的张量 E，代表一个棋盘，值为 0 到 63。你的任务是只提取出所有 \"白格\" 上的数字。假设左上角 (0, 0) 是白格，那么行索引和列索引之和为偶数的位置就是白格。"
   ]
  },
  {
   "cell_type": "code",
   "execution_count": 33,
   "metadata": {},
   "outputs": [
    {
     "name": "stdout",
     "output_type": "stream",
     "text": [
      "--- 原始棋盘 (8x8) ---\n",
      "tensor([[ 0,  1,  2,  3,  4,  5,  6,  7],\n",
      "        [ 8,  9, 10, 11, 12, 13, 14, 15],\n",
      "        [16, 17, 18, 19, 20, 21, 22, 23],\n",
      "        [24, 25, 26, 27, 28, 29, 30, 31],\n",
      "        [32, 33, 34, 35, 36, 37, 38, 39],\n",
      "        [40, 41, 42, 43, 44, 45, 46, 47],\n",
      "        [48, 49, 50, 51, 52, 53, 54, 55],\n",
      "        [56, 57, 58, 59, 60, 61, 62, 63]])\n",
      "\n",
      "--- 白格掩码 ---\n",
      "tensor([[ True, False,  True, False,  True, False,  True, False],\n",
      "        [False,  True, False,  True, False,  True, False,  True],\n",
      "        [ True, False,  True, False,  True, False,  True, False],\n",
      "        [False,  True, False,  True, False,  True, False,  True],\n",
      "        [ True, False,  True, False,  True, False,  True, False],\n",
      "        [False,  True, False,  True, False,  True, False,  True],\n",
      "        [ True, False,  True, False,  True, False,  True, False],\n",
      "        [False,  True, False,  True, False,  True, False,  True]])\n",
      "\n",
      "--- 方法一提取出的所有白格元素 ---\n",
      "tensor([ 0,  2,  4,  6,  9, 11, 13, 15, 16, 18, 20, 22, 25, 27, 29, 31, 32, 34,\n",
      "        36, 38, 41, 43, 45, 47, 48, 50, 52, 54, 57, 59, 61, 63])\n",
      "共提取了 32 个元素\n",
      "--- 方法二计算得到的rows和cols ---\n",
      "tensor([[0, 0, 0, 0, 0, 0, 0, 0],\n",
      "        [1, 1, 1, 1, 1, 1, 1, 1],\n",
      "        [2, 2, 2, 2, 2, 2, 2, 2],\n",
      "        [3, 3, 3, 3, 3, 3, 3, 3],\n",
      "        [4, 4, 4, 4, 4, 4, 4, 4],\n",
      "        [5, 5, 5, 5, 5, 5, 5, 5],\n",
      "        [6, 6, 6, 6, 6, 6, 6, 6],\n",
      "        [7, 7, 7, 7, 7, 7, 7, 7]]) tensor([[0, 1, 2, 3, 4, 5, 6, 7],\n",
      "        [0, 1, 2, 3, 4, 5, 6, 7],\n",
      "        [0, 1, 2, 3, 4, 5, 6, 7],\n",
      "        [0, 1, 2, 3, 4, 5, 6, 7],\n",
      "        [0, 1, 2, 3, 4, 5, 6, 7],\n",
      "        [0, 1, 2, 3, 4, 5, 6, 7],\n",
      "        [0, 1, 2, 3, 4, 5, 6, 7],\n",
      "        [0, 1, 2, 3, 4, 5, 6, 7]])\n",
      "\n",
      "--- 方法二提取出的所有白格元素 ---\n",
      "tensor([ 0,  2,  4,  6,  9, 11, 13, 15, 16, 18, 20, 22, 25, 27, 29, 31, 32, 34,\n",
      "        36, 38, 41, 43, 45, 47, 48, 50, 52, 54, 57, 59, 61, 63])\n",
      "共提取了 32 个元素\n"
     ]
    }
   ],
   "source": [
    "# --- 解法一 ---\n",
    "# 创建一个 8x8 的棋盘\n",
    "E = torch.arange(64).reshape(8, 8)\n",
    "\n",
    "# 创建行和列的索引网格\n",
    "rows = torch.arange(8).view(8, 1)\n",
    "cols = torch.arange(8).view(1, 8)\n",
    "\n",
    "# 计算每个位置的索引和（广播机制）\n",
    "index_sum = rows + cols\n",
    "\n",
    "# 创建布尔掩码，索引和为偶数的位置是 True\n",
    "mask = (index_sum % 2 == 0)\n",
    "\n",
    "# 使用布尔索引提取白格上的元素\n",
    "white_cells = E[mask]\n",
    "\n",
    "print(\"--- 原始棋盘 (8x8) ---\")\n",
    "print(E)\n",
    "print(\"\\n--- 白格掩码 ---\")\n",
    "print(mask)\n",
    "print(\"\\n--- 方法一提取出的所有白格元素 ---\")\n",
    "print(white_cells)\n",
    "print(f\"共提取了 {white_cells.numel()} 个元素\")\n",
    "\n",
    "\n",
    "# --- 解法二 ---\n",
    "rows, cols = torch.meshgrid(torch.arange(8), torch.arange(8), indexing='ij')\n",
    "white_cells = E[(rows + cols) % 2 == 0] # 无广播操作，因为rows和cols都是8x8的矩阵\n",
    "print(\"--- 方法二计算得到的rows和cols ---\")\n",
    "print(rows, cols)\n",
    "print(\"\\n--- 方法二提取出的所有白格元素 ---\")\n",
    "print(white_cells)\n",
    "print(f\"共提取了 {white_cells.numel()} 个元素\")\n"
   ]
  },
  {
   "cell_type": "markdown",
   "metadata": {},
   "source": [
    "#### 32. 综合挑战：批量矩阵特定对角线提取 (★★★)\n",
    "任务: 假设你有一个形状为 (4, 5, 5) 的张量 F，代表一个批次的 4 个 5x5 矩阵。你需要提取出这 4 个矩阵的主对角线元素，最终得到一个形状为 (4, 5) 的张量。请思考如何高效完成。"
   ]
  },
  {
   "cell_type": "code",
   "execution_count": 34,
   "metadata": {},
   "outputs": [
    {
     "name": "stdout",
     "output_type": "stream",
     "text": [
      "--- 原始批次张量形状 ---\n",
      "torch.Size([4, 5, 5])\n",
      "\n",
      "--- 使用 torch.diagonal 提取的结果 (4, 5) ---\n",
      "tensor([[ 0,  6, 12, 18, 24],\n",
      "        [25, 31, 37, 43, 49],\n",
      "        [50, 56, 62, 68, 74],\n",
      "        [75, 81, 87, 93, 99]])\n",
      "\n",
      "--- 使用手动索引提取的结果 (4, 5) ---\n",
      "tensor([[ 0,  6, 12, 18, 24],\n",
      "        [25, 31, 37, 43, 49],\n",
      "        [50, 56, 62, 68, 74],\n",
      "        [75, 81, 87, 93, 99]])\n"
     ]
    }
   ],
   "source": [
    "# 创建一个批次的矩阵\n",
    "F = torch.arange(4 * 5 * 5).reshape(4, 5, 5)\n",
    "\n",
    "# 方法一：使用 gather\n",
    "# 我们需要一个索引张量，告诉 gather 去哪里取值\n",
    "# 对于第 k 个矩阵，我们要取 (k, 0, 0), (k, 1, 1), ..., (k, 4, 4)\n",
    "# 这很难用一次 gather 完成。\n",
    "\n",
    "\n",
    "# 方法二：使用 torch.diagonal(F, offset=0, dim1=1, dim2=2)\n",
    "# offset=0 表示主对角线，dim1和dim2构成了一个平面，函数在这个平面上取对角线\n",
    "# 这是最直接、最简洁的方法\n",
    "diagonals_direct = torch.diagonal(F, offset=0, dim1=1, dim2=2)\n",
    "\n",
    "\n",
    "# 方法三：手动构造索引 (更底层，有助于理解)\n",
    "# 创建一个范围 [0, 1, 2, 3, 4]\n",
    "indices = torch.arange(5)\n",
    "# F[:, indices, indices] 这种索引方式在 PyTorch 中可以直接使用\n",
    "diagonals_manual = F[:, indices, indices]\n",
    "\n",
    "print(\"--- 原始批次张量形状 ---\")\n",
    "print(F.shape)\n",
    "# print(\"\\n--- 使用 gather 提取的结果 (4, 5) ---\")\n",
    "# print(diagonals_gather)\n",
    "print(\"\\n--- 使用 torch.diagonal 提取的结果 (4, 5) ---\")\n",
    "print(diagonals_direct)\n",
    "print(\"\\n--- 使用手动索引提取的结果 (4, 5) ---\")\n",
    "print(diagonals_manual)\n"
   ]
  },
  {
   "cell_type": "markdown",
   "metadata": {},
   "source": [
    "#### 33. 综合挑战：翻转序列 (★★☆)\n",
    "任务: 给定一个形状为 (5, 10) 的张量 G，代表 5 个长度为 10 的序列。请将每个序列独立地进行翻转，得到一个同样形状为 (5, 10) 的新张量，其中每一行都是原始行的逆序。"
   ]
  },
  {
   "cell_type": "code",
   "execution_count": 35,
   "metadata": {},
   "outputs": [
    {
     "name": "stdout",
     "output_type": "stream",
     "text": [
      "这种写法在numpy中支持，但在PyTorch中不支持\n",
      "\n",
      "--- 原始序列批次 (5, 10) ---\n",
      "tensor([[ 0,  1,  2,  3,  4,  5,  6,  7,  8,  9],\n",
      "        [10, 11, 12, 13, 14, 15, 16, 17, 18, 19],\n",
      "        [20, 21, 22, 23, 24, 25, 26, 27, 28, 29],\n",
      "        [30, 31, 32, 33, 34, 35, 36, 37, 38, 39],\n",
      "        [40, 41, 42, 43, 44, 45, 46, 47, 48, 49]])\n",
      "\n",
      "--- 使用torch.flip()翻转每个序列后的结果 ---\n",
      "tensor([[ 9,  8,  7,  6,  5,  4,  3,  2,  1,  0],\n",
      "        [19, 18, 17, 16, 15, 14, 13, 12, 11, 10],\n",
      "        [29, 28, 27, 26, 25, 24, 23, 22, 21, 20],\n",
      "        [39, 38, 37, 36, 35, 34, 33, 32, 31, 30],\n",
      "        [49, 48, 47, 46, 45, 44, 43, 42, 41, 40]])\n",
      "\n",
      "--- 使用索引翻转每个序列后的结果 ---\n",
      "tensor([[ 9,  8,  7,  6,  5,  4,  3,  2,  1,  0],\n",
      "        [19, 18, 17, 16, 15, 14, 13, 12, 11, 10],\n",
      "        [29, 28, 27, 26, 25, 24, 23, 22, 21, 20],\n",
      "        [39, 38, 37, 36, 35, 34, 33, 32, 31, 30],\n",
      "        [49, 48, 47, 46, 45, 44, 43, 42, 41, 40]])\n"
     ]
    }
   ],
   "source": [
    "# 创建一个批次的序列\n",
    "G = torch.arange(50).reshape(5, 10)\n",
    "\n",
    "# --- 方法一 ---\n",
    "# 使用 `torch.flip()` 函数，指定要翻转的维度\n",
    "# dims控制反转的维度以及反转的顺序，[1]表示在第二个维度上反转\n",
    "G_flipped = torch.flip(G, dims=[1])\n",
    "\n",
    "# --- 方法二 ---\n",
    "# 使用索引反转每个序列\n",
    "G_flipped_index = G[:, torch.arange(G.size(1)-1, -1, -1)]\n",
    "\n",
    "# 也可以使用倒序列表作为索引下标，但是思路相同\n",
    "# index = [i for i in range(G.size(1)-1, -1, -1)]\n",
    "# G_flipped_index = G[:, index]\n",
    "\n",
    "# --- 方法三 ---\n",
    "# 使用切片反转每个序列\n",
    "# 语法 G[:, ::-1] 但在PyTorch中需要用专门的索引表示法\n",
    "try:\n",
    "    G_flipped_slice = G[:, ::-1]\n",
    "except:\n",
    "    print(\"这种写法在numpy中支持，但在PyTorch中不支持\\n\")\n",
    "\n",
    "print(\"--- 原始序列批次 (5, 10) ---\")\n",
    "print(G)\n",
    "print(\"\\n--- 使用torch.flip()翻转每个序列后的结果 ---\")\n",
    "print(G_flipped)\n",
    "print(\"\\n--- 使用索引翻转每个序列后的结果 ---\")\n",
    "print(G_flipped_index)\n",
    "\n"
   ]
  },
  {
   "cell_type": "markdown",
   "metadata": {},
   "source": [
    "#### 34. 综合挑战：创建 One-Hot 编码 (★★★)\n",
    "任务: One-Hot 编码是分类任务中常用的数据预处理步骤。给定一个包含类别索引的一维张量 labels = torch.tensor([0, 2, 1, 4]) 和类别总数 num_classes = 5，请创建一个 4x5 的 One-Hot 编码张量。每一行对应一个标签，该行中标签索引的位置为 1，其余为 0。请尝试用 scatter_ 实现。"
   ]
  },
  {
   "cell_type": "code",
   "execution_count": 36,
   "metadata": {},
   "outputs": [
    {
     "name": "stdout",
     "output_type": "stream",
     "text": [
      "--- 原始标签 ---\n",
      "tensor([0, 2, 1, 4])\n",
      "\n",
      "--- 转换后的 One-Hot 编码张量 (4x5) ---\n",
      "tensor([[1., 0., 0., 0., 0.],\n",
      "        [0., 0., 1., 0., 0.],\n",
      "        [0., 1., 0., 0., 0.],\n",
      "        [0., 0., 0., 0., 1.]])\n"
     ]
    }
   ],
   "source": [
    "# 输入的标签和类别总数\n",
    "labels = torch.tensor([0, 2, 1, 4])\n",
    "num_classes = 5\n",
    "num_labels = labels.shape[0]\n",
    "\n",
    "# 1. 创建一个全零的目标张量 [4,5]\n",
    "one_hot = torch.zeros(num_labels, num_classes)\n",
    "\n",
    "# 2. 准备 scatter_ 需要的 index 张量\n",
    "# labels 需要是 (4, 1) 的形状，以指定每一行要修改的列索引\n",
    "index = labels.unsqueeze(1)\n",
    "\n",
    "# 3. 使用 scatter_ 填充\n",
    "# 在 dim=1 (列方向) 上操作\n",
    "# 对于 one_hot 的第 i 行，在 index[i] (也就是 labels[i]) 指定的列上，填入值 1\n",
    "one_hot.scatter_(dim=1, index=index, value=1.0)\n",
    "\n",
    "\n",
    "print(\"--- 原始标签 ---\")\n",
    "print(labels)\n",
    "print(\"\\n--- 转换后的 One-Hot 编码张量 (4x5) ---\")\n",
    "print(one_hot)"
   ]
  },
  {
   "cell_type": "markdown",
   "metadata": {},
   "source": [
    "#### 35. 终极挑战：块交换 (★★★)\n",
    "任务: 创建一个 6x6 的张量 H。将其在两个维度上都均匀切分成 4 个 3x3 的块，然后将这 4 个块进行对角线交换（左上与右下交换，右上与左下交换）。\n",
    "\n",
    "原始布局: [[A, B], [C, D]]\n",
    "目标布局: [[D, C], [B, A]]"
   ]
  },
  {
   "cell_type": "code",
   "execution_count": 37,
   "metadata": {},
   "outputs": [
    {
     "name": "stdout",
     "output_type": "stream",
     "text": [
      "--- 原始张量 H (6x6) ---\n",
      "tensor([[ 0,  1,  2,  3,  4,  5],\n",
      "        [ 6,  7,  8,  9, 10, 11],\n",
      "        [12, 13, 14, 15, 16, 17],\n",
      "        [18, 19, 20, 21, 22, 23],\n",
      "        [24, 25, 26, 27, 28, 29],\n",
      "        [30, 31, 32, 33, 34, 35]])\n",
      "\n",
      "--- 左上块 A ---\n",
      "tensor([[ 0,  1,  2],\n",
      "        [ 6,  7,  8],\n",
      "        [12, 13, 14]])\n",
      "--- 右上块 B ---\n",
      "tensor([[ 3,  4,  5],\n",
      "        [ 9, 10, 11],\n",
      "        [15, 16, 17]])\n",
      "--- 左下块 C ---\n",
      "tensor([[18, 19, 20],\n",
      "        [24, 25, 26],\n",
      "        [30, 31, 32]])\n",
      "--- 右下块 D ---\n",
      "tensor([[21, 22, 23],\n",
      "        [27, 28, 29],\n",
      "        [33, 34, 35]])\n",
      "\n",
      "--- 交换块后的最终结果 ---\n",
      "tensor([[21, 22, 23, 18, 19, 20],\n",
      "        [27, 28, 29, 24, 25, 26],\n",
      "        [33, 34, 35, 30, 31, 32],\n",
      "        [ 3,  4,  5,  0,  1,  2],\n",
      "        [ 9, 10, 11,  6,  7,  8],\n",
      "        [15, 16, 17, 12, 13, 14]])\n"
     ]
    }
   ],
   "source": [
    "# 创建一个 6x6 张量\n",
    "H = torch.arange(36).reshape(6, 6)\n",
    "\n",
    "# 1. 将 H 分割成 4 个 3x3 的块\n",
    "# 先沿行分割\n",
    "H_top, H_bottom = torch.chunk(H, 2, dim=0)\n",
    "# 再对上下两部分分别沿列分割\n",
    "A, B = torch.chunk(H_top, 2, dim=1)\n",
    "C, D = torch.chunk(H_bottom, 2, dim=1)\n",
    "\n",
    "# 2. 按照新的布局重新拼接\n",
    "# 创建新的顶行 [D, C] 和底行 [B, A]\n",
    "new_top_row = torch.cat((D, C), dim=1)\n",
    "new_bottom_row = torch.cat((B, A), dim=1)\n",
    "\n",
    "# 将新的两行沿行方向拼接\n",
    "result = torch.cat((new_top_row, new_bottom_row), dim=0)\n",
    "\n",
    "print(\"--- 原始张量 H (6x6) ---\")\n",
    "print(H)\n",
    "print(\"\\n--- 左上块 A ---\")\n",
    "print(A)\n",
    "print(\"--- 右上块 B ---\")\n",
    "print(B)\n",
    "print(\"--- 左下块 C ---\")\n",
    "print(C)\n",
    "print(\"--- 右下块 D ---\")\n",
    "print(D)\n",
    "print(\"\\n--- 交换块后的最终结果 ---\")\n",
    "print(result)"
   ]
  },
  {
   "cell_type": "markdown",
   "metadata": {},
   "source": [
    "### 模块三：数学与逻辑运算 🧮\n",
    "掌握张量的数值计算，这是构建神经网络前向传播的基础。"
   ]
  },
  {
   "cell_type": "markdown",
   "metadata": {},
   "source": [
    "#### 36. 基础运算与广播 (★★☆)\n",
    "任务: 创建一个形状为 (4, 1) 的张量 A 和一个形状为 (1, 3) 的张量 B。\n",
    "\n",
    "计算 A 和 B 的和得到张量 C ，并解释结果的形状为何是 (4, 3)。\n",
    "计算 C 中各元素的自然指数。"
   ]
  },
  {
   "cell_type": "code",
   "execution_count": 38,
   "metadata": {},
   "outputs": [
    {
     "name": "stdout",
     "output_type": "stream",
     "text": [
      "--- 原始张量 A (4x1) ---\n",
      "tensor([[0],\n",
      "        [1],\n",
      "        [2],\n",
      "        [3]])\n",
      "\n",
      "--- 原始张量 B (1x3) ---\n",
      "tensor([[0, 1, 2]])\n",
      "\n",
      "--- A + B 的计算结果 (4x3) ---\n",
      "tensor([[0, 1, 2],\n",
      "        [1, 2, 3],\n",
      "        [2, 3, 4],\n",
      "        [3, 4, 5]])\n",
      "结果形状: torch.Size([4, 3])\n",
      "\n",
      "--- C 的自然指数结果 ---\n",
      "tensor([[  1.0000,   2.7183,   7.3891],\n",
      "        [  2.7183,   7.3891,  20.0855],\n",
      "        [  7.3891,  20.0855,  54.5981],\n",
      "        [ 20.0855,  54.5981, 148.4132]])\n"
     ]
    }
   ],
   "source": [
    "# 1. 创建张量\n",
    "A = torch.arange(4).view(4, 1)\n",
    "B = torch.arange(3).view(1, 3)\n",
    "print(\"--- 原始张量 A (4x1) ---\")\n",
    "print(A)\n",
    "print(\"\\n--- 原始张量 B (1x3) ---\")\n",
    "print(B)\n",
    "\n",
    "# 2. 计算和，触发广播机制\n",
    "# A 的形状是 (4, 1)，B 的形状是 (1, 3)\n",
    "# 广播后，A 变为 (4, 3)，B 变为 (4, 3)，然后逐元素相加\n",
    "C = A + B\n",
    "print(\"\\n--- A + B 的计算结果 (4x3) ---\")\n",
    "print(C)\n",
    "print(f\"结果形状: {C.shape}\")\n",
    "\n",
    "# 3. 计算自然指数\n",
    "C_exp = torch.exp(C.float()) # exp需要浮点数输入\n",
    "print(\"\\n--- C 的自然指数结果 ---\")\n",
    "print(C_exp)"
   ]
  },
  {
   "cell_type": "markdown",
   "metadata": {},
   "source": [
    "#### 37. 元素处理组合 (★★☆)\n",
    "任务: 创建一个在 (-10, 10) 区间内均匀分布的 (3, 3) 随机张量 X。\n",
    "\n",
    "- 计算其所有元素的绝对值。\n",
    "- 将原始张量 X 的所有元素值限制在 [-5, 5] 区间内，超出范围的值赋值为区间边缘值（-5或5）。\n",
    "- 对限制范围后的结果进行四舍五入。"
   ]
  },
  {
   "cell_type": "code",
   "execution_count": 39,
   "metadata": {},
   "outputs": [
    {
     "name": "stdout",
     "output_type": "stream",
     "text": [
      "--- 原始张量 X ---\n",
      "tensor([[-0.8383, -0.3429, -3.7500],\n",
      "        [ 2.3004, -5.7211, -1.7635],\n",
      "        [ 3.8759,  9.3862,  2.3559]])\n",
      "\n",
      "--- X 的绝对值 ---\n",
      "tensor([[0.8383, 0.3429, 3.7500],\n",
      "        [2.3004, 5.7211, 1.7635],\n",
      "        [3.8759, 9.3862, 2.3559]])\n",
      "\n",
      "--- 将 X 限制在 [-5, 5] 内的结果 ---\n",
      "tensor([[-0.8383, -0.3429, -3.7500],\n",
      "        [ 2.3004, -5.0000, -1.7635],\n",
      "        [ 3.8759,  5.0000,  2.3559]])\n",
      "\n",
      "--- 四舍五入后的结果 ---\n",
      "X_rounded: tensor([[-1., -0., -4.],\n",
      "        [ 2., -5., -2.],\n",
      "        [ 4.,  5.,  2.]])\n"
     ]
    }
   ],
   "source": [
    "# 设置随机种子以复现结果\n",
    "torch.manual_seed(10)\n",
    "\n",
    "# 1. 创建张量\n",
    "X = (torch.rand(3, 3) * 20) - 10 # 转换为 (-10, 10) 范围\n",
    "print(\"--- 原始张量 X ---\")\n",
    "print(X)\n",
    "\n",
    "# 2. 计算绝对值\n",
    "X_abs = torch.abs(X)\n",
    "print(\"\\n--- X 的绝对值 ---\")\n",
    "print(X_abs)\n",
    "\n",
    "# 3. 限制元素范围\n",
    "X_clamped = torch.clamp(X, min=-5, max=5)\n",
    "print(\"\\n--- 将 X 限制在 [-5, 5] 内的结果 ---\")\n",
    "print(X_clamped)\n",
    "\n",
    "# 4. 对结果进行四舍五入\n",
    "X_rounded = torch.round(X_clamped)\n",
    "print(\"\\n--- 四舍五入后的结果 ---\")\n",
    "print(\"X_rounded:\",X_rounded)"
   ]
  },
  {
   "cell_type": "markdown",
   "metadata": {},
   "source": [
    "#### 38. 矩阵乘法的核心区别 (★★☆)\n",
    "任务: 创建两个形状均为 (2, 3) 的随机张量 A 和 B。\n",
    "\n",
    "- 计算 A 与 B 的逐元素乘积。\n",
    "- 计算 A 与 B 的转置（B.T）的矩阵乘积。\n",
    "- 解释两种乘法在计算方式和结果形状上的根本不同。"
   ]
  },
  {
   "cell_type": "code",
   "execution_count": 40,
   "metadata": {},
   "outputs": [
    {
     "name": "stdout",
     "output_type": "stream",
     "text": [
      "--- 原始张量 A (2x3) ---\n",
      "tensor([[-1.2061,  0.0617,  1.1632],\n",
      "        [-1.5008, -1.5944, -0.0187]])\n",
      "\n",
      "--- 原始张量 B (2x3) ---\n",
      "tensor([[-2.1325, -0.5270, -0.1021],\n",
      "        [ 0.0099, -0.4454, -1.4976]])\n",
      "\n",
      "--- 逐元素乘积 (A * B) 的结果 (2x3) ---\n",
      "tensor([[ 2.5719, -0.0325, -0.1188],\n",
      "        [-0.0149,  0.7102,  0.0280]])\n",
      "\n",
      "--- 矩阵乘积的结果 (2x2) ---\n",
      "tensor([[ 2.4207, -1.7813],\n",
      "        [ 4.0427,  0.7234]])\n",
      "tensor([[ 2.4207, -1.7813],\n",
      "        [ 4.0427,  0.7234]])\n"
     ]
    }
   ],
   "source": [
    "# 设置随机种子\n",
    "torch.manual_seed(20)\n",
    "\n",
    "# 1. 创建张量\n",
    "A = torch.randn(2, 3)\n",
    "B = torch.randn(2, 3)\n",
    "print(\"--- 原始张量 A (2x3) ---\")\n",
    "print(A)\n",
    "print(\"\\n--- 原始张量 B (2x3) ---\")\n",
    "print(B)\n",
    "\n",
    "# 2. 逐元素乘法\n",
    "# 要求两个张量形状相同，结果张量形状也与之相同\n",
    "element_wise_prod = A * B\n",
    "print(\"\\n--- 逐元素乘积 (A * B) 的结果 (2x3) ---\")\n",
    "print(element_wise_prod)\n",
    "\n",
    "# 3. 矩阵乘法\n",
    "# 要求第一个张量的列数等于第二个张量的行数\n",
    "# A(2x3) @ B.T(3x2) -> 结果为 (2x2)\n",
    "matrix_prod = A @ B.T\n",
    "matrix_prod_2 = torch.matmul(A, B.T)\n",
    "print(\"\\n--- 矩阵乘积的结果 (2x2) ---\")\n",
    "print(matrix_prod)\n",
    "print(matrix_prod_2)"
   ]
  },
  {
   "cell_type": "markdown",
   "metadata": {},
   "source": [
    "#### 39. 矩阵向量点积运算 (★★☆)\n",
    "任务: 创建一个 (4, 2) 的矩阵 M 和一个长度为 2 的向量 V。\n",
    "\n",
    "- 计算矩阵与向量的乘积。\n",
    "- 提取 M 的第一行 row1，并计算 row1 与向量 V 的点积。"
   ]
  },
  {
   "cell_type": "code",
   "execution_count": 41,
   "metadata": {},
   "outputs": [
    {
     "name": "stdout",
     "output_type": "stream",
     "text": [
      "--- 矩阵 M (4x2) ---\n",
      "tensor([[0., 1.],\n",
      "        [2., 3.],\n",
      "        [4., 5.],\n",
      "        [6., 7.]])\n",
      "\n",
      "--- 向量 V (长度为2) ---\n",
      "tensor([2., 3.])\n",
      "\n",
      "--- 矩阵-向量乘积结果1 (长度为4) ---\n",
      "tensor([ 3., 13., 23., 33.])\n",
      "\n",
      "--- 矩阵-向量乘积结果2 (长度为4) ---\n",
      "tensor([ 3., 13., 23., 33.])\n",
      "\n",
      "--- 矩阵-向量乘积结果3 (长度为4) ---\n",
      "tensor([ 3., 13., 23., 33.])\n",
      "\n",
      "--- M的第一行 ([0. 1.]) 与 V 的点积结果 ---\n",
      "tensor(3.)\n"
     ]
    }
   ],
   "source": [
    "# 1. 创建张量\n",
    "M = torch.arange(8).float().reshape(4, 2)\n",
    "V = torch.tensor([2.0, 3.0])\n",
    "print(\"--- 矩阵 M (4x2) ---\")\n",
    "print(M)\n",
    "print(\"\\n--- 向量 V (长度为2) ---\")\n",
    "print(V)\n",
    "\n",
    "# 2. 计算矩阵-向量乘积\n",
    "# 结果是一个长度为4的向量\n",
    "# 注意：不论V向量是否转置，PyTorch都可以自动处理\n",
    "mv_prod = torch.mv(M, V)\n",
    "print(\"\\n--- 矩阵-向量乘积结果1 (长度为4) ---\")\n",
    "print(mv_prod)\n",
    "\n",
    "mv_prod_2 = M @ V\n",
    "print(\"\\n--- 矩阵-向量乘积结果2 (长度为4) ---\")\n",
    "print(mv_prod_2)\n",
    "\n",
    "mv_prod_3 = torch.matmul(M, V)\n",
    "print(\"\\n--- 矩阵-向量乘积结果3 (长度为4) ---\")\n",
    "print(mv_prod_3)\n",
    "\n",
    "\n",
    "# 3. 计算点积\n",
    "row1 = M[0, :]\n",
    "dot_prod = torch.dot(row1, V)\n",
    "print(f\"\\n--- M的第一行 ({row1.numpy()}) 与 V 的点积结果 ---\")\n",
    "print(dot_prod)"
   ]
  },
  {
   "cell_type": "markdown",
   "metadata": {},
   "source": [
    "#### 40. 三角函数应用 (★★☆)\n",
    "任务: 创建一个从 0 到 2π 均匀间隔的10个点的一维张量 theta。\n",
    "\n",
    "- 计算 theta 所有元素的正弦和余弦值。\n",
    "- 验证 \"正弦值的平方\" 与 \"余弦值的平方\" 之和，其结果张量中所有元素都近似为1。"
   ]
  },
  {
   "cell_type": "code",
   "execution_count": 42,
   "metadata": {},
   "outputs": [
    {
     "name": "stdout",
     "output_type": "stream",
     "text": [
      "--- 角度张量 theta ---\n",
      "tensor([0.0000, 0.6981, 1.3963, 2.0944, 2.7925, 3.4907, 4.1888, 4.8869, 5.5851,\n",
      "        6.2832])\n",
      "\n",
      "--- 正弦值 ---\n",
      "tensor([ 0.0000e+00,  6.4279e-01,  9.8481e-01,  8.6603e-01,  3.4202e-01,\n",
      "        -3.4202e-01, -8.6603e-01, -9.8481e-01, -6.4279e-01,  1.7485e-07])\n",
      "\n",
      "--- 余弦值 ---\n",
      "tensor([ 1.0000,  0.7660,  0.1736, -0.5000, -0.9397, -0.9397, -0.5000,  0.1736,\n",
      "         0.7660,  1.0000])\n",
      "\n",
      "--- sin^2 + cos^2 的结果 (应近似为1) ---\n",
      "tensor([1.0000, 1.0000, 1.0000, 1.0000, 1.0000, 1.0000, 1.0000, 1.0000, 1.0000,\n",
      "        1.0000])\n"
     ]
    }
   ],
   "source": [
    "# 1. 创建角度张量\n",
    "# 与numpy不同，torch.linspace()默认包含结束点\n",
    "theta = torch.linspace(0, 2 * torch.pi, 10)\n",
    "print(\"--- 角度张量 theta ---\")\n",
    "print(theta)\n",
    "\n",
    "# 2. 计算正弦和余弦\n",
    "sin_theta = torch.sin(theta)\n",
    "cos_theta = torch.cos(theta)\n",
    "print(\"\\n--- 正弦值 ---\")\n",
    "print(sin_theta)\n",
    "print(\"\\n--- 余弦值 ---\")\n",
    "print(cos_theta)\n",
    "\n",
    "# 3. 验证 sin^2 + cos^2 = 1\n",
    "sum_of_squares = sin_theta.pow(2) + cos_theta.pow(2)\n",
    "print(\"\\n--- sin^2 + cos^2 的结果 (应近似为1) ---\")\n",
    "print(sum_of_squares)"
   ]
  },
  {
   "cell_type": "markdown",
   "metadata": {},
   "source": [
    "#### 41. 基础聚合操作 (★★☆)\n",
    "任务: 创建一个 (5, 4) 的随机整数张量，计算整个张量的 总和、均值 和 标准差。"
   ]
  },
  {
   "cell_type": "code",
   "execution_count": 43,
   "metadata": {},
   "outputs": [
    {
     "name": "stdout",
     "output_type": "stream",
     "text": [
      "--- 原始张量 X (5x4) ---\n",
      "tensor([[17., 17., 17., 13.],\n",
      "        [16.,  4., 19.,  2.],\n",
      "        [17.,  7.,  5.,  6.],\n",
      "        [11.,  5., 19.,  7.],\n",
      "        [ 9.,  9.,  5.,  9.]])\n",
      "\n",
      "--- 聚合计算结果 ---\n",
      "总和: 214.00\n",
      "均值: 10.70\n",
      "标准差: 5.65\n"
     ]
    }
   ],
   "source": [
    "# 设置随机种子\n",
    "torch.manual_seed(30)\n",
    "\n",
    "# 1. 创建张量\n",
    "X = torch.randint(0, 20, (5, 4)).float() # 转换为浮点数以便计算均值和标准差\n",
    "print(\"--- 原始张量 X (5x4) ---\")\n",
    "print(X)\n",
    "\n",
    "# 2. 计算聚合值\n",
    "total_sum = X.sum()\n",
    "mean_val = X.mean()\n",
    "std_val = X.std()\n",
    "\n",
    "\n",
    "print(f\"\\n--- 聚合计算结果 ---\")\n",
    "print(f\"总和: {total_sum.item():.2f}\")\n",
    "print(f\"均值: {mean_val.item():.2f}\")\n",
    "print(f\"标准差: {std_val.item():.2f}\")"
   ]
  },
  {
   "cell_type": "markdown",
   "metadata": {},
   "source": [
    "#### 42. 按维度聚合与 keepdim (★★☆)\n",
    "任务: 对于一个 (5, 4) 的随机张量，分别计算 每一列 的 **总和** 和 每一行 的 **均值**。其中，在计算行均值时，请设置参数以保持结果的维度。"
   ]
  },
  {
   "cell_type": "code",
   "execution_count": 44,
   "metadata": {},
   "outputs": [
    {
     "name": "stdout",
     "output_type": "stream",
     "text": [
      "--- 原始张量 X (5x4) ---\n",
      "tensor([[ 0.1838,  0.1832, -2.3538, -0.1817],\n",
      "        [-0.2994, -2.1561,  0.4940,  2.4608],\n",
      "        [-1.2028,  0.8062,  1.2355, -0.5087],\n",
      "        [-2.5162,  0.1458,  1.5299,  0.9691],\n",
      "        [-0.7181, -1.6961,  1.0695, -0.9444]])\n",
      "\n",
      "--- 每一列的总和 (dim=0) ---\n",
      "tensor([-4.5527, -2.7169,  1.9752,  1.7952])\n",
      "结果形状: torch.Size([4])\n",
      "\n",
      "--- 每一行的均值 (dim=1, keepdim=True) ---\n",
      "tensor([[-0.5421],\n",
      "        [ 0.1248],\n",
      "        [ 0.0826],\n",
      "        [ 0.0322],\n",
      "        [-0.5723]])\n",
      "结果形状: torch.Size([5, 1])\n"
     ]
    }
   ],
   "source": [
    "# 设置随机种子\n",
    "torch.manual_seed(35)\n",
    "X = torch.randn(5, 4)\n",
    "print(\"--- 原始张量 X (5x4) ---\")\n",
    "print(X)\n",
    "\n",
    "# 1. 计算每一列的总和 (沿 dim=0 聚合)\n",
    "# 结果形状为 (4,)\n",
    "col_sum = X.sum(dim=0)\n",
    "print(\"\\n--- 每一列的总和 (dim=0) ---\")\n",
    "print(col_sum)\n",
    "print(f\"结果形状: {col_sum.shape}\")\n",
    "\n",
    "# 2. 计算每一行的均值，并保持维度\n",
    "# 结果形状应为 (5, 1) 而不是 (5,)\n",
    "row_mean_keepdim = X.mean(dim=1, keepdim=True)\n",
    "print(\"\\n--- 每一行的均值 (dim=1, keepdim=True) ---\")\n",
    "print(row_mean_keepdim)\n",
    "print(f\"结果形状: {row_mean_keepdim.shape}\")"
   ]
  },
  {
   "cell_type": "markdown",
   "metadata": {},
   "source": [
    "#### 43. 查找最值及其索引 (★★☆)\n",
    "任务: 创建一个 (3, 4) 的随机张量。\n",
    "\n",
    "- 找出整个张量的最大值。\n",
    "- 找出每一行中的最大值及其对应的列索引。"
   ]
  },
  {
   "cell_type": "code",
   "execution_count": 45,
   "metadata": {},
   "outputs": [
    {
     "name": "stdout",
     "output_type": "stream",
     "text": [
      "--- 原始张量 X (3x4) ---\n",
      "tensor([[ 0.9307, -0.3482,  0.8855, -0.4909],\n",
      "        [-0.4273,  0.9385,  1.1841,  0.5234],\n",
      "        [ 0.5403, -0.8986,  1.0984, -0.2616]])\n",
      "\n",
      "--- 全局最大值 ---\n",
      "1.1840680837631226\n",
      "\n",
      "--- 每一行的最大值 ---\n",
      "tensor([0.9307, 1.1841, 1.0984])\n",
      "\n",
      "--- 每一行最大值对应的列索引 ---\n",
      "tensor([0, 2, 2])\n"
     ]
    }
   ],
   "source": [
    "# 设置随机种子\n",
    "torch.manual_seed(40)\n",
    "X = torch.randn(3, 4)\n",
    "print(\"--- 原始张量 X (3x4) ---\")\n",
    "print(X)\n",
    "\n",
    "# 1. 找出全局最大值\n",
    "global_max = X.max()\n",
    "print(f\"\\n--- 全局最大值 ---\")\n",
    "print(global_max.item())\n",
    "\n",
    "# 2. 找出每一行的最大值及其索引\n",
    "# 函数会返回一个包含(值, 索引)的元组\n",
    "row_max_values, row_max_indices = X.max(dim=1)\n",
    "print(\"\\n--- 每一行的最大值 ---\")\n",
    "print(row_max_values)\n",
    "print(\"\\n--- 每一行最大值对应的列索引 ---\")\n",
    "print(row_max_indices)"
   ]
  },
  {
   "cell_type": "markdown",
   "metadata": {},
   "source": [
    "#### 44. 向量与矩阵范数 (★★☆)\n",
    "任务: 创建一个 (2, 3) 的张量 X，计算其 L1范数 (所有元素的绝对值之和) 和 L2范数 (所有元素的平方和再开方，也称Frobenius范数)。"
   ]
  },
  {
   "cell_type": "code",
   "execution_count": 46,
   "metadata": {},
   "outputs": [
    {
     "name": "stdout",
     "output_type": "stream",
     "text": [
      "--- 原始张量 X (2x3) ---\n",
      "tensor([[-3., -2., -1.],\n",
      "        [ 0.,  1.,  2.]])\n",
      "\n",
      "--- L1 范数 ---\n",
      "tensor(9.)\n",
      "\n",
      "--- L2 范数 ---\n",
      "tensor(4.3589)\n"
     ]
    }
   ],
   "source": [
    "# 1. 创建张量\n",
    "X = torch.arange(-3, 3).view(2, 3).float()\n",
    "print(\"--- 原始张量 X (2x3) ---\")\n",
    "print(X)\n",
    "\n",
    "# 2. 计算L1范数\n",
    "l1_norm = torch.norm(X, p=1)\n",
    "print(f\"\\n--- L1 范数 ---\")\n",
    "print(l1_norm)\n",
    "\n",
    "# 3. 计算L2范数 (Frobenius Norm)\n",
    "l2_norm = torch.norm(X, p=2)\n",
    "print(f\"\\n--- L2 范数 ---\")\n",
    "print(l2_norm)"
   ]
  },
  {
   "cell_type": "markdown",
   "metadata": {},
   "source": [
    "#### 45. 累积运算 (★★☆)\n",
    "任务: 创建一个一维整数张量 T，并计算其 累积和 与 累积积。\n",
    "- 累积和：沿着指定维度，计算到当前位置为止的所有元素之和\n",
    "例如对于张量 [1,2,3,4,5]\n",
    "累积和为 [1, 1+2, 1+2+3, 1+2+3+4, 1+2+3+4+5] = [1, 3, 6, 10, 15]\n",
    "- 累积积：沿着指定维度，计算到当前位置为止的所有元素之积\n",
    "例如对于张量 [1,2,3,4,5]\n",
    "累积积为 [1, 1×2, 1×2×3, 1×2×3×4, 1×2×3×4×5] = [1, 2, 6, 24, 120]"
   ]
  },
  {
   "cell_type": "code",
   "execution_count": 47,
   "metadata": {},
   "outputs": [
    {
     "name": "stdout",
     "output_type": "stream",
     "text": [
      "--- 原始张量 T ---\n",
      "tensor([1, 2, 3, 4, 5])\n",
      "\n",
      "--- T 的累积和 ---\n",
      "tensor([ 1,  3,  6, 10, 15])\n",
      "\n",
      "--- T 的累积积 ---\n",
      "tensor([  1,   2,   6,  24, 120])\n"
     ]
    }
   ],
   "source": [
    "# 1. 创建张量\n",
    "T = torch.tensor([1, 2, 3, 4, 5])\n",
    "print(\"--- 原始张量 T ---\")\n",
    "print(T)\n",
    "\n",
    "# 2. 计算累积和\n",
    "T_cumsum = torch.cumsum(T, dim=0)\n",
    "print(\"\\n--- T 的累积和 ---\")\n",
    "print(T_cumsum)\n",
    "\n",
    "# 3. 计算累积积\n",
    "T_cumprod = torch.cumprod(T, dim=0)\n",
    "print(\"\\n--- T 的累积积 ---\")\n",
    "print(T_cumprod)"
   ]
  },
  {
   "cell_type": "markdown",
   "metadata": {},
   "source": [
    "#### 46. 张量比较与逻辑聚合 (★★☆)\n",
    "任务: 创建两个 (3, 3) 的随机整数张量 A 和 B (范围0-9)。\n",
    "\n",
    "- 生成一个布尔张量，表示 A 中大于 B 的位置。\n",
    "- 判断 A 是否所有元素都大于0，以及 B 是否至少有一个元素等于7。"
   ]
  },
  {
   "cell_type": "code",
   "execution_count": 48,
   "metadata": {},
   "outputs": [
    {
     "name": "stdout",
     "output_type": "stream",
     "text": [
      "--- 原始张量 A ---\n",
      "tensor([[4, 8, 3],\n",
      "        [1, 9, 0],\n",
      "        [4, 0, 5]])\n",
      "\n",
      "--- 原始张量 B ---\n",
      "tensor([[4, 8, 7],\n",
      "        [5, 0, 7],\n",
      "        [0, 9, 1]])\n",
      "\n",
      "--- A > B 的布尔掩码 ---\n",
      "tensor([[False, False, False],\n",
      "        [False,  True, False],\n",
      "        [ True, False,  True]])\n",
      "\n",
      "--- 逻辑判断结果 ---\n",
      "A 的所有元素都大于0吗? False\n",
      "B 中至少有一个元素等于7吗? True\n"
     ]
    }
   ],
   "source": [
    "# 设置随机种子\n",
    "torch.manual_seed(50)\n",
    "A = torch.randint(0, 10, (3, 3))\n",
    "B = torch.randint(0, 10, (3, 3))\n",
    "print(\"--- 原始张量 A ---\")\n",
    "print(A)\n",
    "print(\"\\n--- 原始张量 B ---\")\n",
    "print(B)\n",
    "\n",
    "# 1. 生成布尔掩码\n",
    "mask = A > B\n",
    "print(\"\\n--- A > B 的布尔掩码 ---\")\n",
    "print(mask)\n",
    "\n",
    "# 2. 逻辑聚合\n",
    "all_A_positive = torch.all(A > 0)\n",
    "any_B_is_7 = torch.any(B == 7)\n",
    "print(f\"\\n--- 逻辑判断结果 ---\")\n",
    "print(f\"A 的所有元素都大于0吗? {all_A_positive.item()}\")\n",
    "print(f\"B 中至少有一个元素等于7吗? {any_B_is_7.item()}\")"
   ]
  },
  {
   "cell_type": "markdown",
   "metadata": {},
   "source": [
    "#### 47. 条件选择 (★★☆)\n",
    "任务: 创建一个 (4, 4) 的标准正态分布随机张量。使用一个操作，将所有大于0.5的元素替换为1，小于-0.5的元素替换为-1，其余元素保持不变。"
   ]
  },
  {
   "cell_type": "code",
   "execution_count": 49,
   "metadata": {},
   "outputs": [
    {
     "name": "stdout",
     "output_type": "stream",
     "text": [
      "--- 原始张量 X ---\n",
      "tensor([[ 0.1344, -0.7056,  1.8908,  0.2333],\n",
      "        [ 1.1136, -0.8451, -0.2718, -0.6904],\n",
      "        [ 0.1722, -0.4964, -0.5750, -1.1525],\n",
      "        [ 1.1892,  1.2960, -1.0281,  1.4255]])\n",
      "\n",
      "--- 条件替换后的结果 ---\n",
      "tensor([[ 0.1344, -1.0000,  1.0000,  0.2333],\n",
      "        [ 1.0000, -1.0000, -0.2718, -1.0000],\n",
      "        [ 0.1722, -0.4964, -1.0000, -1.0000],\n",
      "        [ 1.0000,  1.0000, -1.0000,  1.0000]])\n"
     ]
    }
   ],
   "source": [
    "# 设置随机种子\n",
    "torch.manual_seed(60)\n",
    "X = torch.randn(4, 4)\n",
    "print(\"--- 原始张量 X ---\")\n",
    "print(X)\n",
    "\n",
    "# 1. 嵌套条件选择\n",
    "# where(condition, x, y): 当条件为True时取x，否则取y\n",
    "# 先将 > 0.5 的替换为 1\n",
    "result = torch.where(X > 0.5, 1.0, X)\n",
    "# 再对上一步结果中 < -0.5 的替换为 -1\n",
    "result = torch.where(result < -0.5, -1.0, result)\n",
    "\n",
    "print(\"\\n--- 条件替换后的结果 ---\")\n",
    "print(result)"
   ]
  },
  {
   "cell_type": "markdown",
   "metadata": {},
   "source": [
    "#### 48. 频率统计 (★★★)\n",
    "任务: 创建一个包含 [0, 1, 2, 1, 2, 2, 0, 4, 2] 的一维整数张量 labels，高效地统计每个数字（类别）出现的次数。"
   ]
  },
  {
   "cell_type": "code",
   "execution_count": 50,
   "metadata": {},
   "outputs": [
    {
     "name": "stdout",
     "output_type": "stream",
     "text": [
      "--- 原始标签张量 ---\n",
      "tensor([0, 1, 2, 1, 2, 2, 0, 4, 2])\n",
      "\n",
      "--- 各类别出现次数统计 ---\n",
      "tensor([2, 2, 4, 0, 1])\n"
     ]
    }
   ],
   "source": [
    "# 1. 创建标签张量\n",
    "labels = torch.tensor([0, 1, 2, 1, 2, 2, 0, 4, 2])\n",
    "print(\"--- 原始标签张量 ---\")\n",
    "print(labels)\n",
    "\n",
    "# 2. 统计频率\n",
    "# 结果张量的索引代表类别，值代表该类别的数量\n",
    "# minlength确保即使最大标签4不存在，结果张量的长度也至少为5\n",
    "counts = torch.bincount(labels, minlength=5)\n",
    "print(\"\\n--- 各类别出现次数统计 ---\")\n",
    "print(counts)"
   ]
  },
  {
   "cell_type": "markdown",
   "metadata": {},
   "source": [
    "#### 49. 综合应用：数据标准化 (★★★)\n",
    "任务: 创建一个 (10, 5) 的随机张量 D，并将第2列所有元素赋值为5。对 D 的每一列（特征）进行 Z-Score 标准化（使其均值为0，标准差为1）。请注意处理标准差为零的边缘情况（此时该列所有元素应变为0）。"
   ]
  },
  {
   "cell_type": "code",
   "execution_count": 51,
   "metadata": {},
   "outputs": [
    {
     "name": "stdout",
     "output_type": "stream",
     "text": [
      "--- 原始数据 D ---\n",
      "tensor([[ 0.8271, -0.8417,  5.0000, -0.2040,  1.4320],\n",
      "        [-0.5107,  1.5798,  5.0000,  0.6767, -0.4259],\n",
      "        [-0.5820,  0.7566,  5.0000,  0.1647,  0.2752],\n",
      "        [-0.1702, -0.6664,  5.0000, -1.2822,  0.7640],\n",
      "        [ 0.9887,  1.7393,  5.0000, -1.5190,  0.6253],\n",
      "        [ 0.4719,  1.4954,  5.0000,  2.4252, -0.5634],\n",
      "        [ 0.5487,  1.2654,  5.0000,  0.4422, -0.5691],\n",
      "        [-0.1377,  1.6001,  5.0000, -1.5182, -0.6699],\n",
      "        [ 0.5538,  0.0637,  5.0000, -1.2409,  0.1662],\n",
      "        [-0.7296,  0.5355,  5.0000,  0.0094,  0.4708]])\n",
      "\n",
      "--- 每列的均值 ---\n",
      "tensor([ 0.1260,  0.7528,  5.0000, -0.2046,  0.1505])\n",
      "\n",
      "--- 每列的标准差 ---\n",
      "tensor([0.6248, 0.9585, 0.0000, 1.2464, 0.6988])\n",
      "\n",
      "--- 标准化后的数据 ---\n",
      "tensor([[ 1.1221e+00, -1.6636e+00,  0.0000e+00,  5.0551e-04,  1.8338e+00],\n",
      "        [-1.0191e+00,  8.6289e-01,  0.0000e+00,  7.0708e-01, -8.2480e-01],\n",
      "        [-1.1331e+00,  4.0492e-03,  0.0000e+00,  2.9629e-01,  1.7840e-01],\n",
      "        [-4.7402e-01, -1.4806e+00,  0.0000e+00, -8.6459e-01,  8.7785e-01],\n",
      "        [ 1.3809e+00,  1.0293e+00,  0.0000e+00, -1.0545e+00,  6.7940e-01],\n",
      "        [ 5.5361e-01,  7.7476e-01,  0.0000e+00,  2.1099e+00, -1.0216e+00],\n",
      "        [ 6.7654e-01,  5.3486e-01,  0.0000e+00,  5.1898e-01, -1.0298e+00],\n",
      "        [-4.2209e-01,  8.8401e-01,  0.0000e+00, -1.0539e+00, -1.1741e+00],\n",
      "        [ 6.8472e-01, -7.1895e-01,  0.0000e+00, -8.3144e-01,  2.2502e-02],\n",
      "        [-1.3695e+00, -2.2671e-01,  0.0000e+00,  1.7168e-01,  4.5830e-01]])\n",
      "\n",
      "--- 验证标准化后数据的均值和标准差（应接近0和1）---\n",
      "新均值: tensor([ 1.1921e-08, -5.9605e-08,  0.0000e+00,  3.5763e-08, -4.7684e-08])\n",
      "新标准差: tensor([1.0000, 1.0000, 0.0000, 1.0000, 1.0000])\n"
     ]
    }
   ],
   "source": [
    "# 设置随机种子\n",
    "torch.manual_seed(70)\n",
    "D = torch.randn(10, 5)\n",
    "# 人为制造一个标准差为0的列\n",
    "D[:, 2] = 5.0\n",
    "print(\"--- 原始数据 D ---\")\n",
    "print(D)\n",
    "\n",
    "# 1. 计算均值和标准差\n",
    "mean_D = D.mean(dim=0)\n",
    "std_D = D.std(dim=0)\n",
    "print(\"\\n--- 每列的均值 ---\")\n",
    "print(mean_D)\n",
    "print(\"\\n--- 每列的标准差 ---\")\n",
    "print(std_D)\n",
    "\n",
    "# 2. 进行标准化\n",
    "# 增加一个极小值 epsilon 防止除以零\n",
    "epsilon = 1e-8\n",
    "D_normalized = (D - mean_D) / (std_D + epsilon)\n",
    "\n",
    "# 检查标准差为0的列是否正确处理（或者直接将其设为0）\n",
    "# D_normalized[:, std_D == 0] = 0 # 更稳健的做法\n",
    "\n",
    "print(\"\\n--- 标准化后的数据 ---\")\n",
    "print(D_normalized)\n",
    "print(\"\\n--- 验证标准化后数据的均值和标准差（应接近0和1）---\")\n",
    "print(\"新均值:\", D_normalized.mean(dim=0))\n",
    "print(\"新标准差:\", D_normalized.std(dim=0))"
   ]
  },
  {
   "cell_type": "markdown",
   "metadata": {},
   "source": [
    "#### 50. 终极挑战：模拟Vision Transformer的图像分块与分析 (★★★)\n",
    "- 背景: Vision Transformer (ViT) 是一种在图像识别领域取得巨大成功的模型。它颠覆了传统卷积网络（CNN）的思路，将图像分割成一系列固定大小的“图块”(Patches)，然后将这些图块的序列输入到Transformer模型中进行学习。这个挑战将模拟ViT模型中最关键、最巧妙的第一步：图像分块 (Image Patching)，并对分块结果进行简单的分析。\n",
    "\n",
    "- 任务: 给定一个模拟的 32x32 RGB图像，你需要不使用任何Python循环，仅通过张量操作将其分割成 4x4 大小的图块，并找出“最亮”的那个图块。\n",
    "\n",
    "- 具体步骤:\n",
    "\n",
    "1. 图像分块 (张量塑形):\n",
    "   - 创建一个 (3, 32, 32) 的随机张量 image 来模拟一张RGB图像。\n",
    "   - 定义 patch_size = 4。\n",
    "   - 通过一系列的塑形和维度变换操作，将 image 张量转换成一个形状为 (64, 3, 4, 4) 的 patches 张量。这代表了 8x8=64 个图块，每个图块都是 3x4x4 的。\n",
    "2. 计算各块的平均颜色 (聚合运算):\n",
    "   - 对上一步得到的 patches 张量进行聚合运算，计算出64个图块中，每一个图块的R、G、B三个通道的颜色均值。\n",
    "   - 最终应得到一个形状为 (64, 3) 的张量 mean_colors。\n",
    "3. 寻找最亮的图块 (数学运算与查找):\n",
    "   - “亮度”可以被近似定义为颜色向量的强度。请计算 mean_colors 张量中每一个图块的颜色向量（长度为3）的 L2范数。\n",
    "   - 找出L2范数最大的那个图块，并返回它在64个图块中的 索引。"
   ]
  },
  {
   "cell_type": "code",
   "execution_count": 52,
   "metadata": {},
   "outputs": [
    {
     "name": "stdout",
     "output_type": "stream",
     "text": [
      "--- 任务设定 ---\n",
      "原始图像形状: torch.Size([3, 32, 32])\n",
      "图块大小: 4x4\n",
      "\n",
      "--- 1. 图像分块结果 ---\n",
      "分块后张量形状: torch.Size([64, 3, 4, 4])\n",
      "共得到 64 个 4x4 的图块。\n",
      "\n",
      "--- 2. 各图块的平均颜色 ---\n",
      "平均颜色张量形状: torch.Size([64, 3])\n",
      "前5个图块的平均R,G,B值:\n",
      "tensor([[140.5000, 120.0000, 112.1250],\n",
      "        [ 86.5000, 108.6250, 154.4375],\n",
      "        [145.4375, 106.0625, 142.2500],\n",
      "        [123.7500, 125.8750, 122.8750],\n",
      "        [130.2500, 114.1875,  94.1875]])\n",
      "\n",
      "--- 3. 寻找最亮的图块 ---\n",
      "每个图块的亮度(L2范数):\n",
      "tensor([216.1302, 207.6839, 229.4262, 215.0740, 197.1678, 264.0987, 214.4895,\n",
      "        237.5283, 210.7780, 227.2983, 222.4846, 256.0205, 273.3630, 228.7893,\n",
      "        230.9097, 196.8072, 195.3281, 212.8864, 231.6634, 206.6679, 235.8289,\n",
      "        259.5774, 207.3605, 227.7825, 204.3258, 194.4541, 216.9226, 195.8058,\n",
      "        201.0884, 240.1360, 229.5229, 207.2234, 220.3880, 207.2952, 228.2402,\n",
      "        245.2392, 211.3525, 191.8025, 250.3566, 230.7233, 224.6295, 228.2636,\n",
      "        228.7965, 203.7335, 198.0699, 242.1788, 259.8570, 230.5771, 207.8853,\n",
      "        210.4995, 255.8450, 208.7542, 230.8481, 247.0584, 226.0972, 239.1875,\n",
      "        225.8618, 193.7221, 187.6368, 245.0456, 217.1308, 192.1367, 226.2981,\n",
      "        203.4558])\n",
      "\n",
      "最亮的图块索引是: 12\n"
     ]
    }
   ],
   "source": [
    "# 设置随机种子以保证结果可复现\n",
    "torch.manual_seed(88)\n",
    "\n",
    "# 创建一个模拟的 32x32 RGB图像，值范围在0-255之间\n",
    "image = torch.randint(0, 256, (3, 32, 32), dtype=torch.float)\n",
    "patch_size = 4\n",
    "num_patches_per_dim = image.shape[1] // patch_size\n",
    "\n",
    "print(f\"--- 任务设定 ---\")\n",
    "print(f\"原始图像形状: {image.shape}\")\n",
    "print(f\"图块大小: {patch_size}x{patch_size}\")\n",
    "\n",
    "# --- 1. 图像分块 (核心步骤) ---\n",
    "# 这是一个非常巧妙的、无需循环的张量操作技巧\n",
    "# a. 将H和W维度分割成 (num_patches, patch_size)\n",
    "# (3, 32, 32) -> (3, 8*8, 4, 4)\n",
    "patches_temp = image.view(\n",
    "    3,\n",
    "    num_patches_per_dim**2,\n",
    "    patch_size,\n",
    "    patch_size\n",
    ")\n",
    "# b. 交换维度\n",
    "patches = patches_temp.transpose(0, 1)\n",
    "\n",
    "print(\"\\n--- 1. 图像分块结果 ---\")\n",
    "print(f\"分块后张量形状: {patches.shape}\")\n",
    "print(f\"共得到 {patches.shape[0]} 个 {patches.shape[2]}x{patches.shape[3]} 的图块。\")\n",
    "\n",
    "\n",
    "# --- 2. 计算各块的平均颜色 ---\n",
    "# 对每个图块的 H 和 W 维度求均值\n",
    "# 输入: (64, 3, 4, 4) -> 输出: (64, 3)\n",
    "mean_colors = patches.mean(dim=(-1, -2)) # -1和-2代表最后两个维度(H, W)\n",
    "\n",
    "print(\"\\n--- 2. 各图块的平均颜色 ---\")\n",
    "print(f\"平均颜色张量形状: {mean_colors.shape}\")\n",
    "print(\"前5个图块的平均R,G,B值:\")\n",
    "print(mean_colors[:5, :])\n",
    "\n",
    "# --- 3. 寻找最亮的图块 ---\n",
    "# 计算每个颜色向量的L2范数\n",
    "# 输入: (64, 3) -> 输出: (64,)\n",
    "brightness = torch.norm(mean_colors, p=2, dim=1)\n",
    "# 找到范数最大值的索引\n",
    "brightest_patch_index = torch.argmax(brightness)\n",
    "\n",
    "print(\"\\n--- 3. 寻找最亮的图块 ---\")\n",
    "print(f\"每个图块的亮度(L2范数):\")\n",
    "print(brightness)\n",
    "print(f\"\\n最亮的图块索引是: {brightest_patch_index.item()}\")"
   ]
  },
  {
   "cell_type": "markdown",
   "metadata": {},
   "source": [
    "### 模块四：广播机制 📡\n",
    "目标: 深入理解当两个形状不同的张量进行运算时，PyTorch 如何自动扩展维度来匹配形状。这是写出简洁、高效、强大代码的关键。"
   ]
  },
  {
   "cell_type": "markdown",
   "metadata": {},
   "source": [
    "#### 51. 广播初体验：矩阵与向量相加 (★★☆)\n",
    "任务: 创建一个形状为 (3, 4) 的矩阵 A 和一个形状为 (4,) 的向量 v。将它们直接相加，观察并解释结果。请描述向量 v 是如何被“广播”以匹配矩阵 A 的每一行，并说明结果张量的形状为什么是 (3, 4)。"
   ]
  },
  {
   "cell_type": "code",
   "execution_count": 53,
   "metadata": {},
   "outputs": [
    {
     "name": "stdout",
     "output_type": "stream",
     "text": [
      "--- 原始矩阵 A (3x4) ---\n",
      "tensor([[ 0,  1,  2,  3],\n",
      "        [ 4,  5,  6,  7],\n",
      "        [ 8,  9, 10, 11]])\n",
      "\n",
      "--- 原始向量 v (shape: 4) ---\n",
      "tensor([0, 1, 2, 3])\n",
      "\n",
      "--- 相加后的结果 (3x4) ---\n",
      "tensor([[ 0,  2,  4,  6],\n",
      "        [ 4,  6,  8, 10],\n",
      "        [ 8, 10, 12, 14]])\n",
      "结果形状: torch.Size([3, 4])\n"
     ]
    }
   ],
   "source": [
    "# 1. 创建张量\n",
    "A = torch.arange(12).reshape(3, 4)\n",
    "v = torch.arange(4)\n",
    "\n",
    "print(\"--- 原始矩阵 A (3x4) ---\")\n",
    "print(A)\n",
    "print(\"\\n--- 原始向量 v (shape: 4) ---\")\n",
    "print(v)\n",
    "\n",
    "# 2. 直接相加，触发广播\n",
    "# 解释：\n",
    "# A 的形状: (3, 4)\n",
    "# v 的形状:    (4)\n",
    "# PyTorch 会自动将 v 的形状扩展为 (1, 4)，然后复制3次，使其变为 (3, 4)，再与 A 逐元素相加。\n",
    "# 整个过程在底层实现，没有实际的内存复制，非常高效。\n",
    "result = A + v\n",
    "\n",
    "print(\"\\n--- 相加后的结果 (3x4) ---\")\n",
    "print(result)\n",
    "print(f\"结果形状: {result.shape}\")"
   ]
  },
  {
   "cell_type": "markdown",
   "metadata": {},
   "source": [
    "#### 52. 广播的核心规则：从右对齐 (★★☆)\n",
    "任务: 创建两个形状分别为 (2, 1, 4) 和 (3, 1) 的张量。请不要直接计算，而是根据广播的核心规则——“从尾部开始对齐维度，要么维度相等，要么其中一个为1”——来手动推断它们相加后的结果张量的形状，并文字说明推断过程，最后再用代码验证你的结果。"
   ]
  },
  {
   "cell_type": "code",
   "execution_count": 54,
   "metadata": {},
   "outputs": [
    {
     "name": "stdout",
     "output_type": "stream",
     "text": [
      "--- T1 的形状: torch.Size([2, 1, 4]) ---\n",
      "--- T2 的形状: torch.Size([3, 1]) ---\n",
      "\n",
      "--- 手动推断结果与实际计算结果对比 ---\n",
      "手动推断的形状: (2, 3, 4)\n",
      "实际计算的形状: torch.Size([2, 3, 4])\n",
      "两者是否一致: True\n"
     ]
    }
   ],
   "source": [
    "# 1. 创建张量\n",
    "T1 = torch.randn(2, 1, 4)\n",
    "T2 = torch.randn(3, 1)\n",
    "\n",
    "print(f\"--- T1 的形状: {T1.shape} ---\")\n",
    "print(f\"--- T2 的形状: {T2.shape} ---\")\n",
    "\n",
    "# 2. 手动推断过程\n",
    "#   T1 shape:  (2, 1, 4)\n",
    "#   T2 shape:      (3, 1)  <- 从右向左对齐\n",
    "#   --------------------\n",
    "# -> 维度2:     4 vs 1   (OK, 1可以广播到4)  -> 结果维度为 4\n",
    "# -> 维度1:     1 vs 3   (OK, 1可以广播到3)  -> 结果维度为 3\n",
    "# -> 维度0:     2 vs (空) (OK, 空可以广播到2) -> 结果维度为 2\n",
    "#   --------------------\n",
    "#   推断结果形状: (2, 3, 4)\n",
    "\n",
    "# 3. 实际计算并验证\n",
    "result = T1 + T2\n",
    "print(\"\\n--- 手动推断结果与实际计算结果对比 ---\")\n",
    "print(f\"手动推断的形状: (2, 3, 4)\")\n",
    "print(f\"实际计算的形状: {result.shape}\")\n",
    "print(f\"两者是否一致: {result.shape == torch.Size([2, 3, 4])}\")"
   ]
  },
  {
   "cell_type": "markdown",
   "metadata": {},
   "source": [
    "#### 53. 广播的边界：何时会失败？ (★★☆)\n",
    "任务: 创建两个形状不兼容的张量，例如 (3, 4) 和 (3,)。尝试将它们相加，程序会报错。请解释为什么在这种情况下广播机制会失败，并与第51题中的成功案例进行对比。"
   ]
  },
  {
   "cell_type": "code",
   "execution_count": 55,
   "metadata": {},
   "outputs": [
    {
     "name": "stdout",
     "output_type": "stream",
     "text": [
      "--- 尝试相加的两个张量形状 ---\n",
      "A 的形状: torch.Size([3, 4])\n",
      "v 的形状: torch.Size([3])\n",
      "\n",
      "--- 操作失败，捕获到 RuntimeError ---\n",
      "错误信息: The size of tensor a (4) must match the size of tensor b (3) at non-singleton dimension 1\n",
      "\n",
      "--- 失败原因分析 ---\n",
      "将两个形状从右对齐：\n",
      "  A shape: (3, 4)\n",
      "  v shape:    (3)\n",
      "在最右边的维度上，4 和 3 不相等，且两者都不为1，因此无法广播，导致计算失败。\n",
      "对比第51题，向量长度为4，与矩阵的列数匹配，所以可以广播。\n"
     ]
    }
   ],
   "source": [
    "# 1. 创建形状不兼容的张量\n",
    "A = torch.randn(3, 4)\n",
    "v = torch.randn(3)\n",
    "\n",
    "print(f\"--- 尝试相加的两个张量形状 ---\")\n",
    "print(f\"A 的形状: {A.shape}\")\n",
    "print(f\"v 的形状: {v.shape}\")\n",
    "\n",
    "# 2. 尝试相加并捕获错误\n",
    "try:\n",
    "    result = A + v\n",
    "except RuntimeError as e:\n",
    "    print(\"\\n--- 操作失败，捕获到 RuntimeError ---\")\n",
    "    print(f\"错误信息: {e}\")\n",
    "    print(\"\\n--- 失败原因分析 ---\")\n",
    "    print(\"将两个形状从右对齐：\")\n",
    "    print(\"  A shape: (3, 4)\")\n",
    "    print(\"  v shape:    (3)\")\n",
    "    print(\"在最右边的维度上，4 和 3 不相等，且两者都不为1，因此无法广播，导致计算失败。\")\n",
    "    print(\"对比第51题，向量长度为4，与矩阵的列数匹配，所以可以广播。\")"
   ]
  },
  {
   "cell_type": "markdown",
   "metadata": {},
   "source": [
    "#### 54. 实用案例：数据标准化 (★★☆)\n",
    "任务: 创建一个形状为 (10, 5) 的随机数据张量 D，模拟10个样本，每个样本有5个特征。计算 D 每一列（每个特征）的均值 mean 和标准差 std，它们都将是形状为 (5,) 的向量。使用广播机制，从原始数据 D 中减去均值 mean 并除以标准差 std，以完成 Z-Score 标准化。"
   ]
  },
  {
   "cell_type": "code",
   "execution_count": 56,
   "metadata": {},
   "outputs": [
    {
     "name": "stdout",
     "output_type": "stream",
     "text": [
      "--- 原始数据 D (10x5) ---\n",
      "tensor([[5.6700, 6.4700, 9.8900, 6.4400, 3.2800],\n",
      "        [8.2600, 6.8000, 4.8800, 2.0300, 5.6000],\n",
      "        [0.4800, 1.6400, 1.5400, 7.4500, 8.7200],\n",
      "        [5.4300, 9.0000, 5.0400, 5.9200, 0.0200],\n",
      "        [2.4000, 9.6700, 6.2700, 8.5000, 5.4600],\n",
      "        [7.0300, 3.7900, 0.4300, 8.8100, 4.0700],\n",
      "        [1.2600, 8.1700, 2.3200, 8.9200, 8.0800],\n",
      "        [4.5900, 3.7600, 0.8000, 2.2100, 2.8200],\n",
      "        [8.1600, 6.4900, 0.2900, 5.6100, 8.9800],\n",
      "        [2.0900, 9.4000, 9.5000, 7.6400, 3.8400]])\n",
      "\n",
      "--- 每列的均值 (shape: torch.Size([5])) ---\n",
      "tensor([4.5400, 6.5200, 4.1000, 6.3500, 5.0900])\n",
      "\n",
      "--- 每列的标准差 (shape: torch.Size([5])) ---\n",
      "tensor([2.8500, 2.7100, 3.6200, 2.5100, 2.8700])\n",
      "\n",
      "--- 标准化后的数据 D_normalized ---\n",
      "tensor([[ 0.4000, -0.0200,  1.6000,  0.0400, -0.6300],\n",
      "        [ 1.3100,  0.1100,  0.2200, -1.7200,  0.1800],\n",
      "        [-1.4300, -1.8000, -0.7100,  0.4400,  1.2600],\n",
      "        [ 0.3100,  0.9200,  0.2600, -0.1700, -1.7600],\n",
      "        [-0.7500,  1.1600,  0.6000,  0.8600,  0.1300],\n",
      "        [ 0.8800, -1.0100, -1.0100,  0.9800, -0.3500],\n",
      "        [-1.1500,  0.6100, -0.4900,  1.0200,  1.0400],\n",
      "        [ 0.0200, -1.0200, -0.9100, -1.6500, -0.7900],\n",
      "        [ 1.2700, -0.0100, -1.0500, -0.3000,  1.3600],\n",
      "        [-0.8600,  1.0600,  1.5000,  0.5100, -0.4300]])\n",
      "\n",
      "--- 验证标准化后数据的均值和标准差 ---\n",
      "新均值: tensor([-0., -0., 0., 0., -0.])\n",
      "新标准差: tensor([1., 1., 1., 1., 1.])\n"
     ]
    }
   ],
   "source": [
    "# 设置随机种子\n",
    "torch.manual_seed(54)\n",
    "\n",
    "# 1. 创建数据\n",
    "D = torch.rand(10, 5) * 10  # 放大数值范围\n",
    "print(\"--- 原始数据 D (10x5) ---\")\n",
    "print(D.round(decimals=2)) # decimals=2 表示将数值四舍五入到小数点后 2 位\n",
    "\n",
    "# 2. 计算每列的均值和标准差\n",
    "mean = D.mean(dim=0)\n",
    "std = D.std(dim=0)\n",
    "print(f\"\\n--- 每列的均值 (shape: {mean.shape}) ---\")\n",
    "print(mean.round(decimals=2))\n",
    "print(f\"\\n--- 每列的标准差 (shape: {std.shape}) ---\")\n",
    "print(std.round(decimals=2))\n",
    "\n",
    "\n",
    "# 3. 使用广播进行标准化\n",
    "# D(10, 5) - mean(5,)\n",
    "# D(10, 5) / std(5,)\n",
    "# mean和std被自动广播到 (10, 5) 的形状，以匹配D\n",
    "D_normalized = (D - mean) / (std + 1e-8) # 加一个极小值防止除以零\n",
    "\n",
    "print(\"\\n--- 标准化后的数据 D_normalized ---\")\n",
    "print(D_normalized.round(decimals=2))\n",
    "\n",
    "# 4. 验证\n",
    "print(\"\\n--- 验证标准化后数据的均值和标准差 ---\")\n",
    "# 均值应接近0，标准差应接近1\n",
    "print(\"新均值:\", D_normalized.mean(dim=0).round(decimals=2))\n",
    "print(\"新标准差:\", D_normalized.std(dim=0).round(decimals=2))"
   ]
  },
  {
   "cell_type": "markdown",
   "metadata": {},
   "source": [
    "#### 55. 神经网络中的应用：添加偏置项 (★★☆)\n",
    "任务: 模拟在卷积神经网络中为一个批次的特征图 (Feature Map) 添加偏置 (Bias) 的过程。创建一个形状为 (N, C, H, W) 的随机张量，例如 (4, 3, 10, 10)，代表一个批次的4张、3通道的10x10图像。再创建一个形状为 (C,) 的偏置向量，例如 (3,)。请利用广播机制，将这个偏置向量正确地加到批次中每一张图像的对应通道上。"
   ]
  },
  {
   "cell_type": "code",
   "execution_count": 57,
   "metadata": {},
   "outputs": [
    {
     "name": "stdout",
     "output_type": "stream",
     "text": [
      "--- 原始特征图形状: torch.Size([4, 3, 10, 10]) ---\n",
      "--- 偏置向量形状: torch.Size([3]) ---\n",
      "\n",
      "--- Reshape后的偏置形状: torch.Size([1, 3, 1, 1]) ---\n",
      "--- 添加偏置后的结果形状: torch.Size([4, 3, 10, 10]) ---\n",
      "\n",
      "--- 验证通道0: 增加的偏置值是否都为 0.1000 ---\n",
      "实际增加的偏置均值: 0.1000\n"
     ]
    }
   ],
   "source": [
    "# 1. 创建模拟数据和偏置\n",
    "N, C, H, W = 4, 3, 10, 10\n",
    "feature_maps = torch.randn(N, C, H, W)\n",
    "bias = torch.tensor([0.1, 0.2, 0.3]) # 3个通道的偏置\n",
    "\n",
    "print(f\"--- 原始特征图形状: {feature_maps.shape} ---\")\n",
    "print(f\"--- 偏置向量形状: {bias.shape} ---\")\n",
    "\n",
    "# 2. 调整偏置形状以利用广播\n",
    "# 目标: 将 (3,) 的 bias 加到 (4, 3, 10, 10) 的 feature_maps 上\n",
    "# 我们需要将 bias 的形状对齐到 feature_maps 的通道(C)维度\n",
    "#   feature_maps shape: (N, C, H, W)\n",
    "#   bias shape:             (C)\n",
    "# 直接相加会失败。我们需要手动将 bias 变形为 (1, C, 1, 1)\n",
    "bias_reshaped = bias.view(1, C, 1, 1)\n",
    "print(f\"\\n--- Reshape后的偏置形状: {bias_reshaped.shape} ---\")\n",
    "\n",
    "# 3. 相加\n",
    "#   feature_maps shape: (4, 3, 10, 10)\n",
    "#   bias_reshaped shape:  (1, 3,  1,  1)\n",
    "# 广播后，bias_reshaped 会扩展为 (4, 3, 10, 10)\n",
    "result = feature_maps + bias_reshaped\n",
    "print(f\"--- 添加偏置后的结果形状: {result.shape} ---\")\n",
    "\n",
    "# 验证: 检查第一个样本，第一个通道的所有值是否都增加了 bias[0]\n",
    "original_slice = feature_maps[0, 0, :, :]\n",
    "result_slice = result[0, 0, :, :]\n",
    "bias_added = result_slice - original_slice\n",
    "print(f\"\\n--- 验证通道0: 增加的偏置值是否都为 {bias[0].item():.4f} ---\")\n",
    "# 由于浮点数精度，我们检查均值\n",
    "print(f\"实际增加的偏置均值: {bias_added.mean().item():.4f}\")"
   ]
  },
  {
   "cell_type": "markdown",
   "metadata": {},
   "source": [
    "#### 56. 向量外积的实现 (★★★)\n",
    "任务: 给定两个一维向量，v1 长度为 m，v2 长度为 n。请不使用 torch.outer 函数，而是通过调整它们的形状（例如使用 unsqueeze 或 view）并利用广播机制，计算它们的乘积，从而得到一个形状为 (m, n) 的外积矩阵。\n",
    "\n",
    "- 外积（Outer Product）的定义：\n",
    "    - 对于两个向量 v1 = [v₁, v₂, ..., vₘ] 和 v2 = [w₁, w₂, ..., wₙ]\n",
    "    - 它们的外积结果是一个 m×n 的矩阵，其中第 i 行第 j 列的元素是 vᵢ × wⱼ\n",
    "    - 也就是说，结果矩阵的每个元素是两个向量对应位置元素的乘积"
   ]
  },
  {
   "cell_type": "code",
   "execution_count": 58,
   "metadata": {},
   "outputs": [
    {
     "name": "stdout",
     "output_type": "stream",
     "text": [
      "--- 向量 v1 (长度 3) ---\n",
      "tensor([1, 2, 3])\n",
      "\n",
      "--- 向量 v2 (长度 5) ---\n",
      "tensor([1, 2, 3, 4, 5])\n",
      "\n",
      "--- 解法一：使用广播计算外积 (3x5) ---\n",
      "tensor([[ 1,  2,  3,  4,  5],\n",
      "        [ 2,  4,  6,  8, 10],\n",
      "        [ 3,  6,  9, 12, 15]])\n",
      "\n",
      "--- 解法二：使用 torch.outer 计算外积 (3x5) ---\n",
      "tensor([[ 1,  2,  3,  4,  5],\n",
      "        [ 2,  4,  6,  8, 10],\n",
      "        [ 3,  6,  9, 12, 15]])\n",
      "\n",
      "两种方法结果是否相同: True\n"
     ]
    }
   ],
   "source": [
    "# 1. 创建向量\n",
    "m, n = 3, 5\n",
    "v1 = torch.arange(1, m + 1)\n",
    "v2 = torch.arange(1, n + 1)\n",
    "print(f\"--- 向量 v1 (长度 {m}) ---\")\n",
    "print(v1)\n",
    "print(f\"\\n--- 向量 v2 (长度 {n}) ---\")\n",
    "print(v2)\n",
    "\n",
    "# --- 解法一：使用广播（标准答案） ---\n",
    "# 将 v1 变为列向量 (m, 1)，v2 变为行向量 (1, n)\n",
    "v1_col = v1.unsqueeze(1)  # shape: (3, 1)\n",
    "v2_row = v2.unsqueeze(0)  # shape: (1, 5)\n",
    "\n",
    "# v1_col (3, 1) * v2_row (1, 5) -> 广播后 (3, 5) * (3, 5)\n",
    "outer_prod_broadcast = v1_col * v2_row\n",
    "print(\"\\n--- 解法一：使用广播计算外积 (3x5) ---\")\n",
    "print(outer_prod_broadcast)\n",
    "\n",
    "# --- 解法二：使用官方函数（用于对比） ---\n",
    "outer_prod_official = torch.outer(v1, v2)\n",
    "print(\"\\n--- 解法二：使用 torch.outer 计算外积 (3x5) ---\")\n",
    "print(outer_prod_official)\n",
    "\n",
    "print(f\"\\n两种方法结果是否相同: {torch.all(outer_prod_broadcast == outer_prod_official)}\")"
   ]
  },
  {
   "cell_type": "markdown",
   "metadata": {},
   "source": [
    "#### 57. 创建坐标网格 (★★★)\n",
    "任务: 在很多计算机视觉任务中需要为每个像素生成坐标。给定高度 H=5 和宽度 W=5，请使用 torch.arange 和广播机制，高效地生成两个 (H, W) 的张量：grid_x 和 grid_y。其中 grid_x 的每一列都是 [0, 1, 2, 3, 4]，grid_y 的每一行都是 [0, 1, 2, 3, 4]。"
   ]
  },
  {
   "cell_type": "code",
   "execution_count": 59,
   "metadata": {},
   "outputs": [
    {
     "name": "stdout",
     "output_type": "stream",
     "text": [
      "--- 基础列向量 y_vec (5x1) ---\n",
      "tensor([[0],\n",
      "        [1],\n",
      "        [2],\n",
      "        [3],\n",
      "        [4]])\n",
      "\n",
      "--- 基础行向量 x_vec (1x5) ---\n",
      "tensor([[0, 1, 2, 3, 4]])\n",
      "\n",
      "--- grid_y (y坐标) ---\n",
      "tensor([[0, 0, 0, 0, 0],\n",
      "        [1, 1, 1, 1, 1],\n",
      "        [2, 2, 2, 2, 2],\n",
      "        [3, 3, 3, 3, 3],\n",
      "        [4, 4, 4, 4, 4]], dtype=torch.int32)\n",
      "\n",
      "--- grid_x (x坐标) ---\n",
      "tensor([[0, 1, 2, 3, 4],\n",
      "        [0, 1, 2, 3, 4],\n",
      "        [0, 1, 2, 3, 4],\n",
      "        [0, 1, 2, 3, 4],\n",
      "        [0, 1, 2, 3, 4]], dtype=torch.int32)\n",
      "\n",
      "--- expand 方法 grid_y ---\n",
      "tensor([[0, 0, 0, 0, 0],\n",
      "        [1, 1, 1, 1, 1],\n",
      "        [2, 2, 2, 2, 2],\n",
      "        [3, 3, 3, 3, 3],\n",
      "        [4, 4, 4, 4, 4]])\n",
      "\n",
      "--- expand 方法 grid_x ---\n",
      "tensor([[0, 1, 2, 3, 4],\n",
      "        [0, 1, 2, 3, 4],\n",
      "        [0, 1, 2, 3, 4],\n",
      "        [0, 1, 2, 3, 4],\n",
      "        [0, 1, 2, 3, 4]])\n",
      "\n",
      "--- meshgrid 方法 grid_y ---\n",
      "tensor([[0, 0, 0, 0, 0],\n",
      "        [1, 1, 1, 1, 1],\n",
      "        [2, 2, 2, 2, 2],\n",
      "        [3, 3, 3, 3, 3],\n",
      "        [4, 4, 4, 4, 4]])\n",
      "\n",
      "--- meshgrid 方法 grid_x ---\n",
      "tensor([[0, 1, 2, 3, 4],\n",
      "        [0, 1, 2, 3, 4],\n",
      "        [0, 1, 2, 3, 4],\n",
      "        [0, 1, 2, 3, 4],\n",
      "        [0, 1, 2, 3, 4]])\n"
     ]
    }
   ],
   "source": [
    "H, W = 5, 5\n",
    "\n",
    "# --- 解法一：使用广播（标准答案） ---\n",
    "# 1. 创建基础的列向量和行向量\n",
    "y_vec = torch.arange(H).view(H, 1) # shape: (5, 1)\n",
    "x_vec = torch.arange(W).view(1, W) # shape: (1, 5)\n",
    "\n",
    "print(\"--- 基础列向量 y_vec (5x1) ---\")\n",
    "print(y_vec)\n",
    "print(\"\\n--- 基础行向量 x_vec (1x5) ---\")\n",
    "print(x_vec)\n",
    "\n",
    "# 2. 利用广播生成网格\n",
    "# y_vec(5,1) 会被广播以匹配 x_vec(1,5) -> 结果 (5,5)\n",
    "# x_vec(1,5) 会被广播以匹配 y_vec(5,1) -> 结果 (5,5)\n",
    "# 添加一个全零张量可以更清晰地展示广播过程\n",
    "zeros_y = torch.zeros(1, W)\n",
    "zeros_x = torch.zeros(H, 1)\n",
    "grid_y = y_vec + zeros_y\n",
    "grid_x = x_vec + zeros_x\n",
    "\n",
    "print(\"\\n--- grid_y (y坐标) ---\")\n",
    "print(grid_y.int())\n",
    "print(\"\\n--- grid_x (x坐标) ---\")\n",
    "print(grid_x.int())\n",
    "\n",
    "\n",
    "# --- 解法二：使用 expand 函数（原理相通）---\n",
    "# expand 不会分配新内存，依赖于修改张量的stride信息，原理与广播类似\n",
    "y_vec_exp = torch.arange(H).view(H, 1).expand(H, W)\n",
    "x_vec_exp = torch.arange(W).view(1, W).expand(H, W)\n",
    "print(\"\\n--- expand 方法 grid_y ---\")\n",
    "print(y_vec_exp)\n",
    "print(\"\\n--- expand 方法 grid_x ---\")\n",
    "print(x_vec_exp)\n",
    "\n",
    "# --- 解法三：使用 meshgrid 函数（高级API）---\n",
    "# 这是最直接的方式\n",
    "x_grid_mg, y_grid_mg = torch.meshgrid(torch.arange(H), torch.arange(W), indexing='xy')\n",
    "# y_grid_mg, x_grid_mg = torch.meshgrid(torch.arange(H), torch.arange(W), indexing='ij') # 效果相同\n",
    "print(\"\\n--- meshgrid 方法 grid_y ---\")\n",
    "print(y_grid_mg)\n",
    "print(\"\\n--- meshgrid 方法 grid_x ---\")\n",
    "print(x_grid_mg)"
   ]
  },
  {
   "cell_type": "markdown",
   "metadata": {},
   "source": [
    "#### 58. 计算点集间的欧氏距离矩阵 (★★★)\n",
    "任务: 给定两组二维空间中的点集，P1 的形状为 (N, 2)（N个点），P2 的形状为 (M, 2)（M个点）。请使用广播机制一次性计算出 P1 中每个点到 P2 中每个点的欧氏距离（L2范数），最终得到一个形状为 (N, M) 的距离矩阵 D，其中 D[i, j] 表示 P1 中第 i 个点到 P2 中第 j 个点的距离。\n",
    "\n"
   ]
  },
  {
   "cell_type": "code",
   "execution_count": 60,
   "metadata": {},
   "outputs": [
    {
     "name": "stdout",
     "output_type": "stream",
     "text": [
      "--- 点集 P1 (shape: torch.Size([3, 2])) ---\n",
      "tensor([[5., 2.],\n",
      "        [7., 3.],\n",
      "        [8., 9.]])\n",
      "\n",
      "--- 点集 P2 (shape: torch.Size([4, 2])) ---\n",
      "tensor([[5., 0.],\n",
      "        [5., 5.],\n",
      "        [2., 1.],\n",
      "        [4., 6.]])\n",
      "\n",
      "--- 广播后差值张量的形状: torch.Size([3, 4, 2]) ---\n",
      "\n",
      "--- 最终的距离矩阵 D (shape: torch.Size([3, 4])) ---\n",
      "tensor([[ 2.0000,  3.0000,  3.1600,  4.1200],\n",
      "        [ 3.6100,  2.8300,  5.3900,  4.2400],\n",
      "        [ 9.4900,  5.0000, 10.0000,  5.0000]])\n",
      "\n",
      "--- 手动验证 P1[0] 到 P2[0] 的距离 ---\n",
      "广播计算结果: 2.0000\n",
      "手动计算结果: 2.0000\n"
     ]
    }
   ],
   "source": [
    "# 1. 创建两组点\n",
    "torch.manual_seed(58)\n",
    "N, M = 3, 4\n",
    "P1 = torch.randint(0, 10, (N, 2)).float()\n",
    "P2 = torch.randint(0, 10, (M, 2)).float()\n",
    "\n",
    "print(f\"--- 点集 P1 (shape: {P1.shape}) ---\")\n",
    "print(P1)\n",
    "print(f\"\\n--- 点集 P2 (shape: {P2.shape}) ---\")\n",
    "print(P2)\n",
    "\n",
    "# 2. 调整形状以进行广播\n",
    "# P1: (N, 2) -> (N, 1, 2)\n",
    "# P2: (M, 2) -> (1, M, 2)\n",
    "P1_expanded = P1.unsqueeze(1)\n",
    "P2_expanded = P2.unsqueeze(0)\n",
    "\n",
    "# 3. 计算差值\n",
    "# (N, 1, 2) - (1, M, 2) -> 广播后得到 (N, M, 2)\n",
    "# 这个张量存储了 P1 中每个点与 P2 中每个点在 x, y 上的差值\n",
    "diff = P1_expanded - P2_expanded\n",
    "print(f\"\\n--- 广播后差值张量的形状: {diff.shape} ---\")\n",
    "\n",
    "# 4. 计算欧氏距离\n",
    "# 欧氏距离 = sqrt(dx^2 + dy^2)，等价于向量的L2范数\n",
    "# 沿着最后一个维度（坐标维度, dim=2）计算L2范数\n",
    "distances = torch.norm(diff, p=2, dim=2)\n",
    "\n",
    "print(f\"\\n--- 最终的距离矩阵 D (shape: {distances.shape}) ---\")\n",
    "print(distances.round(decimals=2))\n",
    "\n",
    "# 验证: 手动计算 P1[0] 到 P2[0] 的距离\n",
    "manual_dist = torch.sqrt(torch.sum((P1[0] - P2[0])**2))\n",
    "print(f\"\\n--- 手动验证 P1[0] 到 P2[0] 的距离 ---\")\n",
    "print(f\"广播计算结果: {distances[0, 0]:.4f}\")\n",
    "print(f\"手动计算结果: {manual_dist:.4f}\")"
   ]
  },
  {
   "cell_type": "markdown",
   "metadata": {},
   "source": [
    "#### 59. 广播与条件掩码 (★★★)\n",
    "任务: 创建一个 (5, 5) 的随机整数矩阵。再创建一个形状为 (5,) 的一维张量，作为每一列的“阈值”。利用广播，生成一个布尔掩码，标记出矩阵中所有大于其所在列阈值的元素。最后，使用这个掩码将这些被标记的元素值修改为-1。最后只添加一行代码，使这个列阈值变为行阈值。"
   ]
  },
  {
   "cell_type": "code",
   "execution_count": 61,
   "metadata": {},
   "outputs": [
    {
     "name": "stdout",
     "output_type": "stream",
     "text": [
      "--- 原始矩阵 (5x5) ---\n",
      "tensor([[13, 16, 13,  7,  3],\n",
      "        [15, 17,  1, 12, 15],\n",
      "        [11,  4,  7, 19,  1],\n",
      "        [ 2,  5, 12,  9, 16],\n",
      "        [13,  2, 14, 17, 19]])\n",
      "\n",
      "--- 列阈值向量 (shape: torch.Size([5])) ---\n",
      "tensor([15, 10,  5,  0, 18])\n",
      "\n",
      "--- 生成的布尔掩码 ---\n",
      "tensor([[False,  True,  True,  True, False],\n",
      "        [False,  True, False,  True, False],\n",
      "        [False, False,  True,  True, False],\n",
      "        [False, False,  True,  True, False],\n",
      "        [False, False,  True,  True,  True]])\n",
      "\n",
      "--- 解法一 (索引赋值) 的结果 ---\n",
      "tensor([[13, -1, -1, -1,  3],\n",
      "        [15, -1,  1, -1, 15],\n",
      "        [11,  4, -1, -1,  1],\n",
      "        [ 2,  5, -1, -1, 16],\n",
      "        [13,  2, -1, -1, -1]])\n",
      "\n",
      "--- 解法二 (masked_fill_) 的结果 ---\n",
      "tensor([[13, -1, -1, -1,  3],\n",
      "        [15, -1,  1, -1, 15],\n",
      "        [11,  4, -1, -1,  1],\n",
      "        [ 2,  5, -1, -1, 16],\n",
      "        [13,  2, -1, -1, -1]])\n",
      "\n",
      "--- 解法一 (索引赋值) 的结果 ---\n",
      "tensor([[13, -1, 13,  7,  3],\n",
      "        [-1, -1,  1, -1, -1],\n",
      "        [-1,  4, -1, -1,  1],\n",
      "        [-1, -1, -1, -1, -1],\n",
      "        [13,  2, 14, 17, -1]])\n"
     ]
    }
   ],
   "source": [
    "# 1. 创建数据\n",
    "torch.manual_seed(59)\n",
    "matrix = torch.randint(0, 20, (5, 5))\n",
    "thresholds = torch.tensor([15, 10, 5, 0, 18])\n",
    "\n",
    "print(\"--- 原始矩阵 (5x5) ---\")\n",
    "print(matrix)\n",
    "print(f\"\\n--- 列阈值向量 (shape: {thresholds.shape}) ---\")\n",
    "print(thresholds)\n",
    "\n",
    "# 2. 利用广播生成布尔掩码\n",
    "#   matrix shape: (5, 5)\n",
    "#   thresholds shape: (5,)\n",
    "# 广播机制将 thresholds (行向量) 扩展为 (5, 5) 来匹配 matrix\n",
    "mask = matrix > thresholds\n",
    "print(\"\\n--- 生成的布尔掩码 ---\")\n",
    "print(mask)\n",
    "\n",
    "# 3. 使用掩码进行赋值\n",
    "# --- 解法一：使用索引（更常见） ---\n",
    "result1 = matrix.clone() # 创建副本以保留原始矩阵\n",
    "result1[mask] = -1\n",
    "print(\"\\n--- 解法一 (索引赋值) 的结果 ---\")\n",
    "print(result1)\n",
    "\n",
    "# --- 解法二：使用 masked_fill_ ---\n",
    "result2 = matrix.clone()\n",
    "result2.masked_fill_(mask, -1)\n",
    "print(\"\\n--- 解法二 (masked_fill_) 的结果 ---\")\n",
    "print(result2)\n",
    "\n",
    "# ---变为行阈值---\n",
    "thresholds = thresholds.unsqueeze(1)\n",
    "mask = matrix > thresholds\n",
    "result1 = matrix.clone()\n",
    "result1[mask] = -1\n",
    "print(\"\\n--- 解法一 (索引赋值) 的结果 ---\")\n",
    "print(result1)"
   ]
  },
  {
   "cell_type": "markdown",
   "metadata": {},
   "source": [
    "#### 60. 批量样本加权 (★★★)\n",
    "任务: 假设你有一个批次的数据，形状为 (N, F)，其中 N 是样本数，F 是特征数。同时你有一个权重向量 w，形状为 (N,)，代表需要对每个样本施加不同的重要性权重。请使用广播，将 w 应用于数据批次，使得数据的每一行（每个样本）都乘以其对应的权重。"
   ]
  },
  {
   "cell_type": "code",
   "execution_count": 62,
   "metadata": {},
   "outputs": [
    {
     "name": "stdout",
     "output_type": "stream",
     "text": [
      "--- 原始数据 (shape: torch.Size([4, 3])) ---\n",
      "tensor([[1., 1., 1.],\n",
      "        [1., 1., 1.],\n",
      "        [1., 1., 1.],\n",
      "        [1., 1., 1.]])\n",
      "\n",
      "--- 样本权重 (shape: torch.Size([4])) ---\n",
      "tensor([1., 2., 3., 4.])\n",
      "\n",
      "--- Reshape后的权重形状: torch.Size([4, 1]) ---\n",
      "\n",
      "--- 加权后的数据 ---\n",
      "tensor([[1., 1., 1.],\n",
      "        [2., 2., 2.],\n",
      "        [3., 3., 3.],\n",
      "        [4., 4., 4.]])\n"
     ]
    }
   ],
   "source": [
    "# 1. 创建数据和权重\n",
    "N, F = 4, 3\n",
    "data = torch.ones(N, F)\n",
    "weights = torch.arange(1, N + 1).float() # [1., 2., 3., 4.]\n",
    "\n",
    "print(f\"--- 原始数据 (shape: {data.shape}) ---\")\n",
    "print(data)\n",
    "print(f\"\\n--- 样本权重 (shape: {weights.shape}) ---\")\n",
    "print(weights)\n",
    "\n",
    "# 2. 调整权重形状以进行广播\n",
    "#   data shape: (N, F) -> (4, 3)\n",
    "#   weights shape:  (N,) -> (4,)\n",
    "# 直接相乘会报错，因为从右对齐后维度 3 和 4 不匹配\n",
    "# 我们需要将 weights 变为列向量 (N, 1)\n",
    "weights_col = weights.unsqueeze(1) # shape (4, 1)\n",
    "print(f\"\\n--- Reshape后的权重形状: {weights_col.shape} ---\")\n",
    "\n",
    "# 3. 应用权重\n",
    "#   data shape: (4, 3)\n",
    "#   weights_col shape: (4, 1)\n",
    "# 广播后，weights_col 的第2个维度会扩展为3，与 data 匹配\n",
    "weighted_data = data * weights_col\n",
    "print(\"\\n--- 加权后的数据 ---\")\n",
    "print(weighted_data)"
   ]
  },
  {
   "cell_type": "markdown",
   "metadata": {},
   "source": [
    "#### 61. 按特征加权 (★★★)\n",
    "任务: 与上一题类似，你有一个数据批次 (N, F)。但这次你的权重向量 w 的形状是 (F,)，代表需要对每个特征施加不同的权重。请使用广播，将 w 应用于数据批次，使得数据的每一列（每个特征）都乘以其对应的权重。比较此操作与上一题的区别。"
   ]
  },
  {
   "cell_type": "code",
   "execution_count": 63,
   "metadata": {},
   "outputs": [
    {
     "name": "stdout",
     "output_type": "stream",
     "text": [
      "--- 原始数据 (shape: torch.Size([4, 3])) ---\n",
      "tensor([[1., 1., 1.],\n",
      "        [1., 1., 1.],\n",
      "        [1., 1., 1.],\n",
      "        [1., 1., 1.]])\n",
      "\n",
      "--- 特征权重 (shape: torch.Size([3])) ---\n",
      "tensor([10., 11., 12.])\n",
      "\n",
      "--- 加权后的数据 ---\n",
      "tensor([[10., 11., 12.],\n",
      "        [10., 11., 12.],\n",
      "        [10., 11., 12.],\n",
      "        [10., 11., 12.]])\n",
      "\n",
      "--- 与上一题对比 ---\n",
      "本题中，权重向量的形状(F,)与数据批次的最后一个维度(F)匹配，\n",
      "因此广播机制可以自动将权重向量`向上`扩展，应用到每一行。\n",
      "上一题中，权重向量(N,)与数据批次任何一个维度都不直接匹配，\n",
      "必须手动将其转换为列向量(N, 1)，才能让广播机制`向右`扩展。\n"
     ]
    }
   ],
   "source": [
    "# 1. 创建数据和权重\n",
    "N, F = 4, 3\n",
    "data = torch.ones(N, F)\n",
    "weights = torch.arange(10, 10 + F).float() # [10., 11., 12.]\n",
    "\n",
    "print(f\"--- 原始数据 (shape: {data.shape}) ---\")\n",
    "print(data)\n",
    "print(f\"\\n--- 特征权重 (shape: {weights.shape}) ---\")\n",
    "print(weights)\n",
    "\n",
    "# 2. 直接应用权重，无需调整形状\n",
    "#   data shape: (N, F) -> (4, 3)\n",
    "#   weights shape:  (F,) ->   (3)\n",
    "# 从右对齐，维度匹配。weights 会被广播到 (4, 3)\n",
    "weighted_data = data * weights\n",
    "print(\"\\n--- 加权后的数据 ---\")\n",
    "print(weighted_data)\n",
    "\n",
    "print(\"\\n--- 与上一题对比 ---\")\n",
    "print(\"本题中，权重向量的形状(F,)与数据批次的最后一个维度(F)匹配，\")\n",
    "print(\"因此广播机制可以自动将权重向量`向上`扩展，应用到每一行。\")\n",
    "print(\"上一题中，权重向量(N,)与数据批次任何一个维度都不直接匹配，\")\n",
    "print(\"必须手动将其转换为列向量(N, 1)，才能让广播机制`向右`扩展。\")"
   ]
  },
  {
   "cell_type": "markdown",
   "metadata": {},
   "source": [
    "#### 62. 用广播模拟 torch.expand (★★★)\n",
    "任务: 创建一个形状为 (3, 1) 的张量 T。不使用 .expand() 或 .repeat() 方法，而是通过与一个全零张量进行数学运算（如加法），利用广播机制将其“扩展”为一个形状为 (3, 4) 的新张量。这个练习旨在揭示广播是很多高效操作的底层原理。"
   ]
  },
  {
   "cell_type": "code",
   "execution_count": 64,
   "metadata": {},
   "outputs": [
    {
     "name": "stdout",
     "output_type": "stream",
     "text": [
      "--- 原始张量 T (shape: torch.Size([3, 1])) ---\n",
      "tensor([[0],\n",
      "        [1],\n",
      "        [2]])\n",
      "\n",
      "--- 用于广播的全零张量 (shape: torch.Size([1, 4])) ---\n",
      "tensor([[0., 0., 0., 0.]])\n",
      "\n",
      "--- 通过广播扩展后的张量 (shape: torch.Size([3, 4])) ---\n",
      "tensor([[0., 0., 0., 0.],\n",
      "        [1., 1., 1., 1.],\n",
      "        [2., 2., 2., 2.]])\n",
      "\n",
      "--- 原理解释 ---\n",
      "加0不改变原始值，但这个操作触发了广播机制。\n",
      "PyTorch 根据两个张量的形状计算出了一个共同的目标形状 (3, 4)，\n",
      "并创建了一个具有该形状的新视图，其内容由 T 和 zeros 决定。\n",
      "这与 expand 的行为在结果上是等价的，且同样高效。\n"
     ]
    }
   ],
   "source": [
    "# 1. 创建原始张量\n",
    "T = torch.arange(3).view(3, 1)\n",
    "print(f\"--- 原始张量 T (shape: {T.shape}) ---\")\n",
    "print(T)\n",
    "\n",
    "# 2. 创建一个用于广播的全零张量\n",
    "# 它的形状需要能和 T 广播成目标形状 (3, 4)\n",
    "zeros = torch.zeros(1, 4)\n",
    "print(f\"\\n--- 用于广播的全零张量 (shape: {zeros.shape}) ---\")\n",
    "print(zeros)\n",
    "\n",
    "# 3. 通过加法触发广播\n",
    "#   T shape: (3, 1)\n",
    "#   zeros shape: (1, 4)\n",
    "#   广播结果 shape: (3, 4)\n",
    "expanded_T = T + zeros\n",
    "print(f\"\\n--- 通过广播扩展后的张量 (shape: {expanded_T.shape}) ---\")\n",
    "print(expanded_T)\n",
    "\n",
    "print(\"\\n--- 原理解释 ---\")\n",
    "print(\"加0不改变原始值，但这个操作触发了广播机制。\")\n",
    "print(\"PyTorch 根据两个张量的形状计算出了一个共同的目标形状 (3, 4)，\")\n",
    "print(\"并创建了一个具有该形状的新视图，其内容由 T 和 zeros 决定。\")\n",
    "print(\"这与 expand 的行为在结果上是等价的，且同样高效。\")"
   ]
  },
  {
   "cell_type": "markdown",
   "metadata": {},
   "source": [
    "#### 63. 模拟注意力机制中的掩码相加 (★★★)\n",
    "任务: 在 Transformer 解码器的自注意力计算中，为了防止看到未来的信息，需要给注意力分数矩阵加上一个掩码。假设你有一个注意力分数矩阵 scores，形状为 (Batch, Heads, SeqLen, SeqLen)，例如 (4, 8, 10, 10)。请完成以下任务：\n",
    "\n",
    "1. 创建一个未来信息掩码，使得每个位置只能看到当前位置及之前的信息\n",
    "2. 将掩码应用到注意力分数上，使得被掩码的位置的注意力分数变为一个很小的负数（如 -1e9）\n",
    "\n",
    "提示：\n",
    "- 未来信息掩码应该是一个上三角矩阵\n",
    "- 考虑掩码的形状应该如何设计才能正确广播到注意力分数上\n",
    "- 思考为什么掩码中的 0 和 1 需要转换为 0 和 -1e9"
   ]
  },
  {
   "cell_type": "code",
   "execution_count": 65,
   "metadata": {},
   "outputs": [
    {
     "name": "stdout",
     "output_type": "stream",
     "text": [
      "--- 注意力分数 scores 形状: torch.Size([4, 8, 10, 10]) ---\n",
      "--- 未来信息掩码 ---\n",
      "tensor([[0., 1., 1., 1., 1., 1., 1., 1., 1., 1.],\n",
      "        [0., 0., 1., 1., 1., 1., 1., 1., 1., 1.],\n",
      "        [0., 0., 0., 1., 1., 1., 1., 1., 1., 1.],\n",
      "        [0., 0., 0., 0., 1., 1., 1., 1., 1., 1.],\n",
      "        [0., 0., 0., 0., 0., 1., 1., 1., 1., 1.],\n",
      "        [0., 0., 0., 0., 0., 0., 1., 1., 1., 1.],\n",
      "        [0., 0., 0., 0., 0., 0., 0., 1., 1., 1.],\n",
      "        [0., 0., 0., 0., 0., 0., 0., 0., 1., 1.],\n",
      "        [0., 0., 0., 0., 0., 0., 0., 0., 0., 1.],\n",
      "        [0., 0., 0., 0., 0., 0., 0., 0., 0., 0.]])\n",
      "\n",
      "--- 添加掩码后的分数张量形状: torch.Size([4, 8, 10, 10]) ---\n",
      "\n",
      "--- 添加掩码后的分数张量(第一个样本的第一个头):\n",
      " tensor([[-2.2671e-01, -1.0000e+09, -1.0000e+09, -1.0000e+09, -1.0000e+09,\n",
      "         -1.0000e+09, -1.0000e+09, -1.0000e+09, -1.0000e+09, -1.0000e+09],\n",
      "        [-3.9640e-01,  1.6403e+00, -1.0000e+09, -1.0000e+09, -1.0000e+09,\n",
      "         -1.0000e+09, -1.0000e+09, -1.0000e+09, -1.0000e+09, -1.0000e+09],\n",
      "        [ 5.9445e-01,  1.5045e+00, -2.5238e-01, -1.0000e+09, -1.0000e+09,\n",
      "         -1.0000e+09, -1.0000e+09, -1.0000e+09, -1.0000e+09, -1.0000e+09],\n",
      "        [-4.6738e-01, -2.7999e-01, -2.9909e-01, -2.0026e-01, -1.0000e+09,\n",
      "         -1.0000e+09, -1.0000e+09, -1.0000e+09, -1.0000e+09, -1.0000e+09],\n",
      "        [ 7.3997e-01, -1.2611e-02, -3.3333e-01,  3.0447e-01, -9.9674e-02,\n",
      "         -1.0000e+09, -1.0000e+09, -1.0000e+09, -1.0000e+09, -1.0000e+09],\n",
      "        [-2.0353e+00, -8.4241e-02,  7.2907e-01,  4.2585e-01, -9.9163e-02,\n",
      "          1.3771e+00, -1.0000e+09, -1.0000e+09, -1.0000e+09, -1.0000e+09],\n",
      "        [-1.0753e-01,  1.0512e+00,  1.9632e-01,  1.5516e-01,  7.2688e-01,\n",
      "         -1.3551e+00, -3.3376e-01, -1.0000e+09, -1.0000e+09, -1.0000e+09],\n",
      "        [-2.3472e-01,  8.5072e-01,  1.5455e+00,  4.4078e-01, -3.6216e-01,\n",
      "          9.9177e-01,  1.3694e+00,  1.0490e-01, -1.0000e+09, -1.0000e+09],\n",
      "        [ 1.0441e+00,  3.7354e-01, -2.8553e-01,  7.8487e-01,  6.1669e-01,\n",
      "         -1.2813e-01,  1.0834e+00,  1.7475e-01,  1.6774e-01, -1.0000e+09],\n",
      "        [-1.0662e+00, -6.1178e-02,  2.1043e+00, -8.3688e-01, -7.1645e-01,\n",
      "          8.1314e-01, -3.9744e-02, -6.5882e-01,  1.2917e-01,  8.3996e-01]]) ---\n",
      "\n",
      "--- 验证结果 ---\n",
      "原始未来信息的平均值: 0.07\n",
      "掩码后未来信息的平均值: -999999936.00 (应该接近-1e9)\n",
      "原始过去信息的平均值: -0.21\n",
      "掩码后过去信息的平均值: -0.21 (应该与原始值相近)\n"
     ]
    }
   ],
   "source": [
    "# 1. 创建模拟数据\n",
    "B, H, S = 4, 8, 10\n",
    "scores = torch.randn(B, H, S, S)\n",
    "\n",
    "print(f\"--- 注意力分数 scores 形状: {scores.shape} ---\")\n",
    "\n",
    "# 2. 创建未来信息掩码\n",
    "# 首先创建一个上三角矩阵，对角线及以上为1，其他为0\n",
    "future_mask = torch.triu(torch.ones(S, S), diagonal=1)\n",
    "\"\"\"\n",
    "[[0, 1, 1, 1],  # 第0个位置只能看到自己\n",
    " [0, 0, 1, 1],  # 第1个位置可以看到0和1\n",
    " [0, 0, 0, 1],  # 第2个位置可以看到0,1,2\n",
    " [0, 0, 0, 0]]  # 第3个位置可以看到所有\n",
    "\"\"\"\n",
    "print(\"--- 未来信息掩码 ---\")\n",
    "print(future_mask)\n",
    "\n",
    "# 将1的部分设置为-1e9\n",
    "future_mask = future_mask.masked_fill(future_mask == 1, -1e9)\n",
    "# 调整形状以匹配广播需求\n",
    "future_mask = future_mask.view(1, 1, S, S)\n",
    "\n",
    "# 3. 将掩码应用到注意力分数上\n",
    "#   scores shape: (B, H, S, S) -> (4, 8, 10, 10)\n",
    "#   mask shape:   (1, 1, S, S) -> (1, 1, 10, 10)\n",
    "# 广播后，mask 会被扩展为 (4, 8, 10, 10)\n",
    "masked_scores = scores + future_mask\n",
    "\n",
    "print(f\"\\n--- 添加掩码后的分数张量形状: {masked_scores.shape} ---\")\n",
    "print(f\"\\n--- 添加掩码后的分数张量(第一个样本的第一个头):\\n {masked_scores[0][0]} ---\")\n",
    "\n",
    "# 4. 验证\n",
    "# 检查第一个样本，第一个头的掩码效果\n",
    "# 上三角部分（未来信息）应该都是-1e9\n",
    "# 下三角部分（包括对角线）应该保持原值\n",
    "original_upper = scores[0, 0, 0, 1:].mean()  # 第一行的未来信息\n",
    "masked_upper = masked_scores[0, 0, 0, 1:].mean()  # 第一行的未来信息（应该被掩码）\n",
    "original_lower = scores[0, 0, 1:, 0].mean()  # 第一列的过去信息\n",
    "masked_lower = masked_scores[0, 0, 1:, 0].mean()  # 第一列的过去信息（应该保持不变）\n",
    "\n",
    "print(\"\\n--- 验证结果 ---\")\n",
    "print(f\"原始未来信息的平均值: {original_upper:.2f}\")\n",
    "print(f\"掩码后未来信息的平均值: {masked_upper:.2f} (应该接近-1e9)\")\n",
    "print(f\"原始过去信息的平均值: {original_lower:.2f}\")\n",
    "print(f\"掩码后过去信息的平均值: {masked_lower:.2f} (应该与原始值相近)\")"
   ]
  },
  {
   "cell_type": "markdown",
   "metadata": {},
   "source": [
    "#### 64. 广播与高级赋值 (★★★)\n",
    "任务: 创建一个 (6, 6) 的全零矩阵 M。你的目标是给 M 的四个 3x3 的子块（左上、右上、左下、右下）分别加上不同的常数。创建一个 (2, 2) 的张量 V，例如 [[1, 10], [100, 1000]]。请利用广播和张量变形，将 V[0,0] 加到 M 的左上角 3x3 子块，V[0,1] 加到右上角，以此类推。（作者还没想出很完美、很优雅的解法）"
   ]
  },
  {
   "cell_type": "code",
   "execution_count": 66,
   "metadata": {},
   "outputs": [
    {
     "name": "stdout",
     "output_type": "stream",
     "text": [
      "--- 原始矩阵 M (6x6) ---\n",
      "tensor([[0., 0., 0., 0., 0., 0.],\n",
      "        [0., 0., 0., 0., 0., 0.],\n",
      "        [0., 0., 0., 0., 0., 0.],\n",
      "        [0., 0., 0., 0., 0., 0.],\n",
      "        [0., 0., 0., 0., 0., 0.],\n",
      "        [0., 0., 0., 0., 0., 0.]])\n",
      "\n",
      "--- 值矩阵 V (2x2) ---\n",
      "tensor([[   1.,   10.],\n",
      "        [ 100., 1000.]])\n",
      "\n",
      "--- 最终结果 ---\n",
      "tensor([[   1.,    1.,    1.,   10.,   10.,   10.],\n",
      "        [   1.,    1.,    1.,   10.,   10.,   10.],\n",
      "        [   1.,    1.,    1.,   10.,   10.,   10.],\n",
      "        [ 100.,  100.,  100., 1000., 1000., 1000.],\n",
      "        [ 100.,  100.,  100., 1000., 1000., 1000.],\n",
      "        [ 100.,  100.,  100., 1000., 1000., 1000.]])\n"
     ]
    }
   ],
   "source": [
    "# 1. 创建原始矩阵和值矩阵\n",
    "M = torch.zeros(6, 6)\n",
    "V = torch.tensor([[1., 10.], [100., 1000.]])\n",
    "\n",
    "print(\"--- 原始矩阵 M (6x6) ---\")\n",
    "print(M)\n",
    "print(\"\\n--- 值矩阵 V (2x2) ---\")\n",
    "print(V)\n",
    "\n",
    "# 2.将M矩阵拆分为四个子块\n",
    "M_top, M_bottom = torch.chunk(M, 2, dim=0)\n",
    "M_top_left, M_top_right = torch.chunk(M_top, 2, dim=1)\n",
    "M_bottom_left, M_bottom_right = torch.chunk(M_bottom, 2, dim=1)\n",
    "\n",
    "# 3.广播机制为整块赋值\n",
    "M_top_left = M_top_left + V[0, 0]\n",
    "M_top_right = M_top_right + V[0, 1]\n",
    "M_bottom_left = M_bottom_left + V[1, 0]\n",
    "M_bottom_right = M_bottom_right + V[1, 1]\n",
    "\n",
    "# 4. 将整块拼接起来\n",
    "M_top_new = torch.cat((M_top_left, M_top_right), dim=1)\n",
    "M_bottom_new = torch.cat((M_bottom_left, M_bottom_right), dim=1)\n",
    "M_new = torch.cat((M_top_new, M_bottom_new), dim=0)\n",
    "\n",
    "print(\"\\n--- 最终结果 ---\")\n",
    "print(M_new)"
   ]
  },
  {
   "cell_type": "markdown",
   "metadata": {},
   "source": [
    "#### 65. 终极挑战：实现 Transformer 的位置编码 (★★★)\n",
    "**背景**: 经典的 Transformer 模型（源自论文《Attention Is All You Need》）在处理序列数据时，其自注意力机制本身无法感知到输入元素的顺序。为了让模型能够利用序列的位置信息，论文作者设计了一种独特的**位置编码 (Positional Encoding)** 方案。它会创建一个与输入嵌入形状相同的矩阵，然后将其直接加到输入嵌入上，从而为模型注入绝对和相对的位置信息。\n",
    "\n",
    "这种位置编码是通过不同频率的正弦和余弦函数来计算的，其公式为：\n",
    "$$PE_{(pos, 2i)} = \\sin\\left(\\frac{pos}{10000^{2i/d_{\\text{model}}}}\\right)$$\n",
    "$$PE_{(pos, 2i+1)} = \\cos\\left(\\frac{pos}{10000^{2i/d_{\\text{model}}}}\\right)$$\n",
    "其中 `pos` 是词元在序列中的位置，`i` 是编码的维度索引，`d_model` 是模型的嵌入维度。\n",
    "\n",
    "**任务**: 你的任务是利用 PyTorch，高效地生成这个位置编码矩阵。给定序列的最大长度 `max_seq_len = 100` 和模型的嵌入维度 `d_model = 64`，请完成以下步骤：\n",
    "\n",
    "1.  创建一个形状为 `(max_seq_len, 1)` 的位置张量 `position`，其值为 `0` 到 `99`。\n",
    "2.  创建一个形状为 `(d_model / 2)` 的除法项张量 `div_term`，其值为 $10000^{2i/d_{\\text{model}}}$。\n",
    "3.  利用**广播机制**，将 `position` 和 `div_term` 的信息组合起来，计算出所有 `sin` 和 `cos` 函数内部的角度参数。\n",
    "4.  分别计算正弦和余弦编码。\n",
    "5.  将正弦和余弦编码交错地合并在一起，最终生成一个形状为 `(max_seq_len, d_model)` 的完整位置编码矩阵 `pe`。\n",
    "\n",
    "请**仅使用广播和张量操作**，不使用任何显式循环来完成。"
   ]
  },
  {
   "cell_type": "code",
   "execution_count": 67,
   "metadata": {},
   "outputs": [
    {
     "name": "stdout",
     "output_type": "stream",
     "text": [
      "--- 目标：生成 100x64 的位置编码矩阵 ---\n",
      "\n",
      "--- 位置张量 position 的形状: torch.Size([100, 1]) ---\n",
      "\n",
      "--- 频率项 div_term 的形状: torch.Size([32]) ---\n",
      "\n",
      "--- 广播后角度矩阵 angles 的形状: torch.Size([100, 32]) ---\n",
      "\n",
      "--- 最终生成的位置编码矩阵 pe 的形状: torch.Size([100, 64]) ---\n"
     ]
    },
    {
     "data": {
      "image/png": "[encoded data removed]",
      "text/plain": [
       "<Figure size 1000x600 with 2 Axes>"
      ]
     },
     "metadata": {},
     "output_type": "display_data"
    }
   ],
   "source": [
    "import math\n",
    "\n",
    "# 1. 设置参数\n",
    "max_seq_len = 100\n",
    "d_model = 64\n",
    "\n",
    "print(f\"--- 目标：生成 {max_seq_len}x{d_model} 的位置编码矩阵 ---\")\n",
    "\n",
    "# 2. 创建一个全零的目标矩阵\n",
    "pe = torch.zeros(max_seq_len, d_model)\n",
    "\n",
    "# 3. 创建位置张量 (pos)\n",
    "# shape: (max_seq_len, 1) -> (100, 1)\n",
    "position = torch.arange(0, max_seq_len, dtype=torch.float).unsqueeze(1)\n",
    "print(f\"\\n--- 位置张量 position 的形状: {position.shape} ---\")\n",
    "\n",
    "# 4. 创建除法项 (10000^(2i/d_model))\n",
    "# 2i 的范围是 [0, 2, 4, ..., d_model-2]\n",
    "# div_term 旨在为不同维度提供不同的波长\n",
    "i = torch.arange(0, d_model, 2).float() # i 是维度索引的一半\n",
    "div_term = torch.pow(10000.0, i / d_model)\n",
    "print(f\"\\n--- 频率项 div_term 的形状: {div_term.shape} ---\")\n",
    "\n",
    "# 5. 计算角度参数 (pos / div_term)\n",
    "# 这是广播的核心步骤\n",
    "# position (100, 1) * (1 / div_term) (32,)\n",
    "# -> 广播后形成 (100, 32) 的角度矩阵\n",
    "angles = position / div_term\n",
    "print(f\"\\n--- 广播后角度矩阵 angles 的形状: {angles.shape} ---\")\n",
    "\n",
    "# 6. 计算正弦和余弦编码并交错填充\n",
    "# 将 sin 值填充到偶数索引列 (0, 2, 4, ...)\n",
    "pe[:, 0::2] = torch.sin(angles)\n",
    "# 将 cos 值填充到奇数索引列 (1, 3, 5, ...)\n",
    "pe[:, 1::2] = torch.cos(angles)\n",
    "\n",
    "print(f\"\\n--- 最终生成的位置编码矩阵 pe 的形状: {pe.shape} ---\")\n",
    "\n",
    "# --- 可视化位置编码 ---\n",
    "# 这是一个常见的验证方法，可以直观地看到不同维度的波长变化\n",
    "try:\n",
    "    import matplotlib.pyplot as plt\n",
    "    plt.figure(figsize=(10, 6))\n",
    "    plt.pcolormesh(pe.numpy(), cmap='viridis')\n",
    "    plt.xlabel('Embedding Dimension')\n",
    "    plt.ylabel('Position')\n",
    "    plt.title('Positional Encoding Visualization')\n",
    "    plt.colorbar()\n",
    "    plt.show()\n",
    "except ImportError:\n",
    "    print(\"\\n未安装 matplotlib，跳过可视化。可运行 `pip install matplotlib` 来查看。\")"
   ]
  },
  {
   "cell_type": "markdown",
   "metadata": {},
   "source": [
    "### 模块五：nn.Module 与基础层入门 🏗️\n",
    "\n",
    "**目标**: 将底层的 Tensor 操作与 `torch.nn` 中封装好的高级模块联系起来，为构建网络打下基础。\n"
   ]
  },
  {
   "cell_type": "markdown",
   "metadata": {},
   "source": [
    "#### 66. 创建你的第一个 nn.Module(★☆☆) \n",
    "\n",
    "任务：创建一个名为 MyModel 的类，继承自 torch.nn.Module。在 __init__ 中定义一个 nn.Linear 层（输入10，输出5），在 forward 方法中实现数据通过该线性层的前向传播。创建一个`(4, 10)`的张量，通过模型并检查输出张量的形状。"
   ]
  },
  {
   "cell_type": "code",
   "execution_count": 68,
   "metadata": {},
   "outputs": [
    {
     "name": "stdout",
     "output_type": "stream",
     "text": [
      "--- 成功创建自定义模型 ---\n",
      "MyModel(\n",
      "  (linear): Linear(in_features=10, out_features=5, bias=True)\n",
      ")\n",
      "\n",
      "--- 模型输入形状 ---\n",
      "torch.Size([4, 10])\n",
      "\n",
      "--- 模型输出 ---\n",
      "输出形状: torch.Size([4, 5])\n"
     ]
    }
   ],
   "source": [
    "import torch.nn as nn\n",
    "\n",
    "class MyModel(nn.Module):\n",
    "    def __init__(self):\n",
    "        # 必须首先调用父类的构造函数\n",
    "        super().__init__()\n",
    "        # 在构造函数中定义网络层\n",
    "        self.linear = nn.Linear(in_features=10, out_features=5)\n",
    "\n",
    "    def forward(self, x):\n",
    "        # 在forward方法中定义数据如何通过网络层\n",
    "        return self.linear(x)\n",
    "\n",
    "# 实例化模型\n",
    "my_model = MyModel()\n",
    "print(\"--- 成功创建自定义模型 ---\")\n",
    "print(my_model)\n",
    "\n",
    "# 创建一个模拟输入并进行前向传播\n",
    "input_tensor = torch.randn(4, 10)\n",
    "print(\"\\n--- 模型输入形状 ---\")\n",
    "print(input_tensor.shape)\n",
    "output = my_model(input_tensor)\n",
    "print(\"\\n--- 模型输出 ---\")\n",
    "print(f\"输出形状: {output.shape}\")"
   ]
  },
  {
   "cell_type": "markdown",
   "metadata": {},
   "source": [
    "#### 67. 使用 nn.Sequential 快速搭建 MLP (★★☆)\n",
    "\n",
    "任务：使用 nn.Sequential 容器构建一个三层的多层感知机（MLP）：Linear(64->32) -> ReLU -> Linear(32->16)。创建一个 (4, 64) 的批量数据，通过该模型并检查输出形状。"
   ]
  },
  {
   "cell_type": "code",
   "execution_count": 69,
   "metadata": {},
   "outputs": [
    {
     "name": "stdout",
     "output_type": "stream",
     "text": [
      "--- 使用Sequential搭建的MLP ---\n",
      "Sequential(\n",
      "  (0): Linear(in_features=64, out_features=32, bias=True)\n",
      "  (1): ReLU()\n",
      "  (2): Linear(in_features=32, out_features=16, bias=True)\n",
      ")\n",
      "\n",
      "--- 模型输出 ---\n",
      "输出形状: torch.Size([4, 16])\n"
     ]
    }
   ],
   "source": [
    "# 使用 nn.Sequential 快速搭建 MLP\n",
    "mlp_sequential = nn.Sequential(\n",
    "    nn.Linear(64, 32),\n",
    "    nn.ReLU(),\n",
    "    nn.Linear(32, 16)\n",
    ")\n",
    "\n",
    "print(\"--- 使用Sequential搭建的MLP ---\")\n",
    "print(mlp_sequential)\n",
    "\n",
    "# 创建批量数据并进行前向传播\n",
    "batch_data = torch.randn(4, 64)\n",
    "output = mlp_sequential(batch_data)\n",
    "print(\"\\n--- 模型输出 ---\")\n",
    "print(f\"输出形状: {output.shape}\")"
   ]
  },
  {
   "cell_type": "markdown",
   "metadata": {},
   "source": [
    "#### 68. 深入参数：访问与初始化 (★★☆)\n",
    "\n",
    "任务：实例化一个 nn.Linear(128, 64) 层。使用 .named_parameters() 遍历其参数，然后使用 nn.init.kaiming_normal_ 对其权重进行 Kaiming 初始化，并使用 nn.init.zeros_ 将偏置初始化为零。"
   ]
  },
  {
   "cell_type": "code",
   "execution_count": 75,
   "metadata": {},
   "outputs": [
    {
     "name": "stdout",
     "output_type": "stream",
     "text": [
      "--- 初始化前的权重 (部分) ---\n",
      "tensor([ 0.0176,  0.0263, -0.0406, -0.0731,  0.0691])\n",
      "\n",
      "--- 初始化后的权重 (部分) ---\n",
      "tensor([-0.2103,  0.0391, -0.0225, -0.0606, -0.1836])\n",
      "torch.Size([64, 128])\n",
      "--- 初始化后的偏置 ---\n",
      "tensor([0., 0., 0., 0., 0., 0., 0., 0., 0., 0., 0., 0., 0., 0., 0., 0., 0., 0., 0., 0., 0., 0., 0., 0.,\n",
      "        0., 0., 0., 0., 0., 0., 0., 0., 0., 0., 0., 0., 0., 0., 0., 0., 0., 0., 0., 0., 0., 0., 0., 0.,\n",
      "        0., 0., 0., 0., 0., 0., 0., 0., 0., 0., 0., 0., 0., 0., 0., 0.])\n"
     ]
    }
   ],
   "source": [
    "linear_layer = nn.Linear(128, 64)\n",
    "print(\"--- 初始化前的权重 (部分) ---\")\n",
    "print(linear_layer.weight.data[0, :5])\n",
    "\n",
    "# 遍历参数并进行自定义初始化\n",
    "for name, param in linear_layer.named_parameters():\n",
    "    if 'weight' in name:\n",
    "        nn.init.kaiming_normal_(param, mode='fan_in', nonlinearity='relu')\n",
    "    elif 'bias' in name:\n",
    "        nn.init.zeros_(param)\n",
    "\n",
    "print(\"\\n--- 初始化后的权重 (部分) ---\")\n",
    "print(linear_layer.weight.data[0, :5])\n",
    "print(linear_layer.weight.data.shape) # 权重矩阵的形状为 (output_dim, input_dim)\n",
    "print(\"--- 初始化后的偏置 ---\")\n",
    "print(linear_layer.bias.data)"
   ]
  },
  {
   "cell_type": "markdown",
   "metadata": {},
   "source": [
    "#### 69. 激活函数及其梯度的可视化比较 (★★★)\n",
    "\n",
    "任务：创建一个从-5到5的、长度为100的、requires_grad=True 的等差向量。分别计算其通过 nn.ReLU, nn.Sigmoid, nn.Tanh 后的输出。然后，对每个输出执行 .sum().backward()，并可视化（或打印）原始张量对应的梯度。比较并解释不同激活函数的梯度特性（例如梯度消失、饱和区）。\n",
    "\n",
    "提示：这可以帮助理解为什么ReLU在深度网络中更受欢迎。"
   ]
  },
  {
   "cell_type": "code",
   "execution_count": null,
   "metadata": {},
   "outputs": [
    {
     "data": {
      "image/png": "[encoded data removed]",
      "text/plain": [
       "<Figure size 1400x600 with 2 Axes>"
      ]
     },
     "metadata": {},
     "output_type": "display_data"
    },
    {
     "name": "stdout",
     "output_type": "stream",
     "text": [
      "观察梯度图：\n",
      "- ReLU的梯度是常数1（正区域）或0（负区域），简单有效但可能导致神经元死亡。\n",
      "- Sigmoid和Tanh在饱和区（输入绝对值较大时）梯度接近于0，容易引发梯度消失问题。\n"
     ]
    }
   ],
   "source": [
    "# 69. 激活函数及其梯度的可视化比较\n",
    "import matplotlib.pyplot as plt\n",
    "\n",
    "# 创建需要梯度的输入张量\n",
    "x = torch.linspace(-5, 5, 100, requires_grad=True)\n",
    "\n",
    "# 定义激活函数\n",
    "relu = nn.ReLU()\n",
    "sigmoid = nn.Sigmoid()\n",
    "tanh = nn.Tanh()\n",
    "\n",
    "# 计算输出\n",
    "y_relu = relu(x)\n",
    "y_sigmoid = sigmoid(x)\n",
    "y_tanh = tanh(x)\n",
    "\n",
    "# 计算梯度\n",
    "# backward()会累加梯度，所以每次计算前需要清零\n",
    "y_relu.sum().backward(retain_graph=True) # 保留计算图，以便多次调用backward()\n",
    "grad_relu = x.grad.clone()\n",
    "x.grad.zero_()\n",
    "\n",
    "y_sigmoid.sum().backward(retain_graph=True)\n",
    "grad_sigmoid = x.grad.clone()\n",
    "x.grad.zero_()\n",
    "\n",
    "y_tanh.sum().backward(retain_graph=True)\n",
    "grad_tanh = x.grad.clone()\n",
    "x.grad.zero_()\n",
    "\n",
    "\n",
    "# 可视化\n",
    "plt.figure(figsize=(14, 6))\n",
    "\n",
    "plt.subplot(1, 2, 1)\n",
    "plt.plot(x.detach(), y_relu.detach(), label='ReLU')\n",
    "plt.plot(x.detach(), y_sigmoid.detach(), label='Sigmoid')\n",
    "plt.plot(x.detach(), y_tanh.detach(), label='Tanh')\n",
    "plt.title('Activation Functions')\n",
    "plt.legend()\n",
    "plt.grid(True)\n",
    "\n",
    "plt.subplot(1, 2, 2)\n",
    "plt.plot(x.detach(), grad_relu, label='ReLU Gradient')\n",
    "plt.plot(x.detach(), grad_sigmoid, label='Sigmoid Gradient')\n",
    "plt.plot(x.detach(), grad_tanh, label='Tanh Gradient')\n",
    "plt.title('Gradients of Activation Functions')\n",
    "plt.legend()\n",
    "plt.grid(True)\n",
    "\n",
    "plt.show()\n",
    "\n",
    "print(\"观察梯度图：\\n- ReLU的梯度是常数1（正区域）或0（负区域），简单有效但可能导致神经元死亡。\\n- Sigmoid和Tanh在饱和区（输入绝对值较大时）梯度接近于0，容易引发梯度消失问题。\")"
   ]
  },
  {
   "cell_type": "markdown",
   "metadata": {},
   "source": [
    "#### 70. 分类输出层：Softmax vs LogSoftmax (★★☆)\n",
    "\n",
    "任务：创建一个 (4, 5) 的随机张量，模拟4个样本在5个类别上的logits。分别通过 nn.Softmax(dim=1) 和 nn.LogSoftmax(dim=1)，解释两者输出的含义及其在损失函数（如 nn.CrossEntropyLoss 和 nn.NLLLoss）中的不同用法。"
   ]
  },
  {
   "cell_type": "code",
   "execution_count": 93,
   "metadata": {},
   "outputs": [
    {
     "name": "stdout",
     "output_type": "stream",
     "text": [
      "--- Softmax 输出 (概率) ---\n",
      "tensor([[0.0708, 0.1529, 0.3074, 0.0737, 0.3952],\n",
      "        [0.0533, 0.0914, 0.0202, 0.6432, 0.1919],\n",
      "        [0.0709, 0.3924, 0.4420, 0.0386, 0.0560],\n",
      "        [0.1420, 0.4800, 0.0906, 0.1841, 0.1033]])\n",
      "第一行的概率和: 1.0000\n",
      "\n",
      "--- LogSoftmax 输出 (对数概率) ---\n",
      "tensor([[-2.6473, -1.8782, -1.1797, -2.6083, -0.9282],\n",
      "        [-2.9317, -2.3921, -3.9014, -0.4413, -1.6509],\n",
      "        [-2.6469, -0.9354, -0.8164, -3.2533, -2.8822],\n",
      "        [-1.9517, -0.7340, -2.4011, -1.6924, -2.2700]])\n",
      "LogSoftmax的输出等价于 torch.log(probabilities)。它常与nn.NLLLoss配合使用，而nn.CrossEntropyLoss内部已集成了LogSoftmax。\n"
     ]
    }
   ],
   "source": [
    "logits = torch.randn(4, 5)\n",
    "\n",
    "# 实例化对象\n",
    "softmax_fn = nn.Softmax(dim=1)\n",
    "log_softmax_fn = nn.LogSoftmax(dim=1)\n",
    "\n",
    "# Softmax将logits转换为概率分布\n",
    "probabilities = softmax_fn(logits)\n",
    "print(\"--- Softmax 输出 (概率) ---\")\n",
    "print(probabilities)\n",
    "print(f\"第一行的概率和: {probabilities[0].sum():.4f}\") # 验证和为1\n",
    "\n",
    "# LogSoftmax输出概率的对数，用于配合NLLLoss，数值更稳定\n",
    "log_probabilities = log_softmax_fn(logits)\n",
    "print(\"\\n--- LogSoftmax 输出 (对数概率) ---\")\n",
    "print(log_probabilities)\n",
    "print(\"LogSoftmax的输出等价于 torch.log(probabilities)。它常与nn.NLLLoss配合使用，而nn.CrossEntropyLoss内部已集成了LogSoftmax。\")"
   ]
  },
  {
   "cell_type": "markdown",
   "metadata": {},
   "source": [
    "#### 71. nn.Conv2d 核心参数：步幅与填充 (★★☆)\n",
    "\n",
    "任务：创建一个 nn.Conv2d 层（in=3, out=16, kernel=5, stride=2, padding=2）。对于一个 (4, 3, 64, 64) 的输入图像批次，先通过该卷积层，然后计算并验证输出特征图的形状。\n",
    "\n",
    "$$H_{out} = \\lfloor\\frac{H_{in} + 2 \\times padding - dilation \\times (kernel\\_size - 1) - 1}{stride} + 1\\rfloor$$\n",
    "\n",
    "$$W_{out} = \\lfloor\\frac{W_{in} + 2 \\times padding - dilation \\times (kernel\\_size - 1) - 1}{stride} + 1\\rfloor$$"
   ]
  },
  {
   "cell_type": "code",
   "execution_count": 96,
   "metadata": {},
   "outputs": [
    {
     "name": "stdout",
     "output_type": "stream",
     "text": [
      "--- 实际输入尺寸:  (4, 3, 64, 64) ---\n",
      "--- 理论输出尺寸:  (4, 16, 32, 32) ---\n",
      "\n",
      "--- 实际输出形状 ---\n",
      "torch.Size([4, 16, 32, 32])\n"
     ]
    }
   ],
   "source": [
    "# Conv2d 核心参数\n",
    "conv_layer = nn.Conv2d(in_channels=3, out_channels=16, kernel_size=5, stride=2, padding=2)\n",
    "input_image = torch.randn(4, 3, 64, 64)\n",
    "\n",
    "# 手动计算输出尺寸: H_out = floor((H_in + 2*Padding - Kernel) / Stride + 1)\n",
    "# H_out = floor((64 + 2*2 - 5) / 2 + 1) = floor(31.5 + 1) = 32\n",
    "print(\"--- 实际输入尺寸:  (4, 3, 64, 64) ---\")\n",
    "print(\"--- 理论输出尺寸:  (4, 16, 32, 32) ---\")\n",
    "\n",
    "output_feature_map = conv_layer(input_image)\n",
    "\n",
    "print(\"\\n--- 实际输出形状 ---\")\n",
    "print(output_feature_map.shape)"
   ]
  }
 ],
 "metadata": {
  "kernelspec": {
   "display_name": "torch",
   "language": "python",
   "name": "python3"
  },
  "language_info": {
   "codemirror_mode": {
    "name": "ipython",
    "version": 3
   },
   "file_extension": ".py",
   "mimetype": "text/x-python",
   "name": "python",
   "nbconvert_exporter": "python",
   "pygments_lexer": "ipython3",
   "version": "3.9.21"
  }
 },
 "nbformat": 4,
 "nbformat_minor": 2
}
